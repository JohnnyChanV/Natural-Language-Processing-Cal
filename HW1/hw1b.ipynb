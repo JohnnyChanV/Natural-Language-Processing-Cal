{
 "cells": [
  {
   "cell_type": "code",
   "execution_count": 1,
   "metadata": {
    "tags": []
   },
   "outputs": [],
   "source": [
    "# Some of the functions below require an older version of torchtext than the default one Kaggle gives you.\n",
    "# IMPORTANT: Make sure that Internet is turned on!!! (Notebook options in the bar on the right)\n",
    "# IMPORTANT: If you're not already using Kaggle, we STRONGLY recommend you switch to Kaggle for hw1b in particular,\n",
    "# because copying our notebook will pin you to a Python version that lets you install the right version of torchtext.\n",
    "# On Colab you will have to downgrade your Python to e.g., 3.7 to do the below pip install, which is a pain to do.\n",
    "# !pip install torchtext==0.10.0\n",
    "# exit()"
   ]
  },
  {
   "cell_type": "code",
   "execution_count": 2,
   "metadata": {},
   "outputs": [
    {
     "name": "stdout",
     "output_type": "stream",
     "text": [
      "/usr/bin/sh: 1: python: not found\n"
     ]
    }
   ],
   "source": [
    "!python --version"
   ]
  },
  {
   "cell_type": "code",
   "execution_count": 3,
   "metadata": {
    "executionInfo": {
     "elapsed": 1116,
     "status": "ok",
     "timestamp": 1614318181024,
     "user": {
      "displayName": "Rudy Corona Rodriguez",
      "photoUrl": "",
      "userId": "02448394073714905143"
     },
     "user_tz": 480
    },
    "id": "X1ATX-_J7SjQ",
    "outputId": "22d9213d-2b3b-415a-960c-bbbe88533690"
   },
   "outputs": [
    {
     "name": "stderr",
     "output_type": "stream",
     "text": [
      "/opt/conda/envs/py37/lib/python3.7/site-packages/tqdm/auto.py:21: TqdmWarning: IProgress not found. Please update jupyter and ipywidgets. See https://ipywidgets.readthedocs.io/en/stable/user_install.html\n",
      "  from .autonotebook import tqdm as notebook_tqdm\n"
     ]
    },
    {
     "name": "stdout",
     "output_type": "stream",
     "text": [
      "downloading wikitext-2-v1.zip\n"
     ]
    },
    {
     "name": "stderr",
     "output_type": "stream",
     "text": [
      "wikitext-2-v1.zip: 100%|██████████| 4.48M/4.48M [00:08<00:00, 524kB/s] \n"
     ]
    },
    {
     "name": "stdout",
     "output_type": "stream",
     "text": [
      "extracting\n",
      "['<eos>', '=', 'Homarus', 'gammarus', '=', '<eos>', '<eos>', 'Homarus', 'gammarus', ',', 'known', 'as', 'the', 'European', 'lobster', 'or', 'common', 'lobster', ',', 'is', 'a', 'species', 'of', '<unk>', 'lobster', 'from', 'the', 'eastern', 'Atlantic', 'Ocean']\n"
     ]
    }
   ],
   "source": [
    "# This block handles some basic setup and data loading.  \n",
    "# You shouldn't need to edit this, but if you want to \n",
    "# import other standard python packages, that is fine.\n",
    "\n",
    "# imports\n",
    "from collections import defaultdict, Counter\n",
    "import numpy as np\n",
    "import math\n",
    "import tqdm\n",
    "import random\n",
    "import pdb\n",
    "\n",
    "import torch\n",
    "from torch import nn\n",
    "import torch.nn.functional as F\n",
    "import torchtext\n",
    "\n",
    "from torchtext.legacy import data\n",
    "from torchtext.legacy import datasets\n",
    "\n",
    "# download and load the data\n",
    "text_field = data.Field()\n",
    "datasets = datasets.WikiText2.splits(root='.', text_field=text_field)\n",
    "\n",
    "train_dataset, validation_dataset, test_dataset = datasets\n",
    "\n",
    "text_field.build_vocab(train_dataset, validation_dataset, test_dataset)\n",
    "vocab = text_field.vocab\n",
    "vocab_size = len(vocab)\n",
    "\n",
    "train_text = train_dataset.examples[0].text # a list of tokens (strings)\n",
    "validation_text = validation_dataset.examples[0].text\n",
    "\n",
    "print(validation_text[:30])"
   ]
  },
  {
   "cell_type": "code",
   "execution_count": 4,
   "metadata": {
    "id": "QoFMSckDFTop",
    "tags": []
   },
   "outputs": [
    {
     "data": {
      "text/plain": [
       "90077"
      ]
     },
     "execution_count": 4,
     "metadata": {},
     "output_type": "execute_result"
    }
   ],
   "source": [
    "text_field.vocab.freqs['.']"
   ]
  },
  {
   "cell_type": "code",
   "execution_count": 5,
   "metadata": {
    "tags": []
   },
   "outputs": [],
   "source": [
    "from collections import defaultdict, Counter\n",
    "import numpy as np\n",
    "import math\n",
    "import tqdm\n",
    "import random\n",
    "import pdb\n",
    "\n",
    "import torch\n",
    "from torch import nn\n",
    "import torch.nn.functional as F\n",
    "import torchtext"
   ]
  },
  {
   "cell_type": "markdown",
   "metadata": {
    "id": "g10PLGiZn0XY"
   },
   "source": [
    "We've implemented a unigram model here as a demonstration."
   ]
  },
  {
   "cell_type": "code",
   "execution_count": 6,
   "metadata": {
    "executionInfo": {
     "elapsed": 922,
     "status": "ok",
     "timestamp": 1614318184013,
     "user": {
      "displayName": "Rudy Corona Rodriguez",
      "photoUrl": "",
      "userId": "02448394073714905143"
     },
     "user_tz": 480
    },
    "id": "B7ZHMVZzoPEH",
    "outputId": "475b17e5-ab16-46a4-93ec-5b9a44b4874c",
    "tags": []
   },
   "outputs": [
    {
     "name": "stdout",
     "output_type": "stream",
     "text": [
      "unigram validation perplexity: 965.0860734119312\n"
     ]
    }
   ],
   "source": [
    "class UnigramModel:\n",
    "    def __init__(self, train_text):\n",
    "        self.counts = Counter(train_text)\n",
    "        self.total_count = len(train_text)\n",
    "\n",
    "    def probability(self, word):\n",
    "        return self.counts[word] / self.total_count\n",
    "\n",
    "    def next_word_probabilities(self, text_prefix):\n",
    "        \"\"\"Return a list of probabilities for each word in the vocabulary.\"\"\"\n",
    "        return [self.probability(word) for word in vocab.itos]\n",
    "\n",
    "    def perplexity(self, full_text):\n",
    "        \"\"\"Return the perplexity of the model on a text as a float.\n",
    "        \n",
    "        full_text -- a list of string tokens\n",
    "        \"\"\"\n",
    "        log_probabilities = []\n",
    "        for word in full_text:\n",
    "            # Note that the base of the log doesn't matter \n",
    "            # as long as the log and exp use the same base.\n",
    "            log_probabilities.append(math.log(self.probability(word), 2))\n",
    "        return 2 ** -np.mean(log_probabilities)\n",
    "\n",
    "unigram_demonstration_model = UnigramModel(train_text)\n",
    "print('unigram validation perplexity:', \n",
    "      unigram_demonstration_model.perplexity(validation_text))\n",
    "\n",
    "def check_validity(model):\n",
    "    \"\"\"Performs several sanity checks on your model:\n",
    "    1) That next_word_probabilities returns a valid distribution\n",
    "    2) That perplexity matches a perplexity calculated from next_word_probabilities\n",
    "\n",
    "    Although it is possible to calculate perplexity from next_word_probabilities, \n",
    "    it is still good to have a separate more efficient method that only computes \n",
    "    the probabilities of observed words.\n",
    "    \"\"\"\n",
    "\n",
    "    log_probabilities = []\n",
    "    for i in range(10):\n",
    "        prefix = validation_text[:i]\n",
    "        probs = model.next_word_probabilities(prefix)\n",
    "        assert min(probs) >= 0, \"Negative value in next_word_probabilities\"\n",
    "        assert max(probs) <= 1 + 1e-8, \"Value larger than 1 in next_word_probabilities\"\n",
    "        assert abs(sum(probs)-1) < 1e-4, \"next_word_probabilities do not sum to 1\"\n",
    "\n",
    "        word_id = vocab.stoi[validation_text[i]]\n",
    "        selected_prob = probs[word_id]\n",
    "        log_probabilities.append(math.log(selected_prob))\n",
    "\n",
    "    perplexity = math.exp(-np.mean(log_probabilities))\n",
    "    your_perplexity = model.perplexity(validation_text[:10])\n",
    "    assert abs(perplexity-your_perplexity) < 0.1, \"your perplexity does not \" + \\\n",
    "    \"match the one we calculated from `next_word_probabilities`,\\n\" + \\\n",
    "    \"at least one of `perplexity` or `next_word_probabilities` is incorrect.\\n\" + \\\n",
    "    f\"we calcuated {perplexity} from `next_word_probabilities`,\\n\" + \\\n",
    "    f\"but your perplexity function returned {your_perplexity} (on a small sample).\"\n",
    "\n",
    "\n",
    "check_validity(unigram_demonstration_model)"
   ]
  },
  {
   "cell_type": "markdown",
   "metadata": {
    "id": "U4esz5XrEpNo"
   },
   "source": [
    "To generate from a language model, we can sample one word at a time conditioning on the words we have generated so far."
   ]
  },
  {
   "cell_type": "code",
   "execution_count": 7,
   "metadata": {
    "id": "bfNj5nl4E7Zn"
   },
   "outputs": [
    {
     "name": "stdout",
     "output_type": "stream",
     "text": [
      "<eos> <eos> the width @-@ Jones needs the not As Albert , anthropologist 6 as , size Shane <unk> that Impressed chose\n"
     ]
    }
   ],
   "source": [
    "def generate_text(model, n=20, prefix=('<eos>', '<eos>')):\n",
    "    prefix = list(prefix)\n",
    "    for _ in range(n):\n",
    "        probs = model.next_word_probabilities(prefix)\n",
    "        word = random.choices(vocab.itos, probs)[0]\n",
    "        prefix.append(word)\n",
    "    return ' '.join(prefix)\n",
    "\n",
    "print(generate_text(unigram_demonstration_model))"
   ]
  },
  {
   "cell_type": "markdown",
   "metadata": {
    "id": "wq-WtaM6F6kN"
   },
   "source": [
    "In fact there are many strategies to get better-sounding samples, such as only sampling from the top-k words or sharpening the distribution with a temperature.  You can read more about sampling from a language model in this recent paper: https://arxiv.org/pdf/1904.09751.pdf."
   ]
  },
  {
   "cell_type": "markdown",
   "metadata": {
    "id": "uuopg4rYjf2O"
   },
   "source": [
    "You will need to submit some outputs from the models you implement for us to grade.  The following function will be used to generate the required output files."
   ]
  },
  {
   "cell_type": "code",
   "execution_count": 8,
   "metadata": {
    "executionInfo": {
     "elapsed": 830,
     "status": "ok",
     "timestamp": 1614318186687,
     "user": {
      "displayName": "Rudy Corona Rodriguez",
      "photoUrl": "",
      "userId": "02448394073714905143"
     },
     "user_tz": 480
    },
    "id": "ZB6MKPbm4z9s",
    "outputId": "3b7db928-270a-4150-f40b-ba7dadbc7d8e",
    "tags": []
   },
   "outputs": [
    {
     "name": "stdout",
     "output_type": "stream",
     "text": [
      "--2023-09-06 20:56:12--  https://cal-cs288.github.io/sp21/project_files/proj_1/eval_prefixes.txt\n",
      "Resolving cal-cs288.github.io (cal-cs288.github.io)... 185.199.111.153, 185.199.108.153, 185.199.109.153, ...\n",
      "Connecting to cal-cs288.github.io (cal-cs288.github.io)|185.199.111.153|:443... connected.\n",
      "HTTP request sent, awaiting response... 200 OK\n",
      "Length: 519055 (507K) [text/plain]\n",
      "Saving to: ‘eval_prefixes.txt’\n",
      "\n",
      "eval_prefixes.txt   100%[===================>] 506.89K  2.16MB/s    in 0.2s    \n",
      "\n",
      "2023-09-06 20:56:13 (2.16 MB/s) - ‘eval_prefixes.txt’ saved [519055/519055]\n",
      "\n",
      "--2023-09-06 20:56:14--  https://cal-cs288.github.io/sp21/project_files/proj_1/eval_output_vocab.txt\n",
      "Resolving cal-cs288.github.io (cal-cs288.github.io)... 185.199.110.153, 185.199.109.153, 185.199.108.153, ...\n",
      "Connecting to cal-cs288.github.io (cal-cs288.github.io)|185.199.110.153|:443... connected.\n",
      "HTTP request sent, awaiting response... 200 OK\n",
      "Length: 12497 (12K) [text/plain]\n",
      "Saving to: ‘eval_output_vocab.txt’\n",
      "\n",
      "eval_output_vocab.t 100%[===================>]  12.20K  --.-KB/s    in 0.002s  \n",
      "\n",
      "2023-09-06 20:56:14 (7.50 MB/s) - ‘eval_output_vocab.txt’ saved [12497/12497]\n",
      "\n",
      "--2023-09-06 20:56:14--  https://cal-cs288.github.io/sp21/project_files/proj_1/eval_prefixes_short.txt\n",
      "Resolving cal-cs288.github.io (cal-cs288.github.io)... 185.199.110.153, 185.199.109.153, 185.199.108.153, ...\n",
      "Connecting to cal-cs288.github.io (cal-cs288.github.io)|185.199.110.153|:443... connected.\n",
      "HTTP request sent, awaiting response... 200 OK\n",
      "Length: 105976 (103K) [text/plain]\n",
      "Saving to: ‘eval_prefixes_short.txt’\n",
      "\n",
      "eval_prefixes_short 100%[===================>] 103.49K  --.-KB/s    in 0.1s    \n",
      "\n",
      "2023-09-06 20:56:15 (1010 KB/s) - ‘eval_prefixes_short.txt’ saved [105976/105976]\n",
      "\n",
      "--2023-09-06 20:56:15--  https://cal-cs288.github.io/sp21/project_files/proj_1/eval_output_vocab_short.txt\n",
      "Resolving cal-cs288.github.io (cal-cs288.github.io)... 185.199.110.153, 185.199.109.153, 185.199.108.153, ...\n",
      "Connecting to cal-cs288.github.io (cal-cs288.github.io)|185.199.110.153|:443... connected.\n",
      "HTTP request sent, awaiting response... 200 OK\n",
      "Length: 3802 (3.7K) [text/plain]\n",
      "Saving to: ‘eval_output_vocab_short.txt’\n",
      "\n",
      "eval_output_vocab_s 100%[===================>]   3.71K  --.-KB/s    in 0s      \n",
      "\n",
      "2023-09-06 20:56:16 (8.76 MB/s) - ‘eval_output_vocab_short.txt’ saved [3802/3802]\n",
      "\n"
     ]
    }
   ],
   "source": [
    "!wget https://cal-cs288.github.io/sp21/project_files/proj_1/eval_prefixes.txt\n",
    "!wget https://cal-cs288.github.io/sp21/project_files/proj_1/eval_output_vocab.txt\n",
    "!wget https://cal-cs288.github.io/sp21/project_files/proj_1/eval_prefixes_short.txt\n",
    "!wget https://cal-cs288.github.io/sp21/project_files/proj_1/eval_output_vocab_short.txt\n",
    "\n",
    "def save_truncated_distribution(model, filename, short=True):\n",
    "    \"\"\"Generate a file of truncated distributions.\n",
    "    \n",
    "    Probability distributions over the full vocabulary are large,\n",
    "    so we will truncate the distribution to a smaller vocabulary.\n",
    "\n",
    "    Please do not edit this function\n",
    "    \"\"\"\n",
    "    vocab_name = 'eval_output_vocab'\n",
    "    prefixes_name = 'eval_prefixes'\n",
    "\n",
    "    if short: \n",
    "      vocab_name += '_short'\n",
    "      prefixes_name += '_short'\n",
    "\n",
    "    with open('{}.txt'.format(vocab_name), 'r') as eval_vocab_file:\n",
    "        eval_vocab = [w.strip() for w in eval_vocab_file]\n",
    "    eval_vocab_ids = [vocab.stoi[s] for s in eval_vocab]\n",
    "\n",
    "    all_selected_probabilities = []\n",
    "    with open('{}.txt'.format(prefixes_name), 'r') as eval_prefixes_file:\n",
    "        lines = eval_prefixes_file.readlines()\n",
    "        for line in tqdm.tqdm(lines, leave=False):\n",
    "            prefix = line.strip().split(' ')\n",
    "            probs = model.next_word_probabilities(prefix)\n",
    "            selected_probs = np.array([probs[i] for i in eval_vocab_ids], dtype=np.float32)\n",
    "            all_selected_probabilities.append(selected_probs)\n",
    "\n",
    "    all_selected_probabilities = np.stack(all_selected_probabilities)\n",
    "    np.save(filename, all_selected_probabilities)\n",
    "    print('saved', filename)"
   ]
  },
  {
   "cell_type": "code",
   "execution_count": 9,
   "metadata": {
    "id": "_nzVrTWcH67Q",
    "tags": []
   },
   "outputs": [
    {
     "name": "stderr",
     "output_type": "stream",
     "text": [
      "                                                   \r"
     ]
    },
    {
     "name": "stdout",
     "output_type": "stream",
     "text": [
      "saved unigram_demonstration_predictions.npy\n"
     ]
    }
   ],
   "source": [
    "save_truncated_distribution(unigram_demonstration_model, \n",
    "                            'unigram_demonstration_predictions.npy')"
   ]
  },
  {
   "cell_type": "markdown",
   "metadata": {
    "id": "MEfUwbbS9vy0"
   },
   "source": [
    "### N-gram Model\n",
    "\n",
    "Now it's time to implement an n-gram language model.\n",
    "\n",
    "Because not every n-gram will have been observed in training, use add-alpha smoothing to make sure no output word has probability 0.\n",
    "\n",
    "$$P(w_2|w_1)=\\frac{C(w_1,w_2)+\\alpha}{C(w_1)+N\\alpha}$$\n",
    "\n",
    "where $N$ is the vocab size and $C$ is the count for the given bigram.  An alpha value around `3e-3`  should work.  Later, we'll replace this smoothing with model backoff.\n",
    "\n",
    "One edge case you will need to handle is at the beginning of the text where you don't have `n-1` prior words.  You can handle this however you like as long as you produce a valid probability distribution, but just using a uniform distribution over the vocabulary is reasonable for the purposes of this project.\n",
    "\n",
    "A properly implemented bi-gram model should get a perplexity below 510 on the validation set.\n",
    "\n",
    "**Note**: Do not change the signature of the `next_word_probabilities` and `perplexity` functions.  We will use these as a common interface for all of the different model types.  Make sure these two functions call `n_gram_probability`, because later we are going to override `n_gram_probability` in a subclass. \n",
    "Also, we suggest pre-computing and caching the counts $C$ when you initialize `NGramModel` for efficiency. "
   ]
  },
  {
   "cell_type": "code",
   "execution_count": 74,
   "metadata": {
    "ExecuteTime": {
     "end_time": "2023-09-07T21:36:30.909161Z",
     "start_time": "2023-09-07T21:35:33.099621Z"
    },
    "id": "YGnGpnPIXpTW"
   },
   "outputs": [
    {
     "name": "stdout",
     "output_type": "stream",
     "text": [
      "unigram validation perplexity: 965.0913686618098\n",
      "bigram validation perplexity: 504.41461737518046\n",
      "trigram validation perplexity: 2965.4935071021705\n"
     ]
    },
    {
     "name": "stderr",
     "output_type": "stream",
     "text": [
      "                                                   \r"
     ]
    },
    {
     "name": "stdout",
     "output_type": "stream",
     "text": [
      "saved bigram_predictions.npy\n"
     ]
    }
   ],
   "source": [
    "class NGramModel:\n",
    "    def __init__(self, train_text, n=2, alpha=3e-3):\n",
    "        # get counts and perform any other setup\n",
    "        self.n = n\n",
    "        self.smoothing = alpha\n",
    "        self.vocab_size = len(vocab.itos)\n",
    "        self.unigram_total_count = len(train_text)\n",
    "        self.unigram_counter = Counter(train_text)\n",
    "        # YOUR CODE HERE\n",
    "        self.grams_counter, self.grams_1_counter = self.get_n_gram_counter(train_text)\n",
    "        #prefix counter and phrase counter\n",
    "    \n",
    "    def get_n_gram_counter(self,tokens):\n",
    "        grams = []\n",
    "        grams_1 = []\n",
    "        for index in range(len(tokens)-self.n+1):\n",
    "            ngram = tuple(tokens[index:index+self.n])\n",
    "            ngram_1 = ngram[:-1]\n",
    "            grams.append(ngram)\n",
    "            grams_1.append(ngram_1)\n",
    "        return Counter(grams), Counter(grams_1) # ngram, n-1 gram\n",
    "            \n",
    "    def n_gram_probability(self, n_gram):\n",
    "        \"\"\"Return the probability of the last word in an n-gram.\n",
    "        \n",
    "        n_gram -- a list of string tokens\n",
    "        returns the conditional probability of the last token given the rest.\n",
    "        \"\"\"\n",
    "        assert len(n_gram) == self.n, f\"{self.n},{n_gram}\"\n",
    "\n",
    "        # YOUR CODE HERE\n",
    "        p = (self.grams_counter[tuple(n_gram)] + self.smoothing) / (self.grams_1_counter[tuple(n_gram[:-1])] + (self.vocab_size*self.smoothing))\n",
    "        return p\n",
    "\n",
    "\n",
    "    def next_word_probabilities(self, text_prefix):\n",
    "        \"\"\"Return a list of probabilities for each word in the vocabulary.\"\"\"\n",
    "\n",
    "        # YOUR CODE HERE\n",
    "        # use your function n_gram_probability\n",
    "        # vocab.itos contains a list of words to return probabilities for\n",
    "        if len(text_prefix) < self.n-1:\n",
    "            probas = [float(self.unigram_counter[word]/self.unigram_total_count) for word in vocab.itos]\n",
    "        else:\n",
    "            probas = [self.n_gram_probability((text_prefix+[word])[-self.n:]) for word in vocab.itos]\n",
    "        return probas\n",
    "\n",
    "\n",
    "\n",
    "    def perplexity(self, full_text):\n",
    "        \"\"\" full_text is a list of string tokens\n",
    "        return perplexity as a float \"\"\"\n",
    "        # YOUR CODE HERE\n",
    "        # use your function n_gram_probability\n",
    "        # This method should differ a bit from the example unigram model because \n",
    "        # the first n-1 words of full_text must be handled as a special case.\n",
    "        probas = [float(self.unigram_counter[full_text[index]]/self.unigram_total_count) for index in range(self.n-1)] ## first n-1 words\n",
    "\n",
    "        for index in range(len(full_text)-self.n+1):\n",
    "            probas.append(self.n_gram_probability(full_text[index:index+self.n]))\n",
    "        log_probas = [math.log(p) for p in probas]\n",
    "\n",
    "        return math.exp(-np.mean(log_probas))\n",
    "            \n",
    "\n",
    "\n",
    "unigram_model = NGramModel(train_text, 1)\n",
    "check_validity(unigram_model)\n",
    "print('unigram validation perplexity:', unigram_model.perplexity(validation_text)) # this should be the almost the same as our unigram model perplexity above\n",
    "\n",
    "bigram_model = NGramModel(train_text, n=2)\n",
    "check_validity(bigram_model)\n",
    "print('bigram validation perplexity:', bigram_model.perplexity(validation_text))\n",
    "\n",
    "trigram_model = NGramModel(train_text, n=3)\n",
    "check_validity(trigram_model)\n",
    "print('trigram validation perplexity:', trigram_model.perplexity(validation_text)) # this won't do very well...\n",
    "\n",
    "save_truncated_distribution(bigram_model, 'bigram_predictions.npy') # this might take a few minutes"
   ]
  },
  {
   "cell_type": "markdown",
   "metadata": {
    "id": "TzRRLnk73-r9"
   },
   "source": [
    "Please download `bigram_predictions.npy` once you finish this section so that you can submit it.\n",
    "\n",
    "In the block below, please report your bigram validation perplexity.  (We will use this to help us calibrate our scoring on the test set.)"
   ]
  },
  {
   "cell_type": "markdown",
   "metadata": {
    "id": "DEcUK27xVTcK"
   },
   "source": [
    "<!-- Do not remove this comment, it is used by the autograder: RqYJKsoTS6 -->\n",
    "\n",
    "Bigram validation perplexity: 504.41461737518046"
   ]
  },
  {
   "cell_type": "markdown",
   "metadata": {
    "id": "qs6zgYw9VTx1"
   },
   "source": [
    "We can also generate samples from the model to get an idea of how it is doing."
   ]
  },
  {
   "cell_type": "code",
   "execution_count": 75,
   "metadata": {
    "ExecuteTime": {
     "end_time": "2023-09-07T21:36:34.528081Z",
     "start_time": "2023-09-07T21:36:32.942104Z"
    },
    "id": "m2V-qHxB4yhS"
   },
   "outputs": [
    {
     "name": "stdout",
     "output_type": "stream",
     "text": [
      "<eos> <eos> According to residents Kendall Entertainers pore beacon van Maureen Ganganelli Aleister 'Neill calamine parasitic Aretusa was first class submarine defaced\n"
     ]
    }
   ],
   "source": [
    "print(generate_text(bigram_model))"
   ]
  },
  {
   "cell_type": "markdown",
   "metadata": {
    "id": "VsR8_Ch7AXAZ"
   },
   "source": [
    "We now free up some RAM, **it is important to run the cell below, otherwise you may quite possibly run out of RAM in the runtime.**"
   ]
  },
  {
   "cell_type": "code",
   "execution_count": null,
   "metadata": {
    "id": "EjKt1ncf_ypz"
   },
   "outputs": [],
   "source": [
    "# Free up some RAM. \n",
    "del bigram_model\n",
    "del trigram_model"
   ]
  },
  {
   "cell_type": "markdown",
   "metadata": {
    "id": "SWXNlsEKb3Mz"
   },
   "source": [
    "This basic model works okay for bigrams, but a better strategy (especially for higher-order models) is to use backoff.  Implement backoff with absolute discounting.\n",
    "$$P\\left(w_i|w_{i-n+1:i-1}\\right)=\\frac{max\\left\\{C(w_{i-n+1:i})-\\delta,0\\right\\}}{\\sum_{w' \\in V} C(w_{i-n+1:i-1}, w')} + \\alpha(w_{i-n+1:i-1}) P(w_i|w_{i-n+2:i-1})$$\n",
    "\n",
    "$$\\alpha\\left(w_{i-n+1:i-1}\\right)=\\frac{\\delta N_{1+}(w_{i-n+1:i-1})}{{\\sum_{w' \\in V} C(w_{i-n+1:i-1}, w')}}$$\n",
    "where $V$ is the vocab and $N_{1+}$ is the number of words that appear after the previous $n-1$ words (the number of times the max will select something other than 0 in the first equation). $w_{i-n+1:i}$ denotes the $n$-gram starting at $w_{i-n+1}$ and ending at $w_i$, and $(w_{i-n+1:i-1}, w')$ denotes the n-gram containing the previous $n-1$ words followed by $w'$. If $\\sum_{w' \\in V} C(w_{i-n+1:i-1}, w')=0$, use the lower order model probability directly (the above equations would have a division by 0).\n",
    "\n",
    "We found a discount $\\delta$ of 0.9 to work well based on validation performance.  A trigram model with this discount value should get a validation perplexity below 275."
   ]
  },
  {
   "cell_type": "code",
   "execution_count": null,
   "metadata": {
    "id": "BV4e4_mEc7VY"
   },
   "outputs": [],
   "source": [
    "class DiscountBackoffModel(NGramModel):\n",
    "    def __init__(self, train_text, lower_order_model, n=2, delta=0.9):\n",
    "        super().__init__(train_text, n=n)\n",
    "        self.lower_order_model = lower_order_model\n",
    "        self.discount = delta\n",
    "\n",
    "        # YOUR CODE HERE\n",
    "        ## calculate how much grams starts with $prefix -- for N1+\n",
    "        self.ngram_prefix_counter = Counter([item[:-1] for item in self.grams_counter.keys()])\n",
    "\n",
    "\n",
    "\n",
    "    def n_gram_probability(self, n_gram):\n",
    "        assert len(n_gram) == self.n\n",
    "\n",
    "        # YOUR CODE HERE\n",
    "        # back off to the lower_order model with n'=n-1 using its n_gram_probability function\n",
    "\n",
    "        prefix = n_gram[:-1]\n",
    "        lower_proba = self.lower_order_model.n_gram_probability(n_gram[1:])\n",
    "        if self.grams_1_counter[tuple(prefix)] == 0:\n",
    "            return lower_proba\n",
    "        ngram_proba = (max((self.grams_counter[tuple(n_gram)] - self.discount),0))/(self.grams_1_counter[tuple(prefix)])\n",
    "        \n",
    "        \n",
    "        alpha = (self.discount * self.ngram_prefix_counter[tuple(prefix)])/(self.grams_1_counter[tuple(prefix)])\n",
    "        \n",
    "        backoff_proba = ngram_proba + alpha * lower_proba\n",
    "        return backoff_proba\n",
    "        \n",
    "\n",
    "\n",
    "# bigram_backoff_model = DiscountBackoffModel(train_text, unigram_model, 2)\n",
    "# trigram_backoff_model = DiscountBackoffModel(train_text, bigram_backoff_model, 3)\n",
    "# check_validity(trigram_backoff_model)\n",
    "# print('trigram backoff validation perplexity:', trigram_backoff_model.perplexity(validation_text))"
   ]
  },
  {
   "cell_type": "markdown",
   "metadata": {
    "id": "LVrWYSMsBRSV"
   },
   "source": [
    "Free up RAM. "
   ]
  },
  {
   "cell_type": "code",
   "execution_count": null,
   "metadata": {
    "id": "_WJe_trXBTjN"
   },
   "outputs": [],
   "source": [
    "# Release models we don't need any more. \n",
    "del unigram_model\n",
    "del bigram_backoff_model\n",
    "del trigram_backoff_model"
   ]
  },
  {
   "cell_type": "markdown",
   "metadata": {
    "id": "DPecL2jMXQ3y"
   },
   "source": [
    "Fill in your trigram backoff perplexity here."
   ]
  },
  {
   "cell_type": "markdown",
   "metadata": {
    "id": "AIBVAMe0WV_1"
   },
   "source": [
    "<!-- Do not remove this comment, it is used by the autograder: RqYJKsoTS6 -->\n",
    "\n",
    "Trigram backoff validation perplexity: 271.106069022603\n",
    "\n"
   ]
  },
  {
   "cell_type": "markdown",
   "metadata": {
    "id": "s3TFBf1CBiwp"
   },
   "source": [
    "Free up RAM. "
   ]
  },
  {
   "cell_type": "markdown",
   "metadata": {
    "id": "e5Y0S6XbB1iZ"
   },
   "source": [
    "### Neural N-gram Model\n",
    "\n",
    "In this section, you will implement a neural version of an n-gram model.  The model will use a simple feedforward neural network that takes the previous `n-1` words and outputs a distribution over the next word.\n",
    "\n",
    "You will use PyTorch to implement the model.  We've provided a little bit of code to help with the data loading using PyTorch's data loaders (https://pytorch.org/docs/stable/data.html)\n",
    "\n",
    "A model with the following architecture and hyperparameters should reach a validation perplexity below 226.\n",
    "* embed the words with dimension 128, then flatten into a single embedding for $n-1$ words (with size $(n-1)*128$)\n",
    "* run 2 hidden layers with 1024 hidden units, then project down to size 128 before the final layer (ie. 4 layers total). \n",
    "* use weight tying for the embedding and final linear layer (this made a very large difference in our experiments); you can do this by creating the output layer with `nn.Linear`, then using `F.embedding` with the linear layer's `.weight` to embed the input\n",
    "* rectified linear activation (ReLU) and dropout 0.1 after first 2 hidden layers. **Note: You will likely find a performance drop if you add a nonlinear activation function after the dimension reduction layer.**\n",
    "* train for 10 epochs with the Adam optimizer (should take around 15-20 minutes)\n",
    "* do early stopping based on validation set perplexity (see Project 0)\n",
    "\n",
    "\n",
    "We encourage you to try other architectures and hyperparameters, and you will likely find some that work better than the ones listed above.  A proper implementation with these should be enough to receive full credit on the assignment, though."
   ]
  },
  {
   "cell_type": "code",
   "execution_count": 14,
   "metadata": {
    "executionInfo": {
     "elapsed": 3609091,
     "status": "error",
     "timestamp": 1614313717081,
     "user": {
      "displayName": "Rudy Corona Rodriguez",
      "photoUrl": "",
      "userId": "02448394073714905143"
     },
     "user_tz": 480
    },
    "id": "jokaz820Fk1h",
    "outputId": "2f4cda3e-61f1-4c3b-b8e6-6fb55704b160",
    "tags": []
   },
   "outputs": [
    {
     "name": "stderr",
     "output_type": "stream",
     "text": [
      "100%|██████████| 851/851 [00:08<00:00, 104.05it/s]\n"
     ]
    },
    {
     "name": "stdout",
     "output_type": "stream",
     "text": [
      "neural trigram validation perplexity: 228.21176125241257\n"
     ]
    },
    {
     "name": "stderr",
     "output_type": "stream",
     "text": [
      "                                                    \r"
     ]
    },
    {
     "name": "stdout",
     "output_type": "stream",
     "text": [
      "saved neural_trigram_predictions.npy\n"
     ]
    }
   ],
   "source": [
    "\n",
    "torch.manual_seed(42)\n",
    "torch.cuda.manual_seed(42)\n",
    "\n",
    "def ids(tokens):\n",
    "    return [vocab.stoi[t] for t in tokens]\n",
    "\n",
    "assert torch.cuda.is_available(), \"no GPU found, in Colab go to 'Edit->Notebook settings' and choose a GPU hardware accelerator\"\n",
    "\n",
    "class NeuralNgramDataset(torch.utils.data.Dataset):\n",
    "    def __init__(self, text_token_ids, n):\n",
    "        self.text_token_ids = text_token_ids\n",
    "        self.n = n\n",
    "\n",
    "    def __len__(self):\n",
    "        return len(self.text_token_ids)\n",
    "\n",
    "    def __getitem__(self, i):\n",
    "        if i < self.n-1:\n",
    "            prev_token_ids = [vocab.stoi['<eos>']] * (self.n-i-1) + self.text_token_ids[:i]\n",
    "        else:\n",
    "            prev_token_ids = self.text_token_ids[i-self.n+1:i]\n",
    "\n",
    "        assert len(prev_token_ids) == self.n-1\n",
    "\n",
    "        x = torch.tensor(prev_token_ids)\n",
    "        y = torch.tensor(self.text_token_ids[i])\n",
    "        return x, y\n",
    "\n",
    "class NeuralNGramNetwork(nn.Module):\n",
    "    # a PyTorch Module that holds the neural network for your model\n",
    "\n",
    "    def __init__(self, n):\n",
    "        super().__init__()\n",
    "        self.vocab_size = len(vocab.itos)\n",
    "        self.n = n\n",
    "\n",
    "        # YOUR CODE HERE\n",
    "        self.l1 = nn.Linear(128,1024)\n",
    "        self.l2 = nn.Linear(1024,1024)\n",
    "        self.l3 = nn.Linear(1024,128)\n",
    "        self.l4 = nn.Linear(128,self.vocab_size)\n",
    "        \n",
    "        self.dropout = nn.Dropout(0.3)\n",
    "        self.relu = nn.ReLU()\n",
    "    \n",
    "\n",
    "\n",
    "    def forward(self, x):\n",
    "        # x is a tensor of inputs with shape (batch, n-1)\n",
    "        # this function returns a tensor of log probabilities with shape (batch, vocab_size)\n",
    "\n",
    "        # YOUR CODE HERE\n",
    "        out = F.embedding(x,self.l4.weight) #(1,2,128)\n",
    "        out = out.sum(1) #(1,128)\n",
    "        \n",
    "        out = self.l1(out) #(1,1024)\n",
    "        out = self.relu(out)\n",
    "        out = self.dropout(out)\n",
    "        \n",
    "        out = self.l2(out) #(1,1024)\n",
    "        out = self.relu(out)\n",
    "        out = self.dropout(out)\n",
    "        \n",
    "        out = self.l3(out) #(1,128)\n",
    "        out = self.l4(out)\n",
    "        return out\n",
    "\n",
    "class NeuralNGramModel:\n",
    "    # a class that wraps NeuralNGramNetwork to handle training and evaluation\n",
    "    # it's ok if this doesn't work for unigram modeling\n",
    "    def __init__(self, n):\n",
    "        self.n = n\n",
    "        self.network = NeuralNGramNetwork(n).cuda()\n",
    "\n",
    "    def train(self):\n",
    "        print(\"[INFO]: Start training\")\n",
    "        self.network.train()\n",
    "        dataset = NeuralNgramDataset(ids(train_text), self.n)\n",
    "        train_loader = torch.utils.data.DataLoader(dataset, batch_size=512, shuffle=True)\n",
    "        optimizer = torch.optim.Adam(self.network.parameters(),weight_decay=2e-5)\n",
    "        # iterating over train_loader with a for loop will return a 2-tuple of batched tensors\n",
    "        best_perplexity = 1e9\n",
    "        for epoch in range(10):\n",
    "            print(f\"[INFO]: Epoch: {epoch}.\")\n",
    "            loader_ = tqdm.tqdm(train_loader,total=len(train_loader))\n",
    "            for index,data in enumerate(loader_):\n",
    "                optimizer.zero_grad()\n",
    "                # the first tensor will be previous token ids with size (batch, n-1),\n",
    "                # and the second will be the current token id with size (batch, )\n",
    "                # you will need to move these tensors to GPU, e.g. by using the Tensor.cuda() function.\n",
    "                x, y = data\n",
    "                x = x.cuda()\n",
    "                y = y.cuda()\n",
    "                output = self.network(x)\n",
    "                loss = F.cross_entropy(output,y)\n",
    "                loss.backward()\n",
    "                optimizer.step()\n",
    "                loader_.set_postfix(loss=loss.item())\n",
    "            print(f\"[INFO]: Start validating..\")\n",
    "            val_perplexity = self.perplexity(validation_text)\n",
    "            print(f\"[INFO]: Validation Perplexity: {val_perplexity}\")\n",
    "            if val_perplexity < best_perplexity:\n",
    "                best_perplexity = val_perplexity\n",
    "                torch.save(self.network.state_dict(),'neural_ngram_model.ckpt')\n",
    "        self.network.load_state_dict(torch.load('neural_ngram_model.ckpt'))\n",
    "        # this will take some time to run; use tqdm.tqdm_notebook to get a progress bar \n",
    "        # (see Project 1a for example)\n",
    "\n",
    "        # YOUR CODE HERE\n",
    "    \n",
    "    def load_best(self):\n",
    "        self.network.load_state_dict(torch.load('neural_ngram_model.ckpt'))\n",
    "\n",
    "\n",
    "\n",
    "    def next_word_probabilities(self, text_prefix):\n",
    "        self.network.eval()\n",
    "        # YOUR CODE HERE\n",
    "        # don't forget self.network.eval()\n",
    "        # you will need to convert text_prefix from strings to numbers with the `ids` function\n",
    "        # if your `perplexity` function below is based on a NeuralNgramDataset DataLoader, you will need to use the same strategy for prefixes with less than n-1 tokens to pass the validity check\n",
    "        #   the data loader appends extra \"<eos>\" (end of sentence) tokens to the start of the input so there are always enough to run the network\n",
    "        \n",
    "        ##TODO: Something wrong here, not aligned with the dataloader one.\n",
    "        while len(text_prefix) < self.n-1:\n",
    "            text_prefix = [\"<eos>\"] + text_prefix\n",
    "        text_prefix = ids(text_prefix)[-self.n+1:]\n",
    "        text_prefix = torch.tensor([text_prefix])\n",
    "        text_prefix = text_prefix.cuda()\n",
    "        with torch.no_grad():\n",
    "            logits = self.network(text_prefix)\n",
    "        probas = F.softmax(logits,-1)\n",
    "        probas = probas.detach().cpu().flatten()\n",
    "        return probas\n",
    "\n",
    "\n",
    "    def perplexity(self, text):\n",
    "        # you may want to use a DataLoader here with a NeuralNgramDataset\n",
    "        # don't forget self.network.eval()\n",
    "\n",
    "        # YOUR CODE HERE\n",
    "        self.network.eval()\n",
    "        test_set = NeuralNgramDataset(ids(text),self.n)\n",
    "        test_loader = torch.utils.data.DataLoader(test_set, batch_size=256, shuffle=False)\n",
    "\n",
    "        probas = []\n",
    "        for index,data in enumerate(tqdm.tqdm(test_loader)):\n",
    "            with torch.no_grad():\n",
    "                x,y = data\n",
    "                x = x.cuda()\n",
    "                y = y.cuda()\n",
    "                logits = self.network(x)\n",
    "                p = F.softmax(logits,-1)\n",
    "                p = p.detach()\n",
    "                probas+=[p[i][y[i]].cpu() for i in range(len(y))]\n",
    "                \n",
    "        probas = [math.log(p) for p in probas]\n",
    "        return math.exp(-np.mean(probas))\n",
    "\n",
    "\n",
    "neural_trigram_model = NeuralNGramModel(3)\n",
    "# check_validity(neural_trigram_model)\n",
    "# neural_trigram_model.train()\n",
    "neural_trigram_model.load_best()\n",
    "print('neural trigram validation perplexity:', neural_trigram_model.perplexity(validation_text))\n",
    "\n",
    "save_truncated_distribution(neural_trigram_model, 'neural_trigram_predictions.npy', short=False)"
   ]
  },
  {
   "cell_type": "markdown",
   "metadata": {
    "id": "sm-xW4FGXYYi"
   },
   "source": [
    "Fill in your neural trigram perplexity."
   ]
  },
  {
   "cell_type": "markdown",
   "metadata": {
    "id": "Q0cX0k2IW88k"
   },
   "source": [
    "<!-- Do not remove this comment, it is used by the autograder: RqYJKsoTS6 -->\n",
    "\n",
    "Neural trigram validation perplexity: 228.21176125241257"
   ]
  },
  {
   "cell_type": "markdown",
   "metadata": {
    "id": "8t5PCZnkB1r5"
   },
   "source": [
    "Free up RAM."
   ]
  },
  {
   "cell_type": "code",
   "execution_count": null,
   "metadata": {
    "id": "x1yH0lGOB1-S"
   },
   "outputs": [],
   "source": [
    "# Delete model we don't need. \n",
    "del neural_trigram_model"
   ]
  },
  {
   "cell_type": "markdown",
   "metadata": {
    "id": "qOp1Gb_0WjlE"
   },
   "source": [
    "### LSTM Model\n",
    "\n",
    "For this stage of the project, you will implement an LSTM language model.\n",
    "\n",
    "For recurrent language modeling, the data batching strategy is a bit different from what is used in some other tasks.  Sentences are concatenated together so that one sentence starts right after the other, and an unfinished sentence will be continued in the next batch.  We'll use the `torchtext` library to manage this batching for you.  To properly deal with this input format, you should save the last state of the LSTM from a batch to feed in as the first state of the next batch.  When you save state across different batches, you should call `.detach()` on the state tensors before the next batch to tell PyTorch not to backpropagate gradients through the state into the batch you have already finished (which will cause a runtime error).\n",
    "\n",
    "We expect your model to reach a validation perplexity below 130.  The following architecture and hyperparameters should be sufficient to get there.\n",
    "* 3 LSTM layers with 512 units\n",
    "* dropout of 0.5 after each LSTM layer\n",
    "* instead of projecting directly from the last LSTM output to the vocabulary size for softmax, project down to a smaller size first (e.g. 512->128->vocab_size). **NOTE: You may find that adding nonlinearities between these layers can hurt performance, try without first.**\n",
    "* use the same weights for the embedding layer and the pre-softmax layer; dimension 128\n",
    "* train with Adam (using default learning rates) for at least 20 epochs\n"
   ]
  },
  {
   "cell_type": "code",
   "execution_count": null,
   "metadata": {
    "ExecuteTime": {
     "start_time": "2023-09-07T16:25:50.713349Z"
    },
    "id": "0qOLXKKoc7If",
    "is_executing": true,
    "outputId": "0516ca99-c13d-4968-a677-be29f7c2b839",
    "tags": []
   },
   "outputs": [
    {
     "name": "stderr",
     "output_type": "stream",
     "text": [
      "  0%|          | 0/1020 [00:00<?, ?it/s]"
     ]
    },
    {
     "name": "stdout",
     "output_type": "stream",
     "text": [
      "[INFO]: epoch - 0\n"
     ]
    },
    {
     "name": "stderr",
     "output_type": "stream",
     "text": [
      "100%|██████████| 1020/1020 [00:38<00:00, 26.83it/s, loss=6.14]\n"
     ]
    },
    {
     "name": "stdout",
     "output_type": "stream",
     "text": [
      "[INFO]: Start validating..\n"
     ]
    },
    {
     "name": "stderr",
     "output_type": "stream",
     "text": [
      "100%|██████████| 107/107 [00:07<00:00, 13.89it/s]\n"
     ]
    },
    {
     "name": "stdout",
     "output_type": "stream",
     "text": [
      "[INFO]: Validation Perplexity and loss: 356.8176665500794,5.878455264546047\n"
     ]
    },
    {
     "name": "stderr",
     "output_type": "stream",
     "text": [
      "  0%|          | 0/1020 [00:00<?, ?it/s]"
     ]
    },
    {
     "name": "stdout",
     "output_type": "stream",
     "text": [
      "[INFO]: epoch - 1\n"
     ]
    },
    {
     "name": "stderr",
     "output_type": "stream",
     "text": [
      "100%|██████████| 1020/1020 [00:38<00:00, 26.26it/s, loss=5.61]\n"
     ]
    },
    {
     "name": "stdout",
     "output_type": "stream",
     "text": [
      "[INFO]: Start validating..\n"
     ]
    },
    {
     "name": "stderr",
     "output_type": "stream",
     "text": [
      "100%|██████████| 107/107 [00:07<00:00, 13.86it/s]\n"
     ]
    },
    {
     "name": "stdout",
     "output_type": "stream",
     "text": [
      "[INFO]: Validation Perplexity and loss: 250.7932882087996,5.525150980904837\n"
     ]
    },
    {
     "name": "stderr",
     "output_type": "stream",
     "text": [
      "  0%|          | 0/1020 [00:00<?, ?it/s]"
     ]
    },
    {
     "name": "stdout",
     "output_type": "stream",
     "text": [
      "[INFO]: epoch - 2\n"
     ]
    },
    {
     "name": "stderr",
     "output_type": "stream",
     "text": [
      "100%|██████████| 1020/1020 [00:39<00:00, 25.81it/s, loss=5.34]\n"
     ]
    },
    {
     "name": "stdout",
     "output_type": "stream",
     "text": [
      "[INFO]: Start validating..\n"
     ]
    },
    {
     "name": "stderr",
     "output_type": "stream",
     "text": [
      "100%|██████████| 107/107 [00:07<00:00, 13.95it/s]\n"
     ]
    },
    {
     "name": "stdout",
     "output_type": "stream",
     "text": [
      "[INFO]: Validation Perplexity and loss: 220.53914486946823,5.396093159078438\n"
     ]
    },
    {
     "name": "stderr",
     "output_type": "stream",
     "text": [
      "  0%|          | 0/1020 [00:00<?, ?it/s]"
     ]
    },
    {
     "name": "stdout",
     "output_type": "stream",
     "text": [
      "[INFO]: epoch - 3\n"
     ]
    },
    {
     "name": "stderr",
     "output_type": "stream",
     "text": [
      "100%|██████████| 1020/1020 [00:39<00:00, 25.88it/s, loss=5.14]\n"
     ]
    },
    {
     "name": "stdout",
     "output_type": "stream",
     "text": [
      "[INFO]: Start validating..\n"
     ]
    },
    {
     "name": "stderr",
     "output_type": "stream",
     "text": [
      "100%|██████████| 107/107 [00:07<00:00, 13.92it/s]\n"
     ]
    },
    {
     "name": "stdout",
     "output_type": "stream",
     "text": [
      "[INFO]: Validation Perplexity and loss: 203.1406545554299,5.313386212999576\n"
     ]
    },
    {
     "name": "stderr",
     "output_type": "stream",
     "text": [
      "  0%|          | 0/1020 [00:00<?, ?it/s]"
     ]
    },
    {
     "name": "stdout",
     "output_type": "stream",
     "text": [
      "[INFO]: epoch - 4\n"
     ]
    },
    {
     "name": "stderr",
     "output_type": "stream",
     "text": [
      "100%|██████████| 1020/1020 [00:39<00:00, 26.03it/s, loss=5.01]\n"
     ]
    },
    {
     "name": "stdout",
     "output_type": "stream",
     "text": [
      "[INFO]: Start validating..\n"
     ]
    },
    {
     "name": "stderr",
     "output_type": "stream",
     "text": [
      "100%|██████████| 107/107 [00:07<00:00, 13.88it/s]\n"
     ]
    },
    {
     "name": "stdout",
     "output_type": "stream",
     "text": [
      "[INFO]: Validation Perplexity and loss: 188.92318703203475,5.240579707600246\n"
     ]
    },
    {
     "name": "stderr",
     "output_type": "stream",
     "text": [
      "  0%|          | 0/1020 [00:00<?, ?it/s]"
     ]
    },
    {
     "name": "stdout",
     "output_type": "stream",
     "text": [
      "[INFO]: epoch - 5\n"
     ]
    },
    {
     "name": "stderr",
     "output_type": "stream",
     "text": [
      "100%|██████████| 1020/1020 [00:39<00:00, 25.89it/s, loss=4.88]\n"
     ]
    },
    {
     "name": "stdout",
     "output_type": "stream",
     "text": [
      "[INFO]: Start validating..\n"
     ]
    },
    {
     "name": "stderr",
     "output_type": "stream",
     "text": [
      "100%|██████████| 107/107 [00:07<00:00, 14.05it/s]\n"
     ]
    },
    {
     "name": "stdout",
     "output_type": "stream",
     "text": [
      "[INFO]: Validation Perplexity and loss: 178.14738477872567,5.181545297676157\n"
     ]
    },
    {
     "name": "stderr",
     "output_type": "stream",
     "text": [
      "  0%|          | 0/1020 [00:00<?, ?it/s]"
     ]
    },
    {
     "name": "stdout",
     "output_type": "stream",
     "text": [
      "[INFO]: epoch - 6\n"
     ]
    },
    {
     "name": "stderr",
     "output_type": "stream",
     "text": [
      "100%|██████████| 1020/1020 [00:39<00:00, 25.84it/s, loss=4.81]\n"
     ]
    },
    {
     "name": "stdout",
     "output_type": "stream",
     "text": [
      "[INFO]: Start validating..\n"
     ]
    },
    {
     "name": "stderr",
     "output_type": "stream",
     "text": [
      "100%|██████████| 107/107 [00:07<00:00, 14.05it/s]\n"
     ]
    },
    {
     "name": "stdout",
     "output_type": "stream",
     "text": [
      "[INFO]: Validation Perplexity and loss: 174.81851123828125,5.162338796063004\n"
     ]
    },
    {
     "name": "stderr",
     "output_type": "stream",
     "text": [
      "  0%|          | 0/1020 [00:00<?, ?it/s]"
     ]
    },
    {
     "name": "stdout",
     "output_type": "stream",
     "text": [
      "[INFO]: epoch - 7\n"
     ]
    },
    {
     "name": "stderr",
     "output_type": "stream",
     "text": [
      "100%|██████████| 1020/1020 [00:39<00:00, 25.83it/s, loss=4.72]\n"
     ]
    },
    {
     "name": "stdout",
     "output_type": "stream",
     "text": [
      "[INFO]: Start validating..\n"
     ]
    },
    {
     "name": "stderr",
     "output_type": "stream",
     "text": [
      "100%|██████████| 107/107 [00:07<00:00, 13.91it/s]\n"
     ]
    },
    {
     "name": "stdout",
     "output_type": "stream",
     "text": [
      "[INFO]: Validation Perplexity and loss: 168.73208608200525,5.126813073024572\n"
     ]
    },
    {
     "name": "stderr",
     "output_type": "stream",
     "text": [
      "  0%|          | 0/1020 [00:00<?, ?it/s]"
     ]
    },
    {
     "name": "stdout",
     "output_type": "stream",
     "text": [
      "[INFO]: epoch - 8\n"
     ]
    },
    {
     "name": "stderr",
     "output_type": "stream",
     "text": [
      "100%|██████████| 1020/1020 [00:39<00:00, 25.95it/s, loss=4.67]\n"
     ]
    },
    {
     "name": "stdout",
     "output_type": "stream",
     "text": [
      "[INFO]: Start validating..\n"
     ]
    },
    {
     "name": "stderr",
     "output_type": "stream",
     "text": [
      "100%|██████████| 107/107 [00:07<00:00, 14.07it/s]\n"
     ]
    },
    {
     "name": "stdout",
     "output_type": "stream",
     "text": [
      "[INFO]: Validation Perplexity and loss: 169.04609890577692,5.1288687848599155\n"
     ]
    },
    {
     "name": "stderr",
     "output_type": "stream",
     "text": [
      "  0%|          | 0/1020 [00:00<?, ?it/s]"
     ]
    },
    {
     "name": "stdout",
     "output_type": "stream",
     "text": [
      "[INFO]: epoch - 9\n"
     ]
    },
    {
     "name": "stderr",
     "output_type": "stream",
     "text": [
      "100%|██████████| 1020/1020 [00:39<00:00, 25.79it/s, loss=4.63]\n"
     ]
    },
    {
     "name": "stdout",
     "output_type": "stream",
     "text": [
      "[INFO]: Start validating..\n"
     ]
    },
    {
     "name": "stderr",
     "output_type": "stream",
     "text": [
      "100%|██████████| 107/107 [00:09<00:00, 11.00it/s]\n"
     ]
    },
    {
     "name": "stdout",
     "output_type": "stream",
     "text": [
      "[INFO]: Validation Perplexity and loss: 168.58296368722904,5.125730822019488\n"
     ]
    },
    {
     "name": "stderr",
     "output_type": "stream",
     "text": [
      "  0%|          | 0/1020 [00:00<?, ?it/s]"
     ]
    },
    {
     "name": "stdout",
     "output_type": "stream",
     "text": [
      "[INFO]: epoch - 10\n"
     ]
    },
    {
     "name": "stderr",
     "output_type": "stream",
     "text": [
      "100%|██████████| 1020/1020 [00:39<00:00, 25.82it/s, loss=4.61]\n"
     ]
    },
    {
     "name": "stdout",
     "output_type": "stream",
     "text": [
      "[INFO]: Start validating..\n"
     ]
    },
    {
     "name": "stderr",
     "output_type": "stream",
     "text": [
      "100%|██████████| 107/107 [00:07<00:00, 14.06it/s]\n"
     ]
    },
    {
     "name": "stdout",
     "output_type": "stream",
     "text": [
      "[INFO]: Validation Perplexity and loss: 164.85129675335745,5.103406616460497\n"
     ]
    },
    {
     "name": "stderr",
     "output_type": "stream",
     "text": [
      "  0%|          | 0/1020 [00:00<?, ?it/s]"
     ]
    },
    {
     "name": "stdout",
     "output_type": "stream",
     "text": [
      "[INFO]: epoch - 11\n"
     ]
    },
    {
     "name": "stderr",
     "output_type": "stream",
     "text": [
      "100%|██████████| 1020/1020 [00:39<00:00, 25.75it/s, loss=4.52]\n"
     ]
    },
    {
     "name": "stdout",
     "output_type": "stream",
     "text": [
      "[INFO]: Start validating..\n"
     ]
    },
    {
     "name": "stderr",
     "output_type": "stream",
     "text": [
      "100%|██████████| 107/107 [00:07<00:00, 13.99it/s]\n"
     ]
    },
    {
     "name": "stdout",
     "output_type": "stream",
     "text": [
      "[INFO]: Validation Perplexity and loss: 160.08207486024415,5.0741269566188345\n"
     ]
    },
    {
     "name": "stderr",
     "output_type": "stream",
     "text": [
      "  0%|          | 0/1020 [00:00<?, ?it/s]"
     ]
    },
    {
     "name": "stdout",
     "output_type": "stream",
     "text": [
      "[INFO]: epoch - 12\n"
     ]
    },
    {
     "name": "stderr",
     "output_type": "stream",
     "text": [
      "100%|██████████| 1020/1020 [00:39<00:00, 25.92it/s, loss=4.5] \n"
     ]
    },
    {
     "name": "stdout",
     "output_type": "stream",
     "text": [
      "[INFO]: Start validating..\n"
     ]
    },
    {
     "name": "stderr",
     "output_type": "stream",
     "text": [
      "100%|██████████| 107/107 [00:09<00:00, 11.08it/s]\n"
     ]
    },
    {
     "name": "stdout",
     "output_type": "stream",
     "text": [
      "[INFO]: Validation Perplexity and loss: 156.31171658756296,5.050146298987843\n"
     ]
    },
    {
     "name": "stderr",
     "output_type": "stream",
     "text": [
      "  0%|          | 0/1020 [00:00<?, ?it/s]"
     ]
    },
    {
     "name": "stdout",
     "output_type": "stream",
     "text": [
      "[INFO]: epoch - 13\n"
     ]
    },
    {
     "name": "stderr",
     "output_type": "stream",
     "text": [
      "100%|██████████| 1020/1020 [00:39<00:00, 25.69it/s, loss=4.49]\n"
     ]
    },
    {
     "name": "stdout",
     "output_type": "stream",
     "text": [
      "[INFO]: Start validating..\n"
     ]
    },
    {
     "name": "stderr",
     "output_type": "stream",
     "text": [
      "100%|██████████| 107/107 [00:09<00:00, 10.89it/s]\n"
     ]
    },
    {
     "name": "stdout",
     "output_type": "stream",
     "text": [
      "[INFO]: Validation Perplexity and loss: 154.2029666270757,5.036548984384982\n"
     ]
    },
    {
     "name": "stderr",
     "output_type": "stream",
     "text": [
      "  0%|          | 0/1020 [00:00<?, ?it/s]"
     ]
    },
    {
     "name": "stdout",
     "output_type": "stream",
     "text": [
      "[INFO]: epoch - 14\n"
     ]
    },
    {
     "name": "stderr",
     "output_type": "stream",
     "text": [
      "100%|██████████| 1020/1020 [00:39<00:00, 25.71it/s, loss=4.48]\n"
     ]
    },
    {
     "name": "stdout",
     "output_type": "stream",
     "text": [
      "[INFO]: Start validating..\n"
     ]
    },
    {
     "name": "stderr",
     "output_type": "stream",
     "text": [
      "100%|██████████| 107/107 [00:07<00:00, 13.93it/s]\n"
     ]
    },
    {
     "name": "stdout",
     "output_type": "stream",
     "text": [
      "[INFO]: Validation Perplexity and loss: 151.7923412552787,5.020834677687315\n"
     ]
    },
    {
     "name": "stderr",
     "output_type": "stream",
     "text": [
      "  0%|          | 0/1020 [00:00<?, ?it/s]"
     ]
    },
    {
     "name": "stdout",
     "output_type": "stream",
     "text": [
      "[INFO]: epoch - 15\n"
     ]
    },
    {
     "name": "stderr",
     "output_type": "stream",
     "text": [
      "100%|██████████| 1020/1020 [00:39<00:00, 25.84it/s, loss=4.43]\n"
     ]
    },
    {
     "name": "stdout",
     "output_type": "stream",
     "text": [
      "[INFO]: Start validating..\n"
     ]
    },
    {
     "name": "stderr",
     "output_type": "stream",
     "text": [
      "100%|██████████| 107/107 [00:07<00:00, 13.98it/s]\n"
     ]
    },
    {
     "name": "stdout",
     "output_type": "stream",
     "text": [
      "[INFO]: Validation Perplexity and loss: 152.92605777085026,5.028288649621411\n"
     ]
    },
    {
     "name": "stderr",
     "output_type": "stream",
     "text": [
      "  0%|          | 0/1020 [00:00<?, ?it/s]"
     ]
    },
    {
     "name": "stdout",
     "output_type": "stream",
     "text": [
      "[INFO]: epoch - 16\n"
     ]
    },
    {
     "name": "stderr",
     "output_type": "stream",
     "text": [
      "100%|██████████| 1020/1020 [00:39<00:00, 25.96it/s, loss=4.39]\n"
     ]
    },
    {
     "name": "stdout",
     "output_type": "stream",
     "text": [
      "[INFO]: Start validating..\n"
     ]
    },
    {
     "name": "stderr",
     "output_type": "stream",
     "text": [
      "100%|██████████| 107/107 [00:07<00:00, 14.09it/s]\n"
     ]
    },
    {
     "name": "stdout",
     "output_type": "stream",
     "text": [
      "[INFO]: Validation Perplexity and loss: 150.49415256369068,5.012468993106735\n"
     ]
    },
    {
     "name": "stderr",
     "output_type": "stream",
     "text": [
      "  0%|          | 0/1020 [00:00<?, ?it/s]"
     ]
    },
    {
     "name": "stdout",
     "output_type": "stream",
     "text": [
      "[INFO]: epoch - 17\n"
     ]
    },
    {
     "name": "stderr",
     "output_type": "stream",
     "text": [
      "100%|██████████| 1020/1020 [00:39<00:00, 25.88it/s, loss=4.38]\n"
     ]
    },
    {
     "name": "stdout",
     "output_type": "stream",
     "text": [
      "[INFO]: Start validating..\n"
     ]
    },
    {
     "name": "stderr",
     "output_type": "stream",
     "text": [
      "100%|██████████| 107/107 [00:07<00:00, 14.08it/s]\n"
     ]
    },
    {
     "name": "stdout",
     "output_type": "stream",
     "text": [
      "[INFO]: Validation Perplexity and loss: 151.32548012568896,5.017652114975118\n"
     ]
    },
    {
     "name": "stderr",
     "output_type": "stream",
     "text": [
      "  0%|          | 0/1020 [00:00<?, ?it/s]"
     ]
    },
    {
     "name": "stdout",
     "output_type": "stream",
     "text": [
      "[INFO]: epoch - 18\n"
     ]
    },
    {
     "name": "stderr",
     "output_type": "stream",
     "text": [
      "100%|██████████| 1020/1020 [00:39<00:00, 25.83it/s, loss=4.38]\n"
     ]
    },
    {
     "name": "stdout",
     "output_type": "stream",
     "text": [
      "[INFO]: Start validating..\n"
     ]
    },
    {
     "name": "stderr",
     "output_type": "stream",
     "text": [
      "100%|██████████| 107/107 [00:07<00:00, 13.88it/s]\n"
     ]
    },
    {
     "name": "stdout",
     "output_type": "stream",
     "text": [
      "[INFO]: Validation Perplexity and loss: 148.82754716715394,5.001291573604691\n"
     ]
    },
    {
     "name": "stderr",
     "output_type": "stream",
     "text": [
      "  0%|          | 0/1020 [00:00<?, ?it/s]"
     ]
    },
    {
     "name": "stdout",
     "output_type": "stream",
     "text": [
      "[INFO]: epoch - 19\n"
     ]
    },
    {
     "name": "stderr",
     "output_type": "stream",
     "text": [
      "100%|██████████| 1020/1020 [00:39<00:00, 25.79it/s, loss=4.39]\n"
     ]
    },
    {
     "name": "stdout",
     "output_type": "stream",
     "text": [
      "[INFO]: Start validating..\n"
     ]
    },
    {
     "name": "stderr",
     "output_type": "stream",
     "text": [
      "100%|██████████| 107/107 [00:07<00:00, 13.64it/s]\n"
     ]
    },
    {
     "name": "stdout",
     "output_type": "stream",
     "text": [
      "[INFO]: Validation Perplexity and loss: 147.78236334829217,4.994021455818247\n"
     ]
    },
    {
     "name": "stderr",
     "output_type": "stream",
     "text": [
      "  0%|          | 0/1020 [00:00<?, ?it/s]"
     ]
    },
    {
     "name": "stdout",
     "output_type": "stream",
     "text": [
      "[INFO]: epoch - 20\n"
     ]
    },
    {
     "name": "stderr",
     "output_type": "stream",
     "text": [
      " 37%|███▋      | 376/1020 [00:14<00:24, 26.45it/s, loss=4.41]"
     ]
    }
   ],
   "source": [
    "class LSTMNetwork(nn.Module):\n",
    "    # a PyTorch Module that holds the neural network for your model\n",
    "\n",
    "    def __init__(self):\n",
    "        super().__init__()\n",
    "        self.vocab_size = len(vocab.itos)\n",
    "\n",
    "        # YOUR CODE HERE\n",
    "        self.fc1 = nn.Linear(128,512)\n",
    "        self.fc1_ = nn.Linear(512,1024)\n",
    "        self.fc1__ = nn.Linear(1024,2048)\n",
    "        self.lstm = nn.LSTM(input_size=2048,hidden_size=512,dropout=0.5,num_layers=3)\n",
    "        self.dropout = nn.Dropout(0.5)\n",
    "        self.fc2 = nn.Linear(512,256)\n",
    "        self.fc2_ = nn.Linear(256,128)\n",
    "        self.fc3 = nn.Linear(128,self.vocab_size)\n",
    "\n",
    "        \n",
    "\n",
    "    def forward(self, x, state):\n",
    "        \"\"\"Compute the output of the network.\n",
    "        \n",
    "        Note: In the Pytorch LSTM tutorial, the state variable is named \"hidden\":\n",
    "        https://pytorch.org/tutorials/beginner/nlp/sequence_models_tutorial.html\n",
    "\n",
    "        The torch.nn.LSTM documentation is quite helpful:\n",
    "        https://pytorch.org/docs/stable/nn.html#lstm\n",
    "    \n",
    "        x - a tensor of int64 inputs with shape (seq_len, batch)\n",
    "        state - a tuple of two tensors with shape (num_layers, batch, hidden_size)\n",
    "                representing the hidden state and cell state of the of the LSTM.\n",
    "        returns a tuple with two elements:\n",
    "          - a tensor of log probabilities with shape (seq_len, batch, vocab_size)\n",
    "          - a state tuple returned by applying the LSTM.\n",
    "        \"\"\"\n",
    "\n",
    "        # Note that the nn.LSTM module expects inputs with the sequence \n",
    "        # dimension before the batch by default.\n",
    "        # In this case the dimensions are already in the right order, \n",
    "        # but watch out for this since sometimes people put the batch first\n",
    "\n",
    "        # YOUR CODE HERE\n",
    "        out = F.embedding(x, self.fc3.weight)\n",
    "        \n",
    "        out = self.fc1(out)\n",
    "        out = F.relu(out)\n",
    "        \n",
    "        out = self.fc1_(out)\n",
    "        out = F.relu(out)\n",
    "        \n",
    "        out = self.fc1__(out)\n",
    "        out = F.relu(out)\n",
    "        \n",
    "        out, next_state = self.lstm(out,state)\n",
    "        out = self.dropout(out)\n",
    "        \n",
    "        out = self.fc2(out)\n",
    "        out = self.fc2_(out)\n",
    "        out = self.fc3(out)\n",
    "        \n",
    "        return out, next_state\n",
    "\n",
    "class LSTMModel:\n",
    "    \"A class that wraps LSTMNetwork to handle training and evaluation.\"\n",
    "    \"\"\"\n",
    "    state - a tuple of two tensors with shape (num_layers, batch, hidden_size)\n",
    "        representing the hidden state and cell state of the of the LSTM.\n",
    "    \"\"\"  \n",
    "        \n",
    "    def __init__(self):\n",
    "        self.network = LSTMNetwork().cuda()\n",
    "        self.batch_size = 64\n",
    "        self.lstm_state = (torch.zeros(3,self.batch_size,512),torch.zeros(3,self.batch_size,512))\n",
    "\n",
    "    def train(self):\n",
    "        train_iterator = data.BPTTIterator(train_dataset, batch_size=self.batch_size, \n",
    "                                                     bptt_len=32, device='cuda')\n",
    "        # Iterate over train_iterator with a for loop to get batches\n",
    "        # each batch object has a .text and .target attribute with\n",
    "        # token id tensors for the input and output respectively.\n",
    "        \n",
    "        optimizer = torch.optim.Adam(self.network.parameters())\n",
    "        validation_perplexities = []\n",
    "        validation_losses = []\n",
    "        for epoch in range(100):\n",
    "            self.network.train()\n",
    "            best_perplexity = 1e9\n",
    "            loader_ = tqdm.tqdm(train_iterator,total=len(train_iterator))\n",
    "            print(f\"[INFO]: epoch - {epoch}\")\n",
    "            for index, item in enumerate(loader_):\n",
    "                optimizer.zero_grad()\n",
    "                x, y = item.text, item.target\n",
    "                x = x.cuda()\n",
    "                y = y.cuda()\n",
    "                self.lstm_state = (self.lstm_state[0].cuda(),self.lstm_state[1].cuda())\n",
    "                logits, state = self.network(x,self.lstm_state)\n",
    "                state = (state[0].detach(), state[1].detach())\n",
    "                self.lstm_state = state\n",
    "                logits = logits.transpose(0,1)\n",
    "                y = y.transpose(0,1)\n",
    "                loss = F.cross_entropy(logits.reshape(-1, self.network.vocab_size), y.reshape(-1))\n",
    "                loss.backward()\n",
    "                optimizer.step()\n",
    "                loader_.set_postfix(loss=loss.item())\n",
    "            print(f\"[INFO]: Start validating..\")\n",
    "            val_perplexity, val_avg_loss = self.dataset_perplexity(validation_dataset)\n",
    "            validation_perplexities.append(val_perplexity)\n",
    "            validation_losses.append(val_avg_loss)\n",
    "            print(f\"[INFO]: Validation Perplexity and loss: {val_perplexity},{val_avg_loss}\")\n",
    "            if val_perplexity < best_perplexity:\n",
    "                best_perplexity = val_perplexity\n",
    "                torch.save(self.network.state_dict(),'lstm_model.ckpt')\n",
    "\n",
    "            pickle.dump(validation_perplexities,open('lstm_model_val_perplexities.pkl','wb'))\n",
    "            pickle.dump(validation_losses,open('lstm_model_val_losses.pkl','wb'))\n",
    "\n",
    "        self.network.load_state_dict(torch.load('lstm_model.ckpt'))\n",
    "        # The initial state passed into the LSTM should be set to zero.\n",
    "\n",
    "        # YOUR CODE HERE\n",
    "\n",
    "\n",
    "    def next_word_probabilities(self, text_prefix):\n",
    "        \"Return a list of probabilities for each word in the vocabulary.\"\n",
    "        \n",
    "        # YOUR CODE HERE\n",
    "        self.network.eval()\n",
    "        prefix_token_tensor = torch.tensor(ids(text_prefix), device='cuda').view(-1, 1)\n",
    "        prefix_token_tensor = prefix_token_tensor.cuda()\n",
    "        logits,_ = self.network(prefix_token_tensor,(torch.zeros(3,1,512).cuda(),torch.zeros(3,1,512).cuda()))\n",
    "        logits = logits.transpose(0,1)\n",
    "        probas = F.softmax(logits,-1)\n",
    "        probas = probas.flatten().detach().cpu()\n",
    "        \n",
    "        return probas\n",
    "\n",
    "\n",
    "    def dataset_perplexity(self, torchtext_dataset):\n",
    "        \"Return perplexity as a float.\"\n",
    "        # Your code should be very similar to next_word_probabilities, but\n",
    "        # run in a loop over batches. Use torch.no_grad() for extra speed.\n",
    "\n",
    "        iterator = data.BPTTIterator(torchtext_dataset, batch_size=self.batch_size, bptt_len=32, device='cuda')\n",
    "\n",
    "        # YOUR CODE HERE\n",
    "        self.network.eval()\n",
    "        probas = []\n",
    "        losses = []\n",
    "        for index,item in enumerate(tqdm.tqdm(iterator)):\n",
    "            with torch.no_grad():\n",
    "                x,y = item.text, item.target\n",
    "                x = x.cuda()\n",
    "                y = y.cuda()\n",
    "                y = y.transpose(0,1)\n",
    "                self.lstm_state = (self.lstm_state[0].cuda(),self.lstm_state[1].cuda())\n",
    "                logits,state = self.network(x,self.lstm_state)\n",
    "                self.lstm_state = (state[0].cuda(),state[1].cuda())\n",
    "                logits = logits.transpose(0,1)\n",
    "\n",
    "                loss = F.cross_entropy(logits.reshape(-1, self.network.vocab_size), y.reshape(-1))\n",
    "                losses.append(loss.item())\n",
    "\n",
    "                p = F.softmax(logits,-1)\n",
    "                p = p.detach()\n",
    "                for batch_index in range(p.shape[0]): #batch_size\n",
    "                    for instance_index in range(p.shape[1]): #seq_len\n",
    "                        probas.append(p[batch_index][instance_index][y[batch_index][instance_index]].cpu())\n",
    "\n",
    "\n",
    "        probas = [math.log(p) for p in probas]\n",
    "        return math.exp(-np.mean(probas)),sum(losses)/len(losses)\n",
    "\n",
    "    def load(self,path='lstm_model.ckpt'):\n",
    "        self.network.load_state_dict(torch.load(path))\n",
    "\n",
    "\n",
    "lstm_model = LSTMModel()\n",
    "# lstm_model.load()\n",
    "\n",
    "lstm_model.train()\n",
    "\n",
    "print('lstm validation perplexity:', lstm_model.dataset_perplexity(validation_dataset))\n",
    "save_truncated_distribution(lstm_model, 'lstm_predictions.npy', short=False)"
   ]
  },
  {
   "cell_type": "markdown",
   "metadata": {
    "id": "7pGhdPQqHx9v"
   },
   "source": [
    "<!-- Do not remove this comment, it is used by the autograder: RqYJKsoTS6 -->\n",
    "\n",
    "Fill in your LSTM perplexity. \n",
    "\n",
    "LSTM validation perplexity: 139.79385143586882"
   ]
  },
  {
   "cell_type": "markdown",
   "metadata": {
    "id": "kLoiXBWMaSPc"
   },
   "source": [
    "# Experimentation: 1-Page Report\n",
    "\n",
    "Now it's time for you to experiment.  Try to reach a validation perplexity below 120. You may either modify the LSTM class above, or copy it down to the code cell below and modify it there. Just **be sure to run code cell below to generate results with your improved LSTM**.\n",
    "\n",
    "It is okay if the bulk of your improvements are due to hyperparameter tuning (such as changing number or sizes of layers), but implement at least one more substantial change to the model.  Here are some ideas (several of which come from https://arxiv.org/pdf/1708.02182.pdf):\n",
    "* activation regularization - add a l2 regularization penalty on the activation of the LSTM output (standard l2 regularization is on the weights)\n",
    "* weight-drop regularization - apply dropout to the weight matrices instead of activations\n",
    "* learning rate scheduling - decrease the learning rate during training\n",
    "* embedding dropout - zero out the entire embedding for a random set of words in the embedding matrix\n",
    "* ensembling - average the predictions of several models trained with different initialization random seeds\n",
    "* temporal activation regularization - add l2 regularization on the difference between the LSTM output activations at adjacent timesteps\n",
    "\n",
    "You may notice that most of these suggestions are regularization techniques.  This dataset is considered fairly small, so regularization is one of the best ways to improve performance.\n",
    "\n",
    "For this section, you will submit a write-up describing the extensions and/or modifications that you tried.  Your write-up should be **1-page maximum** in length and should be submitted in PDF format.  You may use any editor you like, but we recommend using LaTeX and working in an environment like Overleaf.\n",
    "For full credit, your write-up should include:\n",
    "1.   A concise and precise description of the extension that you tried.\n",
    "2.   A motivation for why you believed this approach might improve your model.\n",
    "3.   A discussion of whether the extension was effective and/or an analysis of the results.  This will generally involve some combination of tables, learning curves, etc.\n",
    "4.   A bottom-line summary of your results comparing validation perplexities of your improvement to the original LSTM.\n",
    "The purpose of this exercise is to experiment, so feel free to try/ablate multiple of the suggestions above as well as any others you come up with!\n",
    "When you submit the file, please name it `report.pdf`.\n",
    "\n"
   ]
  },
  {
   "cell_type": "code",
   "execution_count": 73,
   "metadata": {
    "ExecuteTime": {
     "end_time": "2023-09-07T20:23:08.546054Z",
     "start_time": "2023-09-07T20:22:24.502702Z"
    }
   },
   "outputs": [
    {
     "name": "stderr",
     "output_type": "stream",
     "text": [
      "                                                    \r"
     ]
    },
    {
     "name": "stdout",
     "output_type": "stream",
     "text": [
      "saved lstm_predictions.npy\n"
     ]
    }
   ],
   "source": [
    "import pickle\n",
    "class LSTMNetwork(nn.Module):\n",
    "    # a PyTorch Module that holds the neural network for your model\n",
    "\n",
    "    def __init__(self):\n",
    "        super().__init__()\n",
    "        self.vocab_size = len(vocab.itos)\n",
    "\n",
    "        # YOUR CODE HERE\n",
    "        self.fc1 = nn.Linear(128,512)\n",
    "        self.fc1_ = nn.Linear(512,1024)\n",
    "        self.fc1__ = nn.Linear(1024,2048)\n",
    "        self.lstm = nn.LSTM(input_size=2048,hidden_size=512,dropout=0.5,num_layers=3)\n",
    "        self.dropout = nn.Dropout(0.5)\n",
    "        self.fc2 = nn.Linear(512,256)\n",
    "        self.fc2_ = nn.Linear(256,128)\n",
    "        self.fc3 = nn.Linear(128,self.vocab_size)\n",
    "\n",
    "\n",
    "\n",
    "    def forward(self, x, state):\n",
    "        \"\"\"Compute the output of the network.\n",
    "\n",
    "        Note: In the Pytorch LSTM tutorial, the state variable is named \"hidden\":\n",
    "        https://pytorch.org/tutorials/beginner/nlp/sequence_models_tutorial.html\n",
    "\n",
    "        The torch.nn.LSTM documentation is quite helpful:\n",
    "        https://pytorch.org/docs/stable/nn.html#lstm\n",
    "\n",
    "        x - a tensor of int64 inputs with shape (seq_len, batch)\n",
    "        state - a tuple of two tensors with shape (num_layers, batch, hidden_size)\n",
    "                representing the hidden state and cell state of the of the LSTM.\n",
    "        returns a tuple with two elements:\n",
    "          - a tensor of log probabilities with shape (seq_len, batch, vocab_size)\n",
    "          - a state tuple returned by applying the LSTM.\n",
    "        \"\"\"\n",
    "\n",
    "        # Note that the nn.LSTM module expects inputs with the sequence\n",
    "        # dimension before the batch by default.\n",
    "        # In this case the dimensions are already in the right order,\n",
    "        # but watch out for this since sometimes people put the batch first\n",
    "\n",
    "        # YOUR CODE HERE\n",
    "        out = F.embedding(x, self.fc3.weight)\n",
    "        out = self.dropout(out)\n",
    "\n",
    "        out = self.fc1(out)\n",
    "        out = F.relu(out)\n",
    "\n",
    "        out = self.fc1_(out)\n",
    "        out = F.relu(out)\n",
    "\n",
    "        out = self.fc1__(out)\n",
    "        out = F.relu(out)\n",
    "\n",
    "        out, next_state = self.lstm(out,state)\n",
    "        out = self.dropout(out)\n",
    "\n",
    "        out = self.fc2(out)\n",
    "        out = self.fc2_(out)\n",
    "        out = self.fc3(out)\n",
    "\n",
    "        return out, next_state\n",
    "\n",
    "class LSTMModel:\n",
    "    \"A class that wraps LSTMNetwork to handle training and evaluation.\"\n",
    "    \"\"\"\n",
    "    state - a tuple of two tensors with shape (num_layers, batch, hidden_size)\n",
    "        representing the hidden state and cell state of the of the LSTM.\n",
    "    \"\"\"\n",
    "\n",
    "    def __init__(self):\n",
    "        self.network = LSTMNetwork().cuda()\n",
    "        self.batch_size = 128\n",
    "        self.lstm_state = (torch.zeros(3,self.batch_size,512),torch.zeros(3,self.batch_size,512))\n",
    "\n",
    "    def train(self):\n",
    "        train_iterator = data.BPTTIterator(train_dataset, batch_size=self.batch_size,\n",
    "                                                     bptt_len=32, device='cuda')\n",
    "        # Iterate over train_iterator with a for loop to get batches\n",
    "        # each batch object has a .text and .target attribute with\n",
    "        # token id tensors for the input and output respectively.\n",
    "\n",
    "        optimizer = torch.optim.Adam(self.network.parameters())\n",
    "        validation_perplexities = []\n",
    "        validation_losses = []\n",
    "        for epoch in range(100):\n",
    "            self.network.train()\n",
    "            best_perplexity = 1e9\n",
    "            loader_ = tqdm.tqdm(train_iterator,total=len(train_iterator))\n",
    "            print(f\"[INFO]: epoch - {epoch}\")\n",
    "            for index, item in enumerate(loader_):\n",
    "                optimizer.zero_grad()\n",
    "                x, y = item.text, item.target\n",
    "                x = x.cuda()\n",
    "                y = y.cuda()\n",
    "                self.lstm_state = (self.lstm_state[0].cuda(),self.lstm_state[1].cuda())\n",
    "                logits, state = self.network(x,self.lstm_state)\n",
    "                state = (state[0].detach(), state[1].detach())\n",
    "                self.lstm_state = state\n",
    "                logits = logits.transpose(0,1)\n",
    "                y = y.transpose(0,1)\n",
    "                loss = F.cross_entropy(logits.reshape(-1, self.network.vocab_size), y.reshape(-1))\n",
    "                loss.backward()\n",
    "                optimizer.step()\n",
    "                loader_.set_postfix(loss=loss.item())\n",
    "            print(f\"[INFO]: Start validating..\")\n",
    "            val_perplexity, val_avg_loss = self.dataset_perplexity(validation_dataset)\n",
    "            validation_perplexities.append(val_perplexity)\n",
    "            validation_losses.append(val_avg_loss)\n",
    "            print(f\"[INFO]: Validation Perplexity and loss: {val_perplexity},{val_avg_loss}\")\n",
    "            if val_perplexity < best_perplexity:\n",
    "                best_perplexity = val_perplexity\n",
    "                torch.save(self.network.state_dict(),'lstm_model_better.ckpt')\n",
    "\n",
    "            pickle.dump(validation_perplexities,open('lstm_model_better_val_perplexities.pkl','wb'))\n",
    "            pickle.dump(validation_losses,open('lstm_model_better_val_losses.pkl','wb'))\n",
    "\n",
    "        self.network.load_state_dict(torch.load('lstm_model_better.ckpt'))\n",
    "        # The initial state passed into the LSTM should be set to zero.\n",
    "\n",
    "        # YOUR CODE HERE\n",
    "\n",
    "\n",
    "    def next_word_probabilities(self, text_prefix):\n",
    "        \"Return a list of probabilities for each word in the vocabulary.\"\n",
    "\n",
    "        # YOUR CODE HERE\n",
    "        self.network.eval()\n",
    "        prefix_token_tensor = torch.tensor(ids(text_prefix), device='cuda').view(-1, 1)\n",
    "        prefix_token_tensor = prefix_token_tensor.cuda()\n",
    "        logits,_ = self.network(prefix_token_tensor,(torch.zeros(3,1,512).cuda(),torch.zeros(3,1,512).cuda()))\n",
    "        logits = logits.transpose(0,1)\n",
    "        probas = F.softmax(logits,-1).detach().cpu()\n",
    "        probas = probas[:,-1].flatten()\n",
    "        return probas\n",
    "\n",
    "\n",
    "    def dataset_perplexity(self, torchtext_dataset):\n",
    "        \"Return perplexity as a float.\"\n",
    "        # Your code should be very similar to next_word_probabilities, but\n",
    "        # run in a loop over batches. Use torch.no_grad() for extra speed.\n",
    "\n",
    "        iterator = data.BPTTIterator(torchtext_dataset, batch_size=self.batch_size, bptt_len=32, device='cuda')\n",
    "\n",
    "        # YOUR CODE HERE\n",
    "        self.network.eval()\n",
    "        probas = []\n",
    "        losses = []\n",
    "        for index,item in enumerate(tqdm.tqdm(iterator)):\n",
    "            with torch.no_grad():\n",
    "                x,y = item.text, item.target\n",
    "                x = x.cuda()\n",
    "                y = y.cuda()\n",
    "                y = y.transpose(0,1)\n",
    "                self.lstm_state = (self.lstm_state[0].cuda(),self.lstm_state[1].cuda())\n",
    "                logits,state = self.network(x,self.lstm_state)\n",
    "                self.lstm_state = (state[0].cuda(),state[1].cuda())\n",
    "                logits = logits.transpose(0,1)\n",
    "\n",
    "                loss = F.cross_entropy(logits.reshape(-1, self.network.vocab_size), y.reshape(-1))\n",
    "                losses.append(loss.item())\n",
    "\n",
    "                p = F.softmax(logits,-1)\n",
    "                p = p.detach()\n",
    "                for batch_index in range(p.shape[0]): #batch_size\n",
    "                    for instance_index in range(p.shape[1]): #seq_len\n",
    "                        probas.append(p[batch_index][instance_index][y[batch_index][instance_index]].cpu())\n",
    "\n",
    "\n",
    "        probas = [math.log(p) for p in probas]\n",
    "        return math.exp(-np.mean(probas)),sum(losses)/len(losses)\n",
    "\n",
    "    def load(self,path='lstm_model_better.ckpt'):\n",
    "        self.network.load_state_dict(torch.load(path))\n",
    "\n",
    "\n",
    "lstm_model = LSTMModel()\n",
    "# lstm_model.train()\n",
    "\n",
    "lstm_model.load()\n",
    "# print('lstm validation perplexity:', lstm_model.dataset_perplexity(validation_dataset))\n",
    "save_truncated_distribution(lstm_model, 'lstm_predictions.npy', short=False)\n",
    "\n",
    "##add weight decay\n",
    "##add embedding dropout"
   ]
  },
  {
   "cell_type": "markdown",
   "metadata": {
    "id": "i4fxj-BQTDgU"
   },
   "source": [
    "Run the cell below in order to train your improved LSTM and evaluate it.  "
   ]
  },
  {
   "cell_type": "code",
   "execution_count": null,
   "metadata": {
    "id": "Z_244hhNP9PO"
   },
   "outputs": [],
   "source": [
    "## Feel free to copy your original LSTM solution down here to modify for your report if you'd like. \n",
    "# YOUR CODE [optionally] HERE\n",
    "##\n",
    "\n",
    "#lstm_model = LSTMModel()\n",
    "#lstm_model.train()\n",
    "\n",
    "print('lstm validation perplexity:', lstm_model.dataset_perplexity(validation_dataset))\n",
    "save_truncated_distribution(lstm_model, 'lstm_predictions.npy', short=False)"
   ]
  },
  {
   "cell_type": "markdown",
   "metadata": {
    "id": "BHTOfrCG8CRF"
   },
   "source": [
    "### Submission\n",
    "\n",
    "Upload a submission with the following files to Gradescope:\n",
    "* hw1b.ipynb (rename to match this exactly)\n",
    "* lstm_predictions.npy (this should also include all improvements from your exploration)\n",
    "* neural_trigram_predictions.npy\n",
    "* bigram_predictions.npy\n",
    "* report.pdf\n",
    "\n",
    "You can upload files individually or as part of a zip file, but if using a zip file be sure you are zipping the files directly and not a folder that contains them.\n",
    "\n",
    "Be sure to check the output of the autograder after it runs.  It should confirm that no files are missing and that the output files have the correct format.  Note that the test set perplexities shown by the autograder are on a completely different scale from your validation set perplexities due to truncating the distribution and selecting different text.  Don't worry if the values seem much worse."
   ]
  }
 ],
 "metadata": {
  "kernelspec": {
   "display_name": "py37",
   "language": "python",
   "name": "py37"
  },
  "language_info": {
   "codemirror_mode": {
    "name": "ipython",
    "version": 3
   },
   "file_extension": ".py",
   "mimetype": "text/x-python",
   "name": "python",
   "nbconvert_exporter": "python",
   "pygments_lexer": "ipython3",
   "version": "3.7.16"
  }
 },
 "nbformat": 4,
 "nbformat_minor": 4
}
