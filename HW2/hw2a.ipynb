{
 "cells": [
  {
   "cell_type": "markdown",
   "metadata": {},
   "source": [
    "# HW2A: Alignment with IBM Model 1"
   ]
  },
  {
   "cell_type": "code",
   "execution_count": 1,
   "metadata": {
    "tags": []
   },
   "outputs": [],
   "source": [
    "# Some of the functions below require an older version of torchtext than the default one Kaggle gives you.\n",
    "# IMPORTANT: Make sure that Internet is turned on!!! (Notebook options in the bar on the right)\n",
    "# IMPORTANT: If you're not already using Kaggle, we STRONGLY recommend you switch to Kaggle for hw1b in particular,\n",
    "# because copying our notebook will pin you to a Python version that lets you install the right version of torchtext.\n",
    "# On Colab you will have to downgrade your Python to e.g., 3.7 to do the below pip install, which is a pain to do.\n",
    "# !pip install torchtext==0.8.1\n",
    "# exit()"
   ]
  },
  {
   "cell_type": "code",
   "execution_count": 1,
   "metadata": {
    "tags": []
   },
   "outputs": [],
   "source": [
    "# This Python 3 environment comes with many helpful analytics libraries installed\n",
    "# It is defined by the kaggle/python Docker image: https://github.com/kaggle/docker-python\n",
    "# For example, here's several helpful packages to load\n",
    "\n",
    "import math\n",
    "import matplotlib.pyplot as plt # graphs and figures\n",
    "import numpy as np # linear algebra\n",
    "import pandas as pd # data processing, CSV file I/O (e.g. pd.read_csv)\n",
    "import string\n",
    "from collections import Counter\n",
    "from itertools import product\n",
    "import tqdm.notebook\n",
    "import pickle\n",
    "\n",
    "# Input data files are available in the read-only \"../input/\" directory\n",
    "# For example, running this (by clicking run or pressing Shift+Enter) will list all files under the input directory\n",
    "\n",
    "import os\n",
    "for dirname, _, filenames in os.walk('/kaggle/input'):\n",
    "    for filename in filenames:\n",
    "        print(os.path.join(dirname, filename))\n",
    "\n",
    "# You can write up to 20GB to the current directory (/kaggle/working/) that gets preserved as output when you create a version using \"Save & Run All\"\n",
    "# You can also write temporary files to /kaggle/temp/, but they won't be saved outside of the current session"
   ]
  },
  {
   "cell_type": "markdown",
   "metadata": {},
   "source": [
    "## Data\n",
    "\n",
    "We'll start out by using a toy dataset. Please see [these slides](https://cal-cs288.github.io/sp20/slides/cs288_sp20_05_statistical_translation_4up.pdf) for a more complete coverage of IBM Model 1, and feel free to check out Philipp Koehn's book _Statistical Machine Translation_."
   ]
  },
  {
   "cell_type": "code",
   "execution_count": 2,
   "metadata": {
    "tags": []
   },
   "outputs": [],
   "source": [
    "aligned_data = [\n",
    "    ([\"das\", \"haus\"], [\"the\", \"house\"]),\n",
    "    ([\"das\", \"buch\"], [\"the\", \"book\"]),\n",
    "    ([\"ein\", \"buch\"], [\"a\", \"book\"]),\n",
    "]"
   ]
  },
  {
   "cell_type": "markdown",
   "metadata": {},
   "source": [
    "## Alignment Model\n",
    "\n",
    "Fill in the code for IBM Model 1 below. A correct implementation should achieve perplexity 4096 on the first iteration and perplexity around 70 by the tenth iteration, for the toy dataset above. Note that we'll be grading you only on the generated `self.translation_probabilities`, so the probability and perplexity functions only exist for you to check the correctness of your own implementation. You may wish to comment them out during implementation and check that `self.translation_probabilities` looks reasonable instead."
   ]
  },
  {
   "cell_type": "code",
   "execution_count": 77,
   "metadata": {
    "tags": []
   },
   "outputs": [
    {
     "name": "stderr",
     "output_type": "stream",
     "text": [
      "100%|██████████| 10/10 [00:00<00:00, 3415.84it/s]"
     ]
    },
    {
     "name": "stdout",
     "output_type": "stream",
     "text": [
      "Iteration: 0 | Perplexity: 2.972493555307842e+16\n",
      "Iteration: 1 | Perplexity: 1230942173140.2183\n",
      "Iteration: 2 | Perplexity: 253075606657.23917\n",
      "Iteration: 3 | Perplexity: 83549078272.73138\n",
      "Iteration: 4 | Perplexity: 39111696263.913025\n",
      "Iteration: 5 | Perplexity: 23411387121.01307\n",
      "Iteration: 6 | Perplexity: 16505460737.137268\n",
      "Iteration: 7 | Perplexity: 12956808546.441563\n",
      "Iteration: 8 | Perplexity: 10920223352.456423\n",
      "Iteration: 9 | Perplexity: 9653934299.540964\n",
      "Iteration: 10 | Perplexity: 8818185140.532877\n"
     ]
    },
    {
     "name": "stderr",
     "output_type": "stream",
     "text": [
      "\n"
     ]
    }
   ],
   "source": [
    "import math\n",
    "class IBMModel1:\n",
    "    def __init__(self, data, num_iterations=10, epsilon=1.0, compute_perplexity=True):\n",
    "        self.data = data # aligned corpus as shown above\n",
    "        self.num_iterations = num_iterations # iterations of expectation-maximization\n",
    "        self.epsilon = epsilon\n",
    "        self.compute_perplexity = compute_perplexity\n",
    "\n",
    "        # Preprocess bitext data:\n",
    "        self.source_words, self.target_words = set(), set()\n",
    "        for (source,target) in self.data:\n",
    "            self.source_words.update(source)\n",
    "            self.target_words.update(target)\n",
    "\n",
    "        # Initialize uniform probabilities:\n",
    "        self.translation_probs = {(s,t): 1.0/len(self.target_words)\n",
    "                                  for s,t in product(self.source_words, self.target_words)}\n",
    "    def e_step(self):\n",
    "        # YOUR SOLUTION HERE\n",
    "        # - Iterate over paired sentences in the data and compute:\n",
    "        # - (1) counts, the number of times a source word is translated into a target word,\n",
    "        #       weighted by alignment probabilities\n",
    "        # - (2) total, the sum of counts over all possible target words\n",
    "        # See slide 32 for more information: https://cal-cs288.github.io/sp20/slides/cs288_sp20_05_statistical_translation_4up.pdf\n",
    "        # BEGIN SOLUTION\n",
    "        count = {(f,e):0 for f,e in product(self.source_words, self.target_words)}\n",
    "        total = {f:0 for f in self.source_words}\n",
    "        s_total = {e:0 for e in self.target_words}\n",
    "        for pair in self.data:\n",
    "            f,e = pair\n",
    "            \n",
    "            for word_e in e:\n",
    "                s_total[word_e] = 0\n",
    "                for word_f in f:\n",
    "                    s_total[word_e] += self.translation_probs[(word_f,word_e)]\n",
    "            \n",
    "            for word_e in e:\n",
    "                for word_f in f:\n",
    "                    count[(word_f,word_e)] += self.translation_probs[(word_f,word_e)] / s_total[word_e]\n",
    "                    total[word_f] += self.translation_probs[(word_f,word_e)] / s_total[word_e]\n",
    "        return count, total        \n",
    "        \n",
    "        # END SOLUTION\n",
    "\n",
    "    def m_step(self, counts, total):\n",
    "        # YOUR SOLUTION HERE\n",
    "        # - Update self.translation_probs using counts and total\n",
    "        # BEGIN SOLUTION\n",
    "        for pair in self.data:\n",
    "            f,e = pair\n",
    "            for word_f in f:\n",
    "                for word_e in e:\n",
    "                    self.translation_probs[(word_f,word_e)] = counts[(word_f,word_e)] / total[word_f]\n",
    "        # END SOLUTION\n",
    "\n",
    "    def train(self):\n",
    "        # Run EM for self.num_iterations:\n",
    "        for idx in tqdm.tqdm(range(self.num_iterations)):\n",
    "            if self.compute_perplexity:\n",
    "                print(\"Iteration: {} | Perplexity: {}\".format(idx, self.perplexity()))\n",
    "            counts, total = self.e_step()\n",
    "            self.m_step(counts, total)\n",
    "        if self.compute_perplexity:\n",
    "            print(\"Iteration: {} | Perplexity: {}\".format(self.num_iterations, self.perplexity()))\n",
    "\n",
    "    def probability(self, source, target):\n",
    "        # YOUR SOLUTION HERE\n",
    "        # - Use the normalization trick from lecture to efficiently compute probabilities\n",
    "        # - We'll use self.epsilon here, which is defined in the initialization\n",
    "        # BEGIN SOLUTION\n",
    "        f, e = source, target\n",
    "        norm_value =  self.epsilon / ((len(source)) ** len(target))\n",
    "        ts = []\n",
    "        for i in range(len(f)):\n",
    "            temp = []\n",
    "            for j in range(len(e)):\n",
    "                temp.append(self.translation_probs[(f[i],e[j])])\n",
    "            ts.append(sum(temp))\n",
    "        p = np.prod(ts)\n",
    "        return norm_value * p\n",
    "        # END SOLUTION\n",
    "\n",
    "    def perplexity(self):\n",
    "        # YOUR SOLUTION HERE\n",
    "        # - Iterate over each pair of sentences in the dataset\n",
    "        # - Call self.probability and compute a sum in log space\n",
    "        # - Feel free to comment this out while testing your initial model\n",
    "        # BEGIN SOLUTION\n",
    "        probas = []\n",
    "        for pair in self.data:\n",
    "            f,e = pair\n",
    "            probas.append(self.probability(f,e))\n",
    "        log_probas = np.log(probas)\n",
    "        return math.exp(-sum(log_probas))\n",
    "        # END SOLUTION\n",
    "\n",
    "    def get_alignment(self, source, target):\n",
    "        # YOUR SOLUTION HERE\n",
    "        # - Find the best word alignment for a source, target pair\n",
    "        # - Output a list of [(source_idx, target_idx)]\n",
    "        #   For example: ([\"ein\", \"buch\"], [\"a\", \"book\"])\n",
    "        #   should have an alignment [(0,0), (1,1)]\n",
    "        # BEGIN SOLUTION\n",
    "        f, e = source, target\n",
    "        alignments = []\n",
    "        for i in range(len(f)):\n",
    "            probas = [self.translation_probs[(f[i],e[j])] for j in range(len(e))]\n",
    "            alignments.append((i,np.argmax(probas)))\n",
    "        return alignments\n",
    "        # END SOLUTION\n",
    "\n",
    "ibm = IBMModel1(aligned_data)\n",
    "ibm.train()\n",
    "assert(ibm.get_alignment([\"ein\", \"buch\"], [\"a\", \"book\"]) == [(0, 0), (1, 1)])\n",
    "with open(\"example_alignments.pkl\", \"wb\") as outfile:\n",
    "    pickle.dump(ibm.translation_probs, outfile, protocol=pickle.HIGHEST_PROTOCOL)"
   ]
  },
  {
   "cell_type": "markdown",
   "metadata": {},
   "source": [
    "## Visualization and Analysis\n",
    "\n",
    "Write code to visualize alignments and rerun the IBM model on a (very slightly larger) toy dataset:"
   ]
  },
  {
   "cell_type": "code",
   "execution_count": 176,
   "metadata": {
    "tags": []
   },
   "outputs": [
    {
     "name": "stderr",
     "output_type": "stream",
     "text": [
      "100%|██████████| 10/10 [00:00<00:00, 1407.63it/s]\n"
     ]
    },
    {
     "name": "stdout",
     "output_type": "stream",
     "text": [
      "Iteration: 0 | Perplexity: 2.972493555307842e+16\n",
      "Iteration: 1 | Perplexity: 1230942173140.2183\n",
      "Iteration: 2 | Perplexity: 253075606657.23917\n",
      "Iteration: 3 | Perplexity: 83549078272.73138\n",
      "Iteration: 4 | Perplexity: 39111696263.913025\n",
      "Iteration: 5 | Perplexity: 23411387121.01307\n",
      "Iteration: 6 | Perplexity: 16505460737.137268\n",
      "Iteration: 7 | Perplexity: 12956808546.441563\n",
      "Iteration: 8 | Perplexity: 10920223352.456423\n",
      "Iteration: 9 | Perplexity: 9653934299.540964\n",
      "Iteration: 10 | Perplexity: 8818185140.532877\n",
      "[(0, 3), (1, 2), (2, 0), (3, 1)]\n"
     ]
    },
    {
     "data": {
      "image/png": "[encoded data removed]",
      "text/plain": [
       "<Figure size 750x750 with 1 Axes>"
      ]
     },
     "metadata": {},
     "output_type": "display_data"
    }
   ],
   "source": [
    "def visualize_alignment(alignment,f,e):\n",
    "    # YOUR SOLUTION HERE\n",
    "    # BEGIN ALIGNMENT\n",
    "    print(alignment)\n",
    "    matrix = np.zeros((len(alignment),len(alignment)))\n",
    "    for index,item in enumerate(alignment):\n",
    "        x, y = item\n",
    "        matrix[index,y] = 1\n",
    "    plt.figure(figsize=(5,5),dpi=150)\n",
    "    plt.imshow(matrix, cmap=plt.cm.hot_r)\n",
    "    plt.yticks(range(len(alignment)),f)\n",
    "    plt.xticks(range(len(alignment)),e,rotation=45)\n",
    "    plt.savefig(f'{hash(str(alignment))}.png')\n",
    "    plt.show()\n",
    "    # END ALIGNMENT\n",
    "aligned_data = [\n",
    "    (['klein', 'ist', 'das', 'haus'], ['the', 'house', 'is', 'small']),\n",
    "    (['das', 'haus', 'ist', 'ja', 'groß'], ['the', 'house', 'is', 'big']),\n",
    "    (['das', 'buch', 'ist', 'ja', 'klein'], ['the', 'book', 'is', 'small']),\n",
    "    (['das', 'haus'], ['the', 'house']),\n",
    "    (['das', 'buch'], ['the', 'book']),\n",
    "    (['ein', 'buch'], ['a', 'book'])\n",
    "]\n",
    "\n",
    "ibm = IBMModel1(aligned_data)\n",
    "ibm.train()\n",
    "alignment = ibm.get_alignment(['klein', 'ist', 'das', 'haus'], ['the', 'house', 'is', 'small'])\n",
    "visualize_alignment(alignment,['klein', 'ist', 'das', 'haus'], ['the', 'house', 'is', 'small'])"
   ]
  },
  {
   "cell_type": "markdown",
   "metadata": {},
   "source": [
    "We'll now run the IBM model on a significantly larger dataset to showcase its failure modes:\n"
   ]
  },
  {
   "cell_type": "code",
   "execution_count": 5,
   "metadata": {
    "tags": []
   },
   "outputs": [],
   "source": [
    "import sentencepiece\n",
    "import torchtext\n",
    "from torchtext.datasets import Multi30k"
   ]
  },
  {
   "cell_type": "code",
   "execution_count": 6,
   "metadata": {
    "tags": []
   },
   "outputs": [
    {
     "name": "stderr",
     "output_type": "stream",
     "text": [
      "/opt/conda/envs/py37/lib/python3.7/site-packages/torchtext/data/field.py:150: UserWarning: Field class will be retired soon and moved to torchtext.legacy. Please see the most recent release notes for further information.\n",
      "  warnings.warn('{} class will be retired soon and moved to torchtext.legacy. Please see the most recent release notes for further information.'.format(self.__class__.__name__), UserWarning)\n",
      "/opt/conda/envs/py37/lib/python3.7/site-packages/torchtext/data/example.py:78: UserWarning: Example class will be retired soon and moved to torchtext.legacy. Please see the most recent release notes for further information.\n",
      "  warnings.warn('Example class will be retired soon and moved to torchtext.legacy. Please see the most recent release notes for further information.', UserWarning)\n"
     ]
    }
   ],
   "source": [
    "Multi30k.urls = [\n",
    "    \"https://raw.githubusercontent.com/neychev/small_DL_repo/master/datasets/Multi30k/training.tar.gz\",\n",
    "    \"https://raw.githubusercontent.com/neychev/small_DL_repo/master/datasets/Multi30k/validation.tar.gz\",\n",
    "    \"https://raw.githubusercontent.com/neychev/small_DL_repo/master/datasets/Multi30k/mmt16_task1_test.tar.gz\"\n",
    "]\n",
    "\n",
    "extensions = [\".de\", \".en\"]\n",
    "source_field = torchtext.data.Field(tokenize=lambda x: x)\n",
    "target_field = torchtext.data.Field(tokenize=lambda x: x)\n",
    "training_data, validation_data, test_data = torchtext.datasets.Multi30k.splits(\n",
    "    extensions, [source_field, target_field], root=\"/kaggle/working/\", test=\"test\")"
   ]
  },
  {
   "cell_type": "code",
   "execution_count": 177,
   "metadata": {
    "tags": []
   },
   "outputs": [
    {
     "name": "stdout",
     "output_type": "stream",
     "text": [
      "29000\n"
     ]
    },
    {
     "name": "stderr",
     "output_type": "stream",
     "text": [
      "100%|██████████| 10/10 [00:18<00:00,  1.82s/it]\n"
     ]
    }
   ],
   "source": [
    "def preprocess(sentence):\n",
    "    sentence = sentence.translate(str.maketrans('', '', string.punctuation)) # strip punctuation\n",
    "    return sentence.strip().lower().split()\n",
    "\n",
    "aligned_data = []\n",
    "print(len(training_data))\n",
    "for example in training_data[:1000]:\n",
    "    source = preprocess(example.src)\n",
    "    target = preprocess(example.trg)\n",
    "    aligned_data.append((source, target))\n",
    "\n",
    "ibm = IBMModel1(aligned_data, compute_perplexity=False)\n",
    "ibm.train()\n",
    "with open(\"multi30k_alignments.pkl\", \"wb\") as outfile:\n",
    "    pickle.dump(ibm.translation_probs, outfile, protocol=pickle.HIGHEST_PROTOCOL)"
   ]
  },
  {
   "cell_type": "code",
   "execution_count": 178,
   "metadata": {
    "tags": []
   },
   "outputs": [
    {
     "name": "stdout",
     "output_type": "stream",
     "text": [
      "('hund', 'dog'): 0.9765105915208369\n",
      "('hund', 'cat'): 1.0745541756409012e-16\n",
      "('ein', 'a'): 0.904016367677722\n",
      "('ein', 'the'): 0.0002091328743299106\n",
      "('frau', 'woman'): 0.9528437741343648\n",
      "('frau', 'man'): 2.454275253390026e-07\n",
      "[(0, 0), (1, 1), (2, 2), (3, 3), (4, 4)]\n"
     ]
    },
    {
     "data": {
      "image/png": "[encoded data removed]",
      "text/plain": [
       "<Figure size 750x750 with 1 Axes>"
      ]
     },
     "metadata": {},
     "output_type": "display_data"
    },
    {
     "name": "stdout",
     "output_type": "stream",
     "text": [
      "[(0, 5), (1, 1), (2, 1), (3, 1), (4, 4), (5, 6), (6, 5)]\n"
     ]
    },
    {
     "data": {
      "image/png": "[encoded data removed]",
      "text/plain": [
       "<Figure size 750x750 with 1 Axes>"
      ]
     },
     "metadata": {},
     "output_type": "display_data"
    }
   ],
   "source": [
    "# Making sure the model learned something:\n",
    "examples = [\n",
    "    (\"hund\", \"dog\"),\n",
    "    (\"hund\", \"cat\"),\n",
    "    (\"ein\", \"a\"),\n",
    "    (\"ein\", \"the\"),\n",
    "    (\"frau\", \"woman\"),\n",
    "    (\"frau\", \"man\"),\n",
    "]\n",
    "for example in examples:\n",
    "    print(str(example) + \": \" + str(ibm.translation_probs[example]))\n",
    "\n",
    "index = 20\n",
    "f = preprocess(\"Das Buch liegt auf Bank\")\n",
    "e = preprocess(\"the book is on bench\")\n",
    "alignment = ibm.get_alignment(f,e)\n",
    "visualize_alignment(alignment,f,e)\n",
    "\n",
    "f = preprocess(\"Das Bank gibt es im See nicht\")\n",
    "e = preprocess(\"There is no bank in the lake\")\n",
    "# print(f,e)\n",
    "alignment = ibm.get_alignment(f,e)\n",
    "visualize_alignment(alignment,f,e)"
   ]
  },
  {
   "cell_type": "markdown",
   "metadata": {},
   "source": [
    "From this larger dataset: find at least one sentence where the IBM alignment model performs reasonably well, and find another one where it fails catastrophically, and include alignment visualizations for both examples in your report. You may want to consult a [German-English dictionary](https://www.collinsdictionary.com/us/dictionary/english-german) for this part of the problem. Provide a brief explanation for why the alignment model did poorly on the failure case."
   ]
  }
 ],
 "metadata": {
  "kernelspec": {
   "display_name": "py37",
   "language": "python",
   "name": "py37"
  },
  "language_info": {
   "codemirror_mode": {
    "name": "ipython",
    "version": 3
   },
   "file_extension": ".py",
   "mimetype": "text/x-python",
   "name": "python",
   "nbconvert_exporter": "python",
   "pygments_lexer": "ipython3",
   "version": "3.7.16"
  }
 },
 "nbformat": 4,
 "nbformat_minor": 4
}
