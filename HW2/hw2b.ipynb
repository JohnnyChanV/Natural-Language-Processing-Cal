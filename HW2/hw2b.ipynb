{
 "cells": [
  {
   "cell_type": "markdown",
   "metadata": {},
   "source": [
    "# HW2B: Neural Machine Translation"
   ]
  },
  {
   "cell_type": "markdown",
   "metadata": {},
   "source": [
    "In this project, you will build a neural machine translation system using modern techniques for sequence-to-sequence modeling. You will first implement a baseline encoder-decoder architecture, then improve upon the baseline by adding an attention mechanism. The end result will be a fully functional translation system capable of translating simple German sentences into English."
   ]
  },
  {
   "cell_type": "markdown",
   "metadata": {},
   "source": [
    "## Setup"
   ]
  },
  {
   "cell_type": "markdown",
   "metadata": {},
   "source": [
    "First we install and import the required dependencies. These include:\n",
    "* `torch` for modeling and training\n",
    "* `torchtext` for data collection\n",
    "* `sentencepiece` for subword tokenization\n",
    "* `sacrebleu` for BLEU score evaluation"
   ]
  },
  {
   "cell_type": "code",
   "execution_count": 1,
   "metadata": {
    "ExecuteTime": {
     "end_time": "2023-09-25T05:15:50.117643Z",
     "start_time": "2023-09-25T05:15:50.023767Z"
    }
   },
   "outputs": [],
   "source": [
    "# Some of the functions below require an older version of torchtext than the default one Kaggle gives you.\n",
    "# IMPORTANT: Make sure that Internet is turned on!!! (Notebook options in the bar on the right)\n",
    "# IMPORTANT: If you're not already using Kaggle, we STRONGLY recommend you switch to Kaggle for hw1b in particular,\n",
    "# because copying our notebook will pin you to a Python version that lets you install the right version of torchtext.\n",
    "# On Colab you will have to downgrade your Python to e.g., 3.7 to do the below pip install, which is a pain to do.\n",
    "# !pip install torchtext==0.8.1\n",
    "# exit()"
   ]
  },
  {
   "cell_type": "code",
   "execution_count": 2,
   "metadata": {
    "ExecuteTime": {
     "end_time": "2023-09-26T17:03:13.616290Z",
     "start_time": "2023-09-26T17:03:12.790112Z"
    }
   },
   "outputs": [],
   "source": [
    "# %%capture\n",
    "# !pip install --upgrade sacrebleu sentencepiece\n",
    "# Standard library imports\n",
    "\n",
    "import json\n",
    "import math\n",
    "import random\n",
    "import pdb\n",
    "\n",
    "# Third party imports\n",
    "import matplotlib.pyplot as plt\n",
    "import numpy as np\n",
    "import sacrebleu\n",
    "import sentencepiece\n",
    "import torch\n",
    "import torch.nn as nn\n",
    "import torch.nn.functional as F\n",
    "import torchtext\n",
    "import tqdm.notebook"
   ]
  },
  {
   "cell_type": "markdown",
   "metadata": {},
   "source": [
    "Before proceeding, let's verify that we're connected to a GPU runtime and that `torch` can detect the GPU.\n",
    "We'll define a variable `device` here to use throughout the code so that we can easily change to run on CPU for debugging."
   ]
  },
  {
   "cell_type": "code",
   "execution_count": 3,
   "metadata": {
    "ExecuteTime": {
     "end_time": "2023-09-25T05:15:53.522728Z",
     "start_time": "2023-09-25T05:15:53.509700Z"
    }
   },
   "outputs": [
    {
     "name": "stdout",
     "output_type": "stream",
     "text": [
      "Using device: cuda\n"
     ]
    }
   ],
   "source": [
    "assert torch.cuda.is_available()\n",
    "device = torch.device(\"cuda\")\n",
    "print(\"Using device:\", device)"
   ]
  },
  {
   "cell_type": "markdown",
   "metadata": {},
   "source": [
    "## Data"
   ]
  },
  {
   "cell_type": "markdown",
   "metadata": {},
   "source": [
    "The data for this assignment comes from the [Multi30K dataset](https://arxiv.org/abs/1605.00459), which contains English and German captions for images from Flickr. We can download and unpack it using `torchtext`. We use the Multi30K dataset because it is simpler than standard translation benchmark datasets and allows for models to be trained and evaluated in a matter of minutes rather than days.\n",
    "\n",
    "We will be translating from German to English in this assignment, but the same techniques apply equally well to any language pair.\n",
    "\n"
   ]
  },
  {
   "cell_type": "code",
   "execution_count": 4,
   "metadata": {
    "ExecuteTime": {
     "end_time": "2023-09-25T05:15:54.466529Z",
     "start_time": "2023-09-25T05:15:53.525130Z"
    }
   },
   "outputs": [
    {
     "name": "stderr",
     "output_type": "stream",
     "text": [
      "/opt/conda/envs/py37/lib/python3.7/site-packages/torchtext/data/field.py:150: UserWarning: Field class will be retired soon and moved to torchtext.legacy. Please see the most recent release notes for further information.\n",
      "  warnings.warn('{} class will be retired soon and moved to torchtext.legacy. Please see the most recent release notes for further information.'.format(self.__class__.__name__), UserWarning)\n",
      "/opt/conda/envs/py37/lib/python3.7/site-packages/torchtext/data/example.py:78: UserWarning: Example class will be retired soon and moved to torchtext.legacy. Please see the most recent release notes for further information.\n",
      "  warnings.warn('Example class will be retired soon and moved to torchtext.legacy. Please see the most recent release notes for further information.', UserWarning)\n"
     ]
    }
   ],
   "source": [
    "import torchtext\n",
    "from torchtext.datasets import Multi30k\n",
    "\n",
    "Multi30k.urls = [\n",
    "    \"https://raw.githubusercontent.com/neychev/small_DL_repo/master/datasets/Multi30k/training.tar.gz\",\n",
    "    \"https://raw.githubusercontent.com/neychev/small_DL_repo/master/datasets/Multi30k/validation.tar.gz\",\n",
    "    \"https://raw.githubusercontent.com/neychev/small_DL_repo/master/datasets/Multi30k/mmt16_task1_test.tar.gz\"\n",
    "]\n",
    "\n",
    "extensions = [\".de\", \".en\"]\n",
    "source_field = torchtext.data.Field(tokenize=lambda x: x)\n",
    "target_field = torchtext.data.Field(tokenize=lambda x: x)\n",
    "training_data, validation_data, test_data = torchtext.datasets.Multi30k.splits(\n",
    "    extensions, [source_field, target_field], root=\"\", test=\"test\")"
   ]
  },
  {
   "cell_type": "markdown",
   "metadata": {},
   "source": [
    "Now that we have the data, let's see how large each split is and look at a few examples.\n"
   ]
  },
  {
   "cell_type": "code",
   "execution_count": 5,
   "metadata": {
    "ExecuteTime": {
     "end_time": "2023-09-25T05:15:54.490730Z",
     "start_time": "2023-09-25T05:15:54.475540Z"
    }
   },
   "outputs": [
    {
     "name": "stdout",
     "output_type": "stream",
     "text": [
      "Number of training examples: 29000\n",
      "Number of validation examples: 1014\n",
      "Number of test examples: 1000\n",
      "\n",
      "Zwei junge weiße Männer sind im Freien in der Nähe vieler Büsche.\n",
      "Two young, White males are outside near many bushes.\n",
      "\n",
      "Mehrere Männer mit Schutzhelmen bedienen ein Antriebsradsystem.\n",
      "Several men in hard hats are operating a giant pulley system.\n",
      "\n",
      "Ein kleines Mädchen klettert in ein Spielhaus aus Holz.\n",
      "A little girl climbing into a wooden playhouse.\n",
      "\n",
      "Ein Mann in einem blauen Hemd steht auf einer Leiter und putzt ein Fenster.\n",
      "A man in a blue shirt is standing on a ladder cleaning a window.\n",
      "\n",
      "Zwei Männer stehen am Herd und bereiten Essen zu.\n",
      "Two men are at the stove preparing food.\n",
      "\n",
      "Ein Mann in grün hält eine Gitarre, während der andere Mann sein Hemd ansieht.\n",
      "A man in green holds a guitar while the other man observes his shirt.\n",
      "\n",
      "Ein Mann lächelt einen ausgestopften Löwen an.\n",
      "A man is smiling at a stuffed lion\n",
      "\n",
      "Ein schickes Mädchen spricht mit dem Handy während sie langsam die Straße entlangschwebt.\n",
      "A trendy girl talking on her cellphone while gliding slowly down the street.\n",
      "\n",
      "Eine Frau mit einer großen Geldbörse geht an einem Tor vorbei.\n",
      "A woman with a large purse is walking by a gate.\n",
      "\n",
      "Jungen tanzen mitten in der Nacht auf Pfosten.\n",
      "Boys dancing on poles in the middle of the night.\n",
      "\n"
     ]
    }
   ],
   "source": [
    "print(\"Number of training examples:\", len(training_data))\n",
    "print(\"Number of validation examples:\", len(validation_data))\n",
    "print(\"Number of test examples:\", len(test_data))\n",
    "print()\n",
    "\n",
    "for example in training_data[:10]:\n",
    "  print(example.src)\n",
    "  print(example.trg)\n",
    "  print()"
   ]
  },
  {
   "cell_type": "markdown",
   "metadata": {},
   "source": [
    "## Vocabulary"
   ]
  },
  {
   "cell_type": "markdown",
   "metadata": {},
   "source": [
    "We can use `sentencepiece` to create a joint German-English subword vocabulary from the training corpus. Because the number of training examples is small, we choose a smaller vocabulary size than would be used for large-scale NMT."
   ]
  },
  {
   "cell_type": "code",
   "execution_count": 6,
   "metadata": {
    "ExecuteTime": {
     "end_time": "2023-09-25T05:15:59.217064Z",
     "start_time": "2023-09-25T05:15:54.484908Z"
    }
   },
   "outputs": [
    {
     "name": "stderr",
     "output_type": "stream",
     "text": [
      "sentencepiece_trainer.cc(177) LOG(INFO) Running command: --pad_id=0 --bos_id=1 --eos_id=2 --unk_id=3 --input=multi30k/train.de,multi30k/train.en --vocab_size=8000 --model_prefix=multi30k\n",
      "sentencepiece_trainer.cc(77) LOG(INFO) Starts training with : \n",
      "trainer_spec {\n",
      "  input: multi30k/train.de\n",
      "  input: multi30k/train.en\n",
      "  input_format: \n",
      "  model_prefix: multi30k\n",
      "  model_type: UNIGRAM\n",
      "  vocab_size: 8000\n",
      "  self_test_sample_size: 0\n",
      "  character_coverage: 0.9995\n",
      "  input_sentence_size: 0\n",
      "  shuffle_input_sentence: 1\n",
      "  seed_sentencepiece_size: 1000000\n",
      "  shrinking_factor: 0.75\n",
      "  max_sentence_length: 4192\n",
      "  num_threads: 16\n",
      "  num_sub_iterations: 2\n",
      "  max_sentencepiece_length: 16\n",
      "  split_by_unicode_script: 1\n",
      "  split_by_number: 1\n",
      "  split_by_whitespace: 1\n",
      "  split_digits: 0\n",
      "  pretokenization_delimiter: \n",
      "  treat_whitespace_as_suffix: 0\n",
      "  allow_whitespace_only_pieces: 0\n",
      "  required_chars: \n",
      "  byte_fallback: 0\n",
      "  vocabulary_output_piece_score: 1\n",
      "  train_extremely_large_corpus: 0\n",
      "  hard_vocab_limit: 1\n",
      "  use_all_vocab: 0\n",
      "  unk_id: 3\n",
      "  bos_id: 1\n",
      "  eos_id: 2\n",
      "  pad_id: 0\n",
      "  unk_piece: <unk>\n",
      "  bos_piece: <s>\n",
      "  eos_piece: </s>\n",
      "  pad_piece: <pad>\n",
      "  unk_surface:  ⁇ \n",
      "  enable_differential_privacy: 0\n",
      "  differential_privacy_noise_level: 0\n",
      "  differential_privacy_clipping_threshold: 0\n",
      "}\n",
      "normalizer_spec {\n",
      "  name: nmt_nfkc\n",
      "  add_dummy_prefix: 1\n",
      "  remove_extra_whitespaces: 1\n",
      "  escape_whitespaces: 1\n",
      "  normalization_rule_tsv: \n",
      "}\n",
      "denormalizer_spec {}\n",
      "trainer_interface.cc(351) LOG(INFO) SentenceIterator is not specified. Using MultiFileSentenceIterator.\n",
      "trainer_interface.cc(183) LOG(INFO) Loading corpus: multi30k/train.de\n",
      "trainer_interface.cc(183) LOG(INFO) Loading corpus: multi30k/train.en\n",
      "trainer_interface.cc(407) LOG(INFO) Loaded all 58000 sentences\n",
      "trainer_interface.cc(423) LOG(INFO) Adding meta_piece: <pad>\n",
      "trainer_interface.cc(423) LOG(INFO) Adding meta_piece: <s>\n",
      "trainer_interface.cc(423) LOG(INFO) Adding meta_piece: </s>\n",
      "trainer_interface.cc(423) LOG(INFO) Adding meta_piece: <unk>\n",
      "trainer_interface.cc(428) LOG(INFO) Normalizing sentences...\n",
      "trainer_interface.cc(537) LOG(INFO) all chars count=3877107\n",
      "trainer_interface.cc(548) LOG(INFO) Done: 99.9537% characters are covered.\n",
      "trainer_interface.cc(558) LOG(INFO) Alphabet size=60\n",
      "trainer_interface.cc(559) LOG(INFO) Final character coverage=0.999537\n",
      "trainer_interface.cc(591) LOG(INFO) Done! preprocessed 58000 sentences.\n",
      "unigram_model_trainer.cc(222) LOG(INFO) Making suffix array...\n",
      "unigram_model_trainer.cc(226) LOG(INFO) Extracting frequent sub strings... node_num=2139779\n",
      "unigram_model_trainer.cc(274) LOG(INFO) Initialized 81782 seed sentencepieces\n",
      "trainer_interface.cc(597) LOG(INFO) Tokenizing input sentences with whitespace: 58000\n",
      "trainer_interface.cc(608) LOG(INFO) Done! 39388\n",
      "unigram_model_trainer.cc(564) LOG(INFO) Using 39388 sentences for EM training\n",
      "unigram_model_trainer.cc(580) LOG(INFO) EM sub_iter=0 size=24756 obj=10.2757 num_tokens=79134 num_tokens/piece=3.19656\n",
      "unigram_model_trainer.cc(580) LOG(INFO) EM sub_iter=1 size=20873 obj=8.08679 num_tokens=79533 num_tokens/piece=3.81033\n",
      "unigram_model_trainer.cc(580) LOG(INFO) EM sub_iter=0 size=15641 obj=8.07036 num_tokens=85721 num_tokens/piece=5.48053\n",
      "unigram_model_trainer.cc(580) LOG(INFO) EM sub_iter=1 size=15630 obj=8.04388 num_tokens=85743 num_tokens/piece=5.4858\n",
      "unigram_model_trainer.cc(580) LOG(INFO) EM sub_iter=0 size=11722 obj=8.16114 num_tokens=95990 num_tokens/piece=8.18888\n",
      "unigram_model_trainer.cc(580) LOG(INFO) EM sub_iter=1 size=11722 obj=8.13206 num_tokens=95994 num_tokens/piece=8.18922\n",
      "unigram_model_trainer.cc(580) LOG(INFO) EM sub_iter=0 size=8800 obj=8.30125 num_tokens=107803 num_tokens/piece=12.2503\n",
      "unigram_model_trainer.cc(580) LOG(INFO) EM sub_iter=1 size=8800 obj=8.27055 num_tokens=107797 num_tokens/piece=12.2497\n",
      "trainer_interface.cc(686) LOG(INFO) Saving model: multi30k.model\n",
      "trainer_interface.cc(698) LOG(INFO) Saving vocabs: multi30k.vocab\n"
     ]
    }
   ],
   "source": [
    "args = {\n",
    "    \"pad_id\": 0,\n",
    "    \"bos_id\": 1,\n",
    "    \"eos_id\": 2,\n",
    "    \"unk_id\": 3,\n",
    "    \"input\": \"multi30k/train.de,multi30k/train.en\",\n",
    "    \"vocab_size\": 8000,\n",
    "    \"model_prefix\": \"multi30k\",\n",
    "}\n",
    "combined_args = \" \".join(\n",
    "    \"--{}={}\".format(key, value) for key, value in args.items())\n",
    "sentencepiece.SentencePieceTrainer.Train(combined_args)"
   ]
  },
  {
   "cell_type": "markdown",
   "metadata": {},
   "source": [
    "This creates two files: `multi30k.model` and `multi30k.vocab`. The first is a binary file containing the relevant data for the vocabulary. The second is a human-readable listing of each subword and its associated score."
   ]
  },
  {
   "cell_type": "markdown",
   "metadata": {},
   "source": [
    "We can preview the contents of the vocabulary by looking at the first few rows from the human-readable file."
   ]
  },
  {
   "cell_type": "code",
   "execution_count": 7,
   "metadata": {
    "ExecuteTime": {
     "end_time": "2023-09-25T05:15:59.518620Z",
     "start_time": "2023-09-25T05:15:59.215983Z"
    }
   },
   "outputs": [
    {
     "name": "stdout",
     "output_type": "stream",
     "text": [
      "<pad>\t0\n",
      "<s>\t0\n",
      "</s>\t0\n",
      "<unk>\t0\n",
      ".\t-2.72718\n",
      "▁a\t-3.21357\n",
      "▁in\t-3.43973\n",
      "m\t-3.78503\n",
      "▁eine\t-3.82141\n",
      "▁A\t-3.86856\n",
      "s\t-4.06457\n",
      "▁Ein\t-4.11399\n",
      ",\t-4.20405\n",
      "▁the\t-4.35217\n",
      "▁und\t-4.5704\n",
      "▁mit\t-4.57911\n",
      "▁auf\t-4.58144\n",
      "▁on\t-4.65674\n",
      "n\t-4.67038\n",
      "▁Mann\t-4.70521\n",
      "▁is\t-4.73988\n",
      "▁man\t-4.75331\n",
      "▁and\t-4.76404\n",
      "▁\t-4.76512\n",
      "ing\t-4.8072\n",
      "▁of\t-4.83344\n",
      "▁einer\t-4.86421\n",
      "▁with\t-4.93426\n",
      "▁Eine\t-4.98902\n",
      "▁ein\t-5.126\n"
     ]
    }
   ],
   "source": [
    "!head -n 30 multi30k.vocab"
   ]
  },
  {
   "cell_type": "markdown",
   "metadata": {
    "execution": {
     "iopub.execute_input": "2023-09-12T22:55:47.608994Z",
     "iopub.status.busy": "2023-09-12T22:55:47.605875Z",
     "iopub.status.idle": "2023-09-12T22:55:47.622022Z",
     "shell.execute_reply": "2023-09-12T22:55:47.61968Z",
     "shell.execute_reply.started": "2023-09-12T22:55:47.608941Z"
    }
   },
   "source": [
    "As we can see, the vocabulary consists of four special tokens (`<pad>` for padding, `<s>` for beginning of sentence (BOS), `</s>` for end of sentence (EOS), `<unk>` for unknown) and a mixture of German and English words and subwords. In order to ensure reversability, word boundaries are encoded with a special unicode character \"▁\" (U+2581)."
   ]
  },
  {
   "cell_type": "markdown",
   "metadata": {
    "execution": {
     "iopub.execute_input": "2023-09-12T22:56:07.989008Z",
     "iopub.status.busy": "2023-09-12T22:56:07.98859Z",
     "iopub.status.idle": "2023-09-12T22:56:07.996503Z",
     "shell.execute_reply": "2023-09-12T22:56:07.994868Z",
     "shell.execute_reply.started": "2023-09-12T22:56:07.988975Z"
    }
   },
   "source": [
    "To use the vocabulary, we first need to load it from the binary file produced above."
   ]
  },
  {
   "cell_type": "code",
   "execution_count": 8,
   "metadata": {
    "ExecuteTime": {
     "end_time": "2023-09-25T05:15:59.612215Z",
     "start_time": "2023-09-25T05:15:59.609073Z"
    }
   },
   "outputs": [
    {
     "data": {
      "text/plain": [
       "True"
      ]
     },
     "execution_count": 8,
     "metadata": {},
     "output_type": "execute_result"
    }
   ],
   "source": [
    "vocab = sentencepiece.SentencePieceProcessor()\n",
    "vocab.Load(\"multi30k.model\")"
   ]
  },
  {
   "cell_type": "markdown",
   "metadata": {},
   "source": [
    "The vocabulary object includes a number of methods for working with full sequences or individual pieces. We explore the most relevant ones below. A complete interface can be found on [GitHub](https://github.com/google/sentencepiece/tree/master/python#usage) for reference."
   ]
  },
  {
   "cell_type": "code",
   "execution_count": 9,
   "metadata": {
    "ExecuteTime": {
     "end_time": "2023-09-25T05:15:59.631458Z",
     "start_time": "2023-09-25T05:15:59.622192Z"
    }
   },
   "outputs": [
    {
     "name": "stdout",
     "output_type": "stream",
     "text": [
      "Vocabulary size: 8000\n",
      "\n",
      "Two young, White males are outside near many bushes.\n",
      "['▁Two', '▁young', ',', '▁White', '▁males', '▁are', '▁outside', '▁near', '▁many', '▁bushes', '.']\n",
      "Two young, White males are outside near many bushes.\n",
      "[42, 54, 12, 2889, 2225, 36, 127, 173, 815, 3513, 4]\n",
      "Two young, White males are outside near many bushes.\n",
      "\n",
      "▁the\n",
      "13\n",
      "▁the\n"
     ]
    }
   ],
   "source": [
    "print(\"Vocabulary size:\", vocab.GetPieceSize())\n",
    "print()\n",
    "\n",
    "for example in training_data[:1]:\n",
    "  sentence = example.trg\n",
    "  pieces = vocab.EncodeAsPieces(sentence)\n",
    "  indices = vocab.EncodeAsIds(sentence)\n",
    "  print(sentence)\n",
    "  print(pieces)\n",
    "  print(vocab.DecodePieces(pieces))\n",
    "  print(indices)\n",
    "  print(vocab.DecodeIds(indices))\n",
    "  print()\n",
    "\n",
    "piece = vocab.EncodeAsPieces(\"the\")[0]\n",
    "index = vocab.PieceToId(piece)\n",
    "print(piece)\n",
    "print(index)\n",
    "print(vocab.IdToPiece(index))"
   ]
  },
  {
   "cell_type": "markdown",
   "metadata": {},
   "source": [
    "We define some constants here for the first three special tokens that you may find useful in the following sections."
   ]
  },
  {
   "cell_type": "code",
   "execution_count": 10,
   "metadata": {
    "ExecuteTime": {
     "end_time": "2023-09-25T05:15:59.682930Z",
     "start_time": "2023-09-25T05:15:59.638480Z"
    }
   },
   "outputs": [],
   "source": [
    "pad_id = vocab.PieceToId(\"<pad>\")\n",
    "bos_id = vocab.PieceToId(\"<s>\")\n",
    "eos_id = vocab.PieceToId(\"</s>\")"
   ]
  },
  {
   "cell_type": "markdown",
   "metadata": {},
   "source": [
    "Note that these tokens will be stripped from the output when converting from word pieces to text. This may be helpful when implementing greedy search and beam search."
   ]
  },
  {
   "cell_type": "code",
   "execution_count": 11,
   "metadata": {
    "ExecuteTime": {
     "end_time": "2023-09-25T05:15:59.684621Z",
     "start_time": "2023-09-25T05:15:59.683211Z"
    }
   },
   "outputs": [
    {
     "name": "stdout",
     "output_type": "stream",
     "text": [
      "Two young, White males are outside near many bushes.\n",
      "Two young, White males are outside near many bushes.\n",
      "True\n"
     ]
    }
   ],
   "source": [
    "sentence = training_data[0].trg\n",
    "indices = vocab.EncodeAsIds(sentence)\n",
    "indices_augmented = [bos_id] + indices + [eos_id, pad_id, pad_id, pad_id]\n",
    "print(vocab.DecodeIds(indices))\n",
    "print(vocab.DecodeIds(indices_augmented))\n",
    "print(vocab.DecodeIds(indices) == vocab.DecodeIds(indices_augmented))"
   ]
  },
  {
   "cell_type": "markdown",
   "metadata": {},
   "source": [
    "## Baseline sequence-to-sequence model"
   ]
  },
  {
   "cell_type": "markdown",
   "metadata": {},
   "source": [
    "With our data and vocabulary loaded, we're now ready to build a baseline sequence-to-sequence model.  Later on we'll add an attention mechanism to the model."
   ]
  },
  {
   "cell_type": "markdown",
   "metadata": {},
   "source": [
    "Let's begin by defining a batch iterator for the training data. Given a dataset and a batch size, it will iterate over the dataset and yield pairs of tensors containing the subword indices for the source and target sentences in the batch, respectively.  Fill in `make_batch` below."
   ]
  },
  {
   "cell_type": "code",
   "execution_count": 12,
   "metadata": {
    "ExecuteTime": {
     "end_time": "2023-09-25T05:15:59.805739Z",
     "start_time": "2023-09-25T05:15:59.683564Z"
    }
   },
   "outputs": [
    {
     "name": "stdout",
     "output_type": "stream",
     "text": [
      "Example batch tensor:\n",
      "torch.Size([11, 2])\n"
     ]
    }
   ],
   "source": [
    "def make_batch(sentences):\n",
    "  \"\"\"Convert a list of sentences into a batch of subword indices.\n",
    "\n",
    "  Args:\n",
    "    sentences: A list of sentences, each of which is a string.\n",
    "\n",
    "  Returns:\n",
    "    A LongTensor of size (max_sequence_length, batch_size) containing the\n",
    "    subword indices for the sentences, where max_sequence_length is the length\n",
    "    of the longest sentence as encoded by the subword vocabulary and batch_size\n",
    "    is the number of sentences in the batch. A beginning-of-sentence token\n",
    "    should be included before each sequence, and an end-of-sentence token should\n",
    "    be included after each sequence. Empty slots at the end of shorter sequences\n",
    "    should be filled with padding tokens. The tensor should be located on the\n",
    "    device defined at the beginning of the notebook.\n",
    "  \"\"\"\n",
    "\n",
    "  # Implementation tip: You can use the nn.utils.rnn.pad_sequence utility\n",
    "  # function to combine a list of variable-length sequences with padding.\n",
    "\n",
    "  # YOUR CODE HERE\n",
    "  indicies = [torch.tensor([bos_id]+vocab.EncodeAsIds(sentence)+[eos_id]) for sentence in sentences]\n",
    "  indicies = nn.utils.rnn.pad_sequence(indicies,padding_value=pad_id)\n",
    "  return indicies.long()\n",
    "  # BEGIN SOLUTION\n",
    "\n",
    "  # END SOLUTION\n",
    "\n",
    "def make_batch_iterator(dataset, batch_size, shuffle=False):\n",
    "  \"\"\"Make a batch iterator that yields source-target pairs.\n",
    "\n",
    "  Args:\n",
    "    dataset: A torchtext dataset object.\n",
    "    batch_size: An integer batch size.\n",
    "    shuffle: A boolean indicating whether to shuffle the examples.\n",
    "\n",
    "  Yields:\n",
    "    Pairs of tensors constructed by calling the make_batch function on the\n",
    "    source and target sentences in the current group of examples. The max\n",
    "    sequence length can differ between the source and target tensor, but the\n",
    "    batch size will be the same. The final batch may be smaller than the given\n",
    "    batch size.\n",
    "  \"\"\"\n",
    "\n",
    "  examples = list(dataset)\n",
    "  if shuffle:\n",
    "    random.shuffle(examples)\n",
    "\n",
    "  for start_index in range(0, len(examples), batch_size):\n",
    "    example_batch = examples[start_index:start_index + batch_size]\n",
    "    source_sentences = [example.src for example in example_batch]\n",
    "    target_sentences = [example.trg for example in example_batch]\n",
    "    yield make_batch(source_sentences), make_batch(target_sentences)\n",
    "\n",
    "test_batch = make_batch([\"a test input\", \"a longer input than the first\"])\n",
    "print(\"Example batch tensor:\")\n",
    "print(test_batch.shape)\n",
    "assert test_batch.shape[1] == 2\n",
    "assert test_batch[0, 0] == bos_id\n",
    "assert test_batch[0, 1] == bos_id\n",
    "assert test_batch[-1, 0] == pad_id\n",
    "assert test_batch[-1, 1] == eos_id"
   ]
  },
  {
   "cell_type": "markdown",
   "metadata": {},
   "source": [
    "Now we will define the model itself. It should consist of a bidirectional LSTM encoder that encodes the input sentence into a fixed-size representation, and an LSTM decoder that uses this representation to produce the output sentence."
   ]
  },
  {
   "cell_type": "code",
   "execution_count": 13,
   "metadata": {
    "ExecuteTime": {
     "end_time": "2023-09-25T05:15:59.822711Z",
     "start_time": "2023-09-25T05:15:59.805907Z"
    }
   },
   "outputs": [],
   "source": [
    "class Seq2seqBaseline(nn.Module):\n",
    "  def __init__(self):\n",
    "    super().__init__()\n",
    "\n",
    "    # Initialize your model's parameters here. To get started, we suggest\n",
    "    # setting all embedding and hidden dimensions to 256, using encoder and\n",
    "    # decoder LSTMs with 2 layers, and using a dropout rate of 0.5.\n",
    "\n",
    "    # Implementation tip: To create a bidirectional LSTM, you don't need to\n",
    "    # create two LSTM networks. Instead use nn.LSTM(..., bidirectional=True).\n",
    "\n",
    "    # YOUR CODE HERE\n",
    "\n",
    "    self.embedding = nn.Embedding(num_embeddings=args[\"vocab_size\"],embedding_dim=256)\n",
    "    self.encoder = nn.LSTM(input_size=256,num_layers=2,dropout=0.5,hidden_size=256,bidirectional=True)\n",
    "    self.decoder = nn.LSTM(input_size=256,num_layers=2,dropout=0.5,hidden_size=256,bidirectional=False)\n",
    "    self.fc = nn.Linear(256,args[\"vocab_size\"])\n",
    "    # BEGIN SOLUTION\n",
    "\n",
    "    # END SOLUTION\n",
    "\n",
    "  def encode(self, source):\n",
    "    \"\"\"Encode the source batch using a bidirectional LSTM encoder.\n",
    "\n",
    "    Args:\n",
    "      source: An integer tensor with shape (max_source_sequence_length,\n",
    "        batch_size) containing subword indices for the source sentences.\n",
    "\n",
    "    Returns:\n",
    "      A tuple with three elements:\n",
    "        encoder_output: The output of the bidirectional LSTM with shape\n",
    "          (max_source_sequence_length, batch_size, 2 * hidden_size).\n",
    "        encoder_mask: A boolean tensor with shape (max_source_sequence_length,\n",
    "          batch_size) indicating which encoder outputs correspond to padding\n",
    "          tokens. Its elements should be True at positions corresponding to\n",
    "          padding tokens and False elsewhere.\n",
    "        encoder_hidden: The final hidden states of the bidirectional LSTM (after\n",
    "          a suitable projection) that will be used to initialize the decoder.\n",
    "          This should be a pair of tensors (h_n, c_n), each with shape\n",
    "          (num_layers, batch_size, hidden_size). Note that the hidden state\n",
    "          returned by the LSTM cannot be used directly. Its initial dimension is\n",
    "          twice the required size because it contains state from two directions.\n",
    "\n",
    "    The first two return values are not required for the baseline model and will\n",
    "    only be used later in the attention model. If desired, they can be replaced\n",
    "    with None for the initial implementation.\n",
    "    \"\"\"\n",
    "\n",
    "    # Implementation tip: consider using packed sequences to more easily work\n",
    "    # with the variable-length sequences represented by the source tensor.\n",
    "    # See https://pytorch.org/docs/stable/nn.html#torch.nn.utils.rnn.PackedSequence.\n",
    "\n",
    "    # Implementation tip: there are many simple ways to combine the forward\n",
    "    # and backward portions of the final hidden state, e.g. addition, averaging,\n",
    "    # or a linear transformation of the appropriate size. Any of these\n",
    "    # should let you reach the required performance.\n",
    "\n",
    "    # Compute a tensor containing the length of each source sequence.\n",
    "    lengths = torch.sum(source != pad_id, axis=0)\n",
    "\n",
    "    # YOUR CODE HERE\n",
    "    embedding = self.embedding(source)\n",
    "    embedding = F.dropout(embedding,0.2)\n",
    "    encoder_output, encoder_hidden = self.encoder(embedding)\n",
    "    encoder_hidden = (\n",
    "      encoder_hidden[0][:2,:,:],\n",
    "      encoder_hidden[1][:2,:,:]\n",
    "    )\n",
    "    encoder_mask = (source != pad_id).int()\n",
    "\n",
    "    return encoder_output, encoder_mask, encoder_hidden\n",
    "\n",
    "  def decode(self, decoder_input, initial_hidden, encoder_output, encoder_mask):\n",
    "    \"\"\"Run the decoder LSTM starting from an initial hidden state.\n",
    "\n",
    "    The third and fourth arguments are not used in the baseline model, but are\n",
    "    included for compatibility with the attention model in the next section.\n",
    "\n",
    "    Args:\n",
    "      decoder_input: An integer tensor with shape (max_decoder_sequence_length,\n",
    "        batch_size) containing the subword indices for the decoder input. During\n",
    "        evaluation, where decoding proceeds one step at a time, the initial\n",
    "        dimension should be 1.\n",
    "      initial_hidden: A pair of tensors (h_0, c_0) representing the initial\n",
    "        state of the decoder, each with shape (num_layers, batch_size,\n",
    "        hidden_size).\n",
    "      encoder_output: The output of the encoder with shape\n",
    "        (max_source_sequence_length, batch_size, 2 * hidden_size).\n",
    "      encoder_mask: The output mask from the encoder with shape\n",
    "        (max_source_sequence_length, batch_size). Encoder outputs at positions\n",
    "        with a True value correspond to padding tokens and should be ignored.\n",
    "\n",
    "    Returns:\n",
    "      A tuple with three elements:\n",
    "        logits: A tensor with shape (max_decoder_sequence_length, batch_size,\n",
    "          vocab_size) containing unnormalized scores for the next-word\n",
    "          predictions at each position.\n",
    "        decoder_hidden: A pair of tensors (h_n, c_n) with the same shape as\n",
    "          initial_hidden representing the updated decoder state after processing\n",
    "          the decoder input.\n",
    "        attention_weights: This will be implemented later in the attention\n",
    "          model, but in order to maintain compatible type signatures, we also\n",
    "          include it here. This can be None or any other placeholder value.\n",
    "    \"\"\"\n",
    "\n",
    "    # These arguments are not used in the baseline model.\n",
    "    del encoder_output\n",
    "    del encoder_mask\n",
    "\n",
    "    # YOUR CODE HERE\n",
    "    decoder_hidden = initial_hidden\n",
    "    decoder_input = self.embedding(decoder_input)\n",
    "    decoder_input = F.relu(decoder_input)\n",
    "    decoder_output,decoder_hidden = self.decoder(decoder_input,decoder_hidden)\n",
    "    decoder_hidden = (\n",
    "      decoder_hidden[0][:2,:,:],\n",
    "      decoder_hidden[1][:2,:,:]\n",
    "    )\n",
    "    decoder_output = F.relu(decoder_output)\n",
    "    decoder_output = self.fc(decoder_output)\n",
    "\n",
    "    return decoder_output, decoder_hidden, None\n",
    "    # BEGIN SOLUTION\n",
    "\n",
    "    # END SOLUTION\n",
    "\n",
    "  def compute_loss(self, source, target):\n",
    "    \"\"\"Run the model on the source and compute the loss on the target.\n",
    "\n",
    "    Args:\n",
    "      source: An integer tensor with shape (max_source_sequence_length,\n",
    "        batch_size) containing subword indices for the source sentences.\n",
    "      target: An integer tensor with shape (max_target_sequence_length,\n",
    "        batch_size) containing subword indices for the target sentences.\n",
    "\n",
    "    Returns:\n",
    "      A scalar float tensor representing cross-entropy loss on the current batch.\n",
    "    \"\"\"\n",
    "\n",
    "    # Implementation tip: don't feed the target tensor directly to the decoder.\n",
    "    # To see why, note that for a target sequence like <s> A B C </s>, you would\n",
    "    # want to run the decoder on the prefix <s> A B C and have it predict the\n",
    "    # suffix A B C </s>.\n",
    "\n",
    "    # YOUR CODE HERE\n",
    "    # encoder_output, encoder_mask, encoder_hidden = self.encode(source)\n",
    "    # decoder_output, decoder_hidden, attention_weight = self.decode(encoder_output,encoder_hidden,None,None)\n",
    "    prefix_t = target[:-1,:] ## this is what we input to the decoder\n",
    "    suffix_t = target[1:,:] ## this is what we want the model to output\n",
    "    source = source.cuda().long()\n",
    "    prefix_t = prefix_t.cuda().long()\n",
    "    suffix_t = suffix_t.cuda().long()\n",
    "    encoder_output, encoder_mask, encoder_hidden = self.encode(source)\n",
    "    decoder_output, decoder_hidden, _ = self.decode(prefix_t,encoder_hidden,encoder_output,encoder_mask)\n",
    "\n",
    "    decoder_output = decoder_output.reshape(-1,args[\"vocab_size\"])\n",
    "    suffix_t = suffix_t.reshape(-1)\n",
    "    loss = F.cross_entropy(decoder_output,suffix_t)\n",
    "    return loss"
   ]
  },
  {
   "cell_type": "markdown",
   "metadata": {},
   "source": [
    "We define the following functions for training.  This code will run as provided, but you are welcome to modify the training loop to adjust the optimizer settings, add learning rate decay, etc.\n"
   ]
  },
  {
   "cell_type": "code",
   "execution_count": 14,
   "metadata": {
    "ExecuteTime": {
     "end_time": "2023-09-25T05:15:59.822940Z",
     "start_time": "2023-09-25T05:15:59.806181Z"
    }
   },
   "outputs": [],
   "source": [
    "def train(model, num_epochs, batch_size, model_file):\n",
    "  \"\"\"Train the model and save its best checkpoint.\n",
    "\n",
    "  Model performance across epochs is evaluated using token-level accuracy on the\n",
    "  validation set. The best checkpoint obtained during training will be stored on\n",
    "  disk and loaded back into the model at the end of training.\n",
    "  \"\"\"\n",
    "  optimizer = torch.optim.Adam(model.parameters(),weight_decay=1e-5)\n",
    "  best_accuracy = 0.0\n",
    "  for epoch in tqdm.notebook.trange(num_epochs, desc=\"training\", unit=\"epoch\"):\n",
    "    with tqdm.notebook.tqdm(\n",
    "        make_batch_iterator(training_data, batch_size, shuffle=True),\n",
    "        desc=\"epoch {}\".format(epoch + 1),\n",
    "        unit=\"batch\",\n",
    "        total=math.ceil(len(training_data) / batch_size)) as batch_iterator:\n",
    "      model.train()\n",
    "      total_loss = 0.0\n",
    "      for i, (source, target) in enumerate(batch_iterator, start=1):\n",
    "        optimizer.zero_grad()\n",
    "        loss = model.compute_loss(source, target)\n",
    "        total_loss += loss.item()\n",
    "        loss.backward()\n",
    "        optimizer.step()\n",
    "        batch_iterator.set_postfix(mean_loss=total_loss / i)\n",
    "      validation_perplexity, validation_accuracy = evaluate_next_token(\n",
    "          model, validation_data)\n",
    "      batch_iterator.set_postfix(\n",
    "          mean_loss=total_loss / i,\n",
    "          validation_perplexity=validation_perplexity,\n",
    "          validation_token_accuracy=validation_accuracy)\n",
    "      if validation_accuracy > best_accuracy:\n",
    "        print(\n",
    "            \"Obtained a new best validation accuracy of {:.2f}, saving model \"\n",
    "            \"checkpoint to {}...\".format(validation_accuracy, model_file))\n",
    "        torch.save(model.state_dict(), model_file)\n",
    "        best_accuracy = validation_accuracy\n",
    "  print(\"Reloading best model checkpoint from {}...\".format(model_file))\n",
    "  model.load_state_dict(torch.load(model_file))\n",
    "\n",
    "def evaluate_next_token(model, dataset, batch_size=64):\n",
    "  \"\"\"Compute token-level perplexity and accuracy metrics.\n",
    "\n",
    "  Note that the perplexity here is over subwords, not words.\n",
    "\n",
    "  This function is used for validation set evaluation at the end of each epoch\n",
    "  and should not be modified.\n",
    "  \"\"\"\n",
    "  model.eval()\n",
    "  total_cross_entropy = 0.0\n",
    "  total_predictions = 0\n",
    "  correct_predictions = 0\n",
    "  with torch.no_grad():\n",
    "    for source, target in make_batch_iterator(dataset, batch_size):\n",
    "      source = source.cuda()\n",
    "      target = target.cuda()\n",
    "      encoder_output, encoder_mask, encoder_hidden = model.encode(source)\n",
    "      decoder_input, decoder_target = target[:-1], target[1:]\n",
    "      logits, decoder_hidden, attention_weights = model.decode(\n",
    "          decoder_input, encoder_hidden, encoder_output, encoder_mask)\n",
    "      total_cross_entropy += F.cross_entropy(\n",
    "          logits.permute(1, 2, 0), decoder_target.permute(1, 0),\n",
    "          ignore_index=pad_id, reduction=\"sum\").item()\n",
    "      total_predictions += (decoder_target != pad_id).sum().item()\n",
    "      correct_predictions += (\n",
    "          (decoder_target != pad_id) &\n",
    "          (decoder_target == logits.argmax(2))).sum().item()\n",
    "  perplexity = math.exp(total_cross_entropy / total_predictions)\n",
    "  accuracy = 100 * correct_predictions / total_predictions\n",
    "  return perplexity, accuracy"
   ]
  },
  {
   "cell_type": "markdown",
   "metadata": {},
   "source": [
    "We can now train the baseline model.\n",
    "\n",
    "Since we haven't yet defined a decoding method to output an entire string, we will measure performance for now by computing perplexity and the accuracy of predicting the next token given a gold prefix of the output. A correct implementation should get a validation token accuracy above 55%. The training code will automatically save the model with the highest validation accuracy and reload that checkpoint's parameters at the end of training."
   ]
  },
  {
   "cell_type": "code",
   "execution_count": 69,
   "metadata": {
    "ExecuteTime": {
     "end_time": "2023-09-25T05:16:03.628996Z",
     "start_time": "2023-09-25T05:15:59.806563Z"
    }
   },
   "outputs": [
    {
     "data": {
      "application/vnd.jupyter.widget-view+json": {
       "model_id": "c10e4bd6c53c4b778542d5aecd667c94",
       "version_major": 2,
       "version_minor": 0
      },
      "text/plain": [
       "training:   0%|          | 0/15 [00:00<?, ?epoch/s]"
      ]
     },
     "metadata": {},
     "output_type": "display_data"
    },
    {
     "data": {
      "application/vnd.jupyter.widget-view+json": {
       "model_id": "128342a10d2945d88f37482002b24476",
       "version_major": 2,
       "version_minor": 0
      },
      "text/plain": [
       "epoch 1:   0%|          | 0/114 [00:00<?, ?batch/s]"
      ]
     },
     "metadata": {},
     "output_type": "display_data"
    },
    {
     "name": "stdout",
     "output_type": "stream",
     "text": [
      "Obtained a new best validation accuracy of 54.07, saving model checkpoint to baseline_model.pt...\n"
     ]
    },
    {
     "data": {
      "application/vnd.jupyter.widget-view+json": {
       "model_id": "eddfd6da31fc4c42801771a91b1f9d98",
       "version_major": 2,
       "version_minor": 0
      },
      "text/plain": [
       "epoch 2:   0%|          | 0/114 [00:00<?, ?batch/s]"
      ]
     },
     "metadata": {},
     "output_type": "display_data"
    },
    {
     "name": "stdout",
     "output_type": "stream",
     "text": [
      "Obtained a new best validation accuracy of 54.41, saving model checkpoint to baseline_model.pt...\n"
     ]
    },
    {
     "data": {
      "application/vnd.jupyter.widget-view+json": {
       "model_id": "5e0b4225d7e744d7ac15fbf4db2b83cb",
       "version_major": 2,
       "version_minor": 0
      },
      "text/plain": [
       "epoch 3:   0%|          | 0/114 [00:00<?, ?batch/s]"
      ]
     },
     "metadata": {},
     "output_type": "display_data"
    },
    {
     "name": "stdout",
     "output_type": "stream",
     "text": [
      "Obtained a new best validation accuracy of 54.71, saving model checkpoint to baseline_model.pt...\n"
     ]
    },
    {
     "data": {
      "application/vnd.jupyter.widget-view+json": {
       "model_id": "295ce8d1d3834997808f668d7f336176",
       "version_major": 2,
       "version_minor": 0
      },
      "text/plain": [
       "epoch 4:   0%|          | 0/114 [00:00<?, ?batch/s]"
      ]
     },
     "metadata": {},
     "output_type": "display_data"
    },
    {
     "name": "stdout",
     "output_type": "stream",
     "text": [
      "Obtained a new best validation accuracy of 54.84, saving model checkpoint to baseline_model.pt...\n"
     ]
    },
    {
     "data": {
      "application/vnd.jupyter.widget-view+json": {
       "model_id": "31cb76d1a6114c5ab432cb303ca109c7",
       "version_major": 2,
       "version_minor": 0
      },
      "text/plain": [
       "epoch 5:   0%|          | 0/114 [00:00<?, ?batch/s]"
      ]
     },
     "metadata": {},
     "output_type": "display_data"
    },
    {
     "data": {
      "application/vnd.jupyter.widget-view+json": {
       "model_id": "d8c4fffbed104b9a86a4f24ff4c93a95",
       "version_major": 2,
       "version_minor": 0
      },
      "text/plain": [
       "epoch 6:   0%|          | 0/114 [00:00<?, ?batch/s]"
      ]
     },
     "metadata": {},
     "output_type": "display_data"
    },
    {
     "data": {
      "application/vnd.jupyter.widget-view+json": {
       "model_id": "1744183d93c146f5a1a72293ef2b5945",
       "version_major": 2,
       "version_minor": 0
      },
      "text/plain": [
       "epoch 7:   0%|          | 0/114 [00:00<?, ?batch/s]"
      ]
     },
     "metadata": {},
     "output_type": "display_data"
    },
    {
     "name": "stdout",
     "output_type": "stream",
     "text": [
      "Obtained a new best validation accuracy of 54.99, saving model checkpoint to baseline_model.pt...\n"
     ]
    },
    {
     "data": {
      "application/vnd.jupyter.widget-view+json": {
       "model_id": "ce5042d54d034ff69760a1beeab2f562",
       "version_major": 2,
       "version_minor": 0
      },
      "text/plain": [
       "epoch 8:   0%|          | 0/114 [00:00<?, ?batch/s]"
      ]
     },
     "metadata": {},
     "output_type": "display_data"
    },
    {
     "data": {
      "application/vnd.jupyter.widget-view+json": {
       "model_id": "5b578ed0c2b547d795f81df18bd00437",
       "version_major": 2,
       "version_minor": 0
      },
      "text/plain": [
       "epoch 9:   0%|          | 0/114 [00:00<?, ?batch/s]"
      ]
     },
     "metadata": {},
     "output_type": "display_data"
    },
    {
     "data": {
      "application/vnd.jupyter.widget-view+json": {
       "model_id": "1637b05849044c8b8b0b9a3a6069de1a",
       "version_major": 2,
       "version_minor": 0
      },
      "text/plain": [
       "epoch 10:   0%|          | 0/114 [00:00<?, ?batch/s]"
      ]
     },
     "metadata": {},
     "output_type": "display_data"
    },
    {
     "data": {
      "application/vnd.jupyter.widget-view+json": {
       "model_id": "ded065ce78bc49d2bd1349498f2d4f5b",
       "version_major": 2,
       "version_minor": 0
      },
      "text/plain": [
       "epoch 11:   0%|          | 0/114 [00:00<?, ?batch/s]"
      ]
     },
     "metadata": {},
     "output_type": "display_data"
    },
    {
     "name": "stdout",
     "output_type": "stream",
     "text": [
      "Obtained a new best validation accuracy of 55.31, saving model checkpoint to baseline_model.pt...\n"
     ]
    },
    {
     "data": {
      "application/vnd.jupyter.widget-view+json": {
       "model_id": "0b1d7d98a00b474592d319e1af594dad",
       "version_major": 2,
       "version_minor": 0
      },
      "text/plain": [
       "epoch 12:   0%|          | 0/114 [00:00<?, ?batch/s]"
      ]
     },
     "metadata": {},
     "output_type": "display_data"
    },
    {
     "data": {
      "application/vnd.jupyter.widget-view+json": {
       "model_id": "e7c65a260f9a4269bec27e53cc21c6a6",
       "version_major": 2,
       "version_minor": 0
      },
      "text/plain": [
       "epoch 13:   0%|          | 0/114 [00:00<?, ?batch/s]"
      ]
     },
     "metadata": {},
     "output_type": "display_data"
    },
    {
     "data": {
      "application/vnd.jupyter.widget-view+json": {
       "model_id": "b99b0eb9a93d4e3094adeff88646254e",
       "version_major": 2,
       "version_minor": 0
      },
      "text/plain": [
       "epoch 14:   0%|          | 0/114 [00:00<?, ?batch/s]"
      ]
     },
     "metadata": {},
     "output_type": "display_data"
    },
    {
     "data": {
      "application/vnd.jupyter.widget-view+json": {
       "model_id": "7c62402b73414f1bae5c78398f367d94",
       "version_major": 2,
       "version_minor": 0
      },
      "text/plain": [
       "epoch 15:   0%|          | 0/114 [00:00<?, ?batch/s]"
      ]
     },
     "metadata": {},
     "output_type": "display_data"
    },
    {
     "name": "stdout",
     "output_type": "stream",
     "text": [
      "Obtained a new best validation accuracy of 55.41, saving model checkpoint to baseline_model.pt...\n",
      "Reloading best model checkpoint from baseline_model.pt...\n"
     ]
    }
   ],
   "source": [
    "# You are welcome to adjust these parameters based on your model implementation.\n",
    "num_epochs = 15\n",
    "batch_size = 256\n",
    "baseline_model = Seq2seqBaseline().to(device)\n",
    "baseline_model.load_state_dict(torch.load(\"baseline_model.pt\"))\n",
    "train(baseline_model, num_epochs, batch_size, \"baseline_model.pt\")"
   ]
  },
  {
   "cell_type": "markdown",
   "metadata": {},
   "source": [
    "**Download your baseline model here.** Once you have a model you are happy with, you are encouraged to download it or save it to your Google Drive in case your session disconnects. The best baseline model has been saved to `baseline_model.pt` in the local filesystem. You will need a trained model while implementing inference below and to generate your final predictions. To download session files from Kaggle, please click the data tab on the right side of the screen and expand the `/kaggle/working` folder. You can do a similar process in Google drive."
   ]
  },
  {
   "cell_type": "markdown",
   "metadata": {},
   "source": [
    "For evaluation, we also need to be able to generate entire strings from the model. We'll first define a greedy inference procedure here. Later on, we'll implement beam search.\n",
    "\n",
    "A correct implementation of greedy decoding should get above 20 BLEU on the validation set."
   ]
  },
  {
   "cell_type": "code",
   "execution_count": 160,
   "metadata": {
    "ExecuteTime": {
     "end_time": "2023-09-25T05:16:14.884044Z",
     "start_time": "2023-09-25T05:16:03.628247Z"
    }
   },
   "outputs": [
    {
     "name": "stdout",
     "output_type": "stream",
     "text": [
      "Baseline model validation BLEU using greedy search: 21.640662231967543\n"
     ]
    }
   ],
   "source": [
    "def predict_greedy(model, sentences, max_length=100):\n",
    "  \"\"\"Make predictions for the given inputs using greedy inference.\n",
    "\n",
    "  Args:\n",
    "    model: A sequence-to-sequence model.\n",
    "    sentences: A list of input sentences, represented as strings.\n",
    "    max_length: The maximum length at which to truncate outputs in order to\n",
    "      avoid non-terminating inference.\n",
    "\n",
    "  Returns:\n",
    "    A list of predicted translations, represented as strings.\n",
    "  \"\"\"\n",
    "\n",
    "  # Requirement: your implementation must be batched. This means that you should\n",
    "  # make only one call to model.encode() at the start of the function, and make\n",
    "  # only one call to model.decode() per inference step.\n",
    "\n",
    "  # Implementation tip: once an EOS token has been generated, force the output\n",
    "  # for that example to be padding tokens in all subsequent time steps by\n",
    "  # adding a large positive number like 1e9 to the appropriate logits.\n",
    "\n",
    "  # YOUR CODE HERE\n",
    "  batch_input = make_batch(sentences).cuda()\n",
    "  batch_size = batch_input.shape[-1]\n",
    "  decoder_input = torch.tensor([[bos_id] for i in range(batch_size)]).long()\n",
    "  decoder_input = decoder_input.transpose(0,1).cuda()\n",
    "\n",
    "  encoder_output, encoder_mask, encoder_hidden = model.encode(batch_input)\n",
    "\n",
    "  is_eos = [0 for i in range(batch_size)]\n",
    "  while decoder_input.shape[0] < max_length:\n",
    "    logits, decoder_hidden, attention_weights = model.decode(decoder_input, encoder_hidden, encoder_output, encoder_mask)\n",
    "    logits = logits[-1,:,:]\n",
    "    token_ids = torch.argmax(F.softmax(logits,-1),-1)\n",
    "\n",
    "    # flag which sentence has end\n",
    "    for index, token_id in enumerate(token_ids):\n",
    "      if token_id == eos_id:\n",
    "        is_eos[index] = 1\n",
    "\n",
    "    # if ends add 1e9 to the logit of pad\n",
    "    for index, flag in enumerate(is_eos):\n",
    "      if flag==1:\n",
    "        logits[index,pad_id]+=1e9\n",
    "\n",
    "    token_ids = torch.argmax(F.softmax(logits,-1),-1).unsqueeze(0)\n",
    "    decoder_input = torch.cat([decoder_input,token_ids],dim=0)\n",
    "\n",
    "  decoder_input = decoder_input.transpose(0,1).tolist()\n",
    "\n",
    "  translated_sentences = []\n",
    "  for sentence in decoder_input:\n",
    "    translated_sentences.append(vocab.DecodeIds(sentence))\n",
    "  return translated_sentences\n",
    "  # BEGIN SOLUTION\n",
    "\n",
    "  # END SOLUTION\n",
    "\n",
    "def evaluate(model, dataset, batch_size=64, method=\"greedy\"):\n",
    "  assert method in {\"greedy\", \"beam\"}\n",
    "  source_sentences = [example.src for example in dataset]\n",
    "  target_sentences = [example.trg for example in dataset]\n",
    "  model.eval()\n",
    "  predictions = []\n",
    "  with torch.no_grad():\n",
    "    for start_index in range(0, len(source_sentences), batch_size):\n",
    "      if method == \"greedy\":\n",
    "        prediction_batch = predict_greedy(\n",
    "            model, source_sentences[start_index:start_index + batch_size])\n",
    "      else:\n",
    "        prediction_batch = predict_beam(\n",
    "            model, source_sentences[start_index:start_index + batch_size])\n",
    "        prediction_batch = [candidates[0] for candidates in prediction_batch]\n",
    "      predictions.extend(prediction_batch)\n",
    "  return sacrebleu.corpus_bleu(predictions, [target_sentences]).score\n",
    "\n",
    "print(\"Baseline model validation BLEU using greedy search:\",\n",
    "      evaluate(baseline_model, validation_data))"
   ]
  },
  {
   "cell_type": "code",
   "execution_count": 17,
   "metadata": {
    "ExecuteTime": {
     "end_time": "2023-09-25T05:16:15.505386Z",
     "start_time": "2023-09-25T05:16:14.883741Z"
    }
   },
   "outputs": [
    {
     "name": "stdout",
     "output_type": "stream",
     "text": [
      "Baseline model sample predictions:\n",
      "\n",
      "Input:\n",
      "  Eine Gruppe von Männern lädt Baumwolle auf einen Lastwagen\n",
      "Target:\n",
      "  A group of men are loading cotton onto a truck\n",
      "Greedy prediction:\n",
      "  A group of men are looking up in a parking lot.\n",
      "\n",
      "Input:\n",
      "  Ein Mann schläft in einem grünen Raum auf einem Sofa.\n",
      "Target:\n",
      "  A man sleeping in a green room on a couch.\n",
      "Greedy prediction:\n",
      "  A man is dressed in a green shirt on a sidewalk.\n",
      "\n",
      "Input:\n",
      "  Ein Junge mit Kopfhörern sitzt auf den Schultern einer Frau.\n",
      "Target:\n",
      "  A boy wearing headphones sits on a woman's shoulders.\n",
      "Greedy prediction:\n",
      "  A boy with a child sitting on the shoulders of a woman.\n",
      "\n",
      "Input:\n",
      "  Zwei Männer bauen eine blaue Eisfischerhütte auf einem zugefrorenen See auf\n",
      "Target:\n",
      "  Two men setting up a blue ice fishing hut on an iced over lake\n",
      "Greedy prediction:\n",
      "  Two men are using a blue surface with a blue sky on it.\n",
      "\n"
     ]
    }
   ],
   "source": [
    "def show_predictions(model, num_examples=4, include_beam=False):\n",
    "  for example in validation_data[:num_examples]:\n",
    "    print(\"Input:\")\n",
    "    print(\" \", example.src)\n",
    "    print(\"Target:\")\n",
    "    print(\" \", example.trg)\n",
    "    print(\"Greedy prediction:\")\n",
    "    print(\" \", predict_greedy(model, [example.src])[0])\n",
    "    if include_beam:\n",
    "      print(\"Beam predictions:\")\n",
    "      for candidate in predict_beam(model, [example.src])[0]:\n",
    "        print(\" \", candidate)\n",
    "    print()\n",
    "\n",
    "print(\"Baseline model sample predictions:\")\n",
    "print()\n",
    "show_predictions(baseline_model)"
   ]
  },
  {
   "cell_type": "markdown",
   "metadata": {},
   "source": [
    "## Sequence-to-sequence model with attention"
   ]
  },
  {
   "cell_type": "markdown",
   "metadata": {},
   "source": [
    "Next, we extend the baseline model to include an attention mechanism in the decoder. This circumvents the need to store all information about the source sentence in a fixed-size representation, and should substantially improve performance and convergence time.\n",
    "\n",
    "Your implementation should use bilinear attention, where the attention distribution over the encoder outputs $e_1, \\dots, e_n$ given a decoder LSTM output $d$ is obtained via a softmax of the dot products after a suitable projection to get them to the same size: $w_i \\propto \\exp ( d^\\top W e_i )$. The unnormalized attention logits for encoder outputs corresponding to padding tokens should be offset with a large negative value to ensure that the corresponding attention weights are $0$.\n",
    "\n",
    "After computing the attention distribution, take a weighted sum of the projected encoder outputs to obtain the attention context $c = \\sum_i w_i We_i$, and add this to the decoder output $d$ to obtain the final representation to be passed to the vocabulary projection layer."
   ]
  },
  {
   "cell_type": "code",
   "execution_count": 62,
   "metadata": {
    "ExecuteTime": {
     "end_time": "2023-09-25T05:16:15.515943Z",
     "start_time": "2023-09-25T05:16:15.509316Z"
    }
   },
   "outputs": [],
   "source": [
    "class Seq2seqAttention(Seq2seqBaseline):\n",
    "  def __init__(self):\n",
    "    super().__init__()\n",
    "\n",
    "    # Initialize any additional parameters needed for this model that are not\n",
    "    # already included in the baseline model.\n",
    "\n",
    "    # YOUR CODE HERE\n",
    "    self.linear = nn.Linear(512,256)\n",
    "    # BEGIN SOLUTION\n",
    "    self.fc = nn.Linear(512,args['vocab_size'])\n",
    "    # END SOLUTION\n",
    "\n",
    "  def decode(self, decoder_input, initial_hidden, encoder_output, encoder_mask):\n",
    "    \"\"\"Run the decoder LSTM starting from an initial hidden state.\n",
    "\n",
    "    The third and fourth arguments are not used in the baseline model, but are\n",
    "    included for compatibility with the attention model in the next section.\n",
    "\n",
    "    Args:\n",
    "      decoder_input: An integer tensor with shape (max_decoder_sequence_length,\n",
    "        batch_size) containing the subword indices for the decoder input. During\n",
    "        evaluation, where decoding proceeds one step at a time, the initial\n",
    "        dimension should be 1.\n",
    "      initial_hidden: A pair of tensors (h_0, c_0) representing the initial\n",
    "        state of the decoder, each with shape (num_layers, batch_size,\n",
    "        hidden_size).\n",
    "      encoder_output: The output of the encoder with shape\n",
    "        (max_source_sequence_length, batch_size, 2 * hidden_size).\n",
    "      encoder_mask: The output mask from the encoder with shape\n",
    "        (max_source_sequence_length, batch_size). Encoder outputs at positions\n",
    "        with a True value correspond to padding tokens and should be ignored.\n",
    "\n",
    "    Returns:\n",
    "      A tuple with three elements:\n",
    "        logits: A tensor with shape (max_decoder_sequence_length, batch_size,\n",
    "          vocab_size) containing unnormalized scores for the next-word\n",
    "          predictions at each position.\n",
    "        decoder_hidden: A pair of tensors (h_n, c_n) with the same shape as\n",
    "          initial_hidden representing the updated decoder state after processing\n",
    "          the decoder input.\n",
    "        attention_weights: A tensor with shape (max_decoder_sequence_length,\n",
    "          batch_size, max_source_sequence_length) representing the normalized\n",
    "          attention weights. This should sum to 1 along the last dimension.\n",
    "    \"\"\"\n",
    "\n",
    "    # Implementation tip: use a large negative number like -1e9 instead of\n",
    "    # float(\"-inf\") when masking logits to avoid numerical issues.\n",
    "\n",
    "    # Implementation tip: the function torch.einsum may be useful here.\n",
    "    # See https://rockt.github.io/2018/04/30/einsum for a tutorial.\n",
    "\n",
    "    # YOUR CODE HERE\n",
    "    decoder_hidden = initial_hidden\n",
    "    decoder_input = self.embedding(decoder_input)\n",
    "    decoder_input = F.dropout(decoder_input,0.15)\n",
    "    # decoder_input = F.relu(decoder_input)\n",
    "    decoder_output, decoder_hidden = self.decoder(decoder_input,decoder_hidden)\n",
    "    decoder_hidden = (\n",
    "      decoder_hidden[0][:2,:,:],\n",
    "      decoder_hidden[1][:2,:,:]\n",
    "    )\n",
    "\n",
    "    # encoder_weighted_features = []\n",
    "    # attention_weights = []\n",
    "    # for decode_index in range(len(decoder_output)):\n",
    "    #   attention_scores = [] #attention scores per decode token\n",
    "    #   for encode_index in range(len(encoder_output)):\n",
    "    #     dot_product = self.bilinear(decoder_output[decode_index,:,:],encoder_output[encode_index,:,:])\n",
    "    #     attention_scores.append(dot_product)\n",
    "    #   attention_scores = F.softmax(torch.cat(attention_scores,-1),-1).transpose(0,1)\n",
    "    #   attention_weights.append(attention_scores.transpose(0,1).unsqueeze(0))\n",
    "    #   weighted_encode_output = torch.einsum('lbk,lb->lbk',encoder_output,attention_scores)\n",
    "    #   weighted_encode_output = weighted_encode_output.sum(0)\n",
    "    #   encoder_weighted_features.append(weighted_encode_output.unsqueeze(0))\n",
    "\n",
    "    encoder_output = self.linear(encoder_output)\n",
    "    #[len,batch,feats]\n",
    "\n",
    "    dot_product = (torch.einsum('lbd,ebd->lbe', encoder_output,decoder_output))\n",
    "    attention_weights = F.softmax(dot_product, dim=0) #[source,batch,target]\n",
    "    attention_weights = torch.einsum('lde,ld->lde',attention_weights,encoder_mask)\n",
    "\n",
    "    weighted_encoder_output = torch.einsum('lbd,lbe->ebdl', encoder_output, attention_weights) #[target, batch, dim, source]\n",
    "\n",
    "    weighted_encoder_output = weighted_encoder_output.sum(-1)\n",
    "    feature = torch.cat([weighted_encoder_output,decoder_output],-1)\n",
    "    feature = F.relu(feature)\n",
    "    feature = F.dropout(feature,0.5)\n",
    "    logits = self.fc(feature)\n",
    "\n",
    "    # BEGIN SOLUTION\n",
    "    attention_weights = attention_weights.transpose(0,2)\n",
    "    return logits,decoder_hidden,attention_weights\n",
    "    # END SOLUTION"
   ]
  },
  {
   "cell_type": "markdown",
   "metadata": {},
   "source": [
    "As before, we can train an attention model using the provided training code.\n",
    "\n",
    "A correct implementation should get a validation token accuracy above 64 and a validation BLEU above 36 with greedy search."
   ]
  },
  {
   "cell_type": "code",
   "execution_count": 65,
   "metadata": {
    "ExecuteTime": {
     "end_time": "2023-09-25T05:16:16.138456Z",
     "start_time": "2023-09-25T05:16:15.516913Z"
    }
   },
   "outputs": [
    {
     "data": {
      "application/vnd.jupyter.widget-view+json": {
       "model_id": "a0bfbe97c5eb4871ab9036419afe349b",
       "version_major": 2,
       "version_minor": 0
      },
      "text/plain": [
       "training:   0%|          | 0/20 [00:00<?, ?epoch/s]"
      ]
     },
     "metadata": {},
     "output_type": "display_data"
    },
    {
     "data": {
      "application/vnd.jupyter.widget-view+json": {
       "model_id": "8654a5736648407086878acd41842466",
       "version_major": 2,
       "version_minor": 0
      },
      "text/plain": [
       "epoch 1:   0%|          | 0/114 [00:00<?, ?batch/s]"
      ]
     },
     "metadata": {},
     "output_type": "display_data"
    },
    {
     "name": "stdout",
     "output_type": "stream",
     "text": [
      "Obtained a new best validation accuracy of 65.05, saving model checkpoint to attention_model.pt...\n"
     ]
    },
    {
     "data": {
      "application/vnd.jupyter.widget-view+json": {
       "model_id": "4422ae6057654b86bed971d7c2918b43",
       "version_major": 2,
       "version_minor": 0
      },
      "text/plain": [
       "epoch 2:   0%|          | 0/114 [00:00<?, ?batch/s]"
      ]
     },
     "metadata": {},
     "output_type": "display_data"
    },
    {
     "data": {
      "application/vnd.jupyter.widget-view+json": {
       "model_id": "5e0810e7ddef47a8835692efec6a8068",
       "version_major": 2,
       "version_minor": 0
      },
      "text/plain": [
       "epoch 3:   0%|          | 0/114 [00:00<?, ?batch/s]"
      ]
     },
     "metadata": {},
     "output_type": "display_data"
    },
    {
     "data": {
      "application/vnd.jupyter.widget-view+json": {
       "model_id": "0f97cd974b05401e94190b8698310eae",
       "version_major": 2,
       "version_minor": 0
      },
      "text/plain": [
       "epoch 4:   0%|          | 0/114 [00:00<?, ?batch/s]"
      ]
     },
     "metadata": {},
     "output_type": "display_data"
    },
    {
     "data": {
      "application/vnd.jupyter.widget-view+json": {
       "model_id": "a4fb258a48c94e388edbefa3ed28605e",
       "version_major": 2,
       "version_minor": 0
      },
      "text/plain": [
       "epoch 5:   0%|          | 0/114 [00:00<?, ?batch/s]"
      ]
     },
     "metadata": {},
     "output_type": "display_data"
    },
    {
     "name": "stdout",
     "output_type": "stream",
     "text": [
      "Obtained a new best validation accuracy of 65.07, saving model checkpoint to attention_model.pt...\n"
     ]
    },
    {
     "data": {
      "application/vnd.jupyter.widget-view+json": {
       "model_id": "43788692311b4ee7b7690cf6ba1e17c3",
       "version_major": 2,
       "version_minor": 0
      },
      "text/plain": [
       "epoch 6:   0%|          | 0/114 [00:00<?, ?batch/s]"
      ]
     },
     "metadata": {},
     "output_type": "display_data"
    },
    {
     "name": "stdout",
     "output_type": "stream",
     "text": [
      "Obtained a new best validation accuracy of 65.12, saving model checkpoint to attention_model.pt...\n"
     ]
    },
    {
     "data": {
      "application/vnd.jupyter.widget-view+json": {
       "model_id": "eac7bd70db774eb3a25c834bdd7abfbb",
       "version_major": 2,
       "version_minor": 0
      },
      "text/plain": [
       "epoch 7:   0%|          | 0/114 [00:00<?, ?batch/s]"
      ]
     },
     "metadata": {},
     "output_type": "display_data"
    },
    {
     "data": {
      "application/vnd.jupyter.widget-view+json": {
       "model_id": "c9a5ea6f014448b0a19ca440e1c7ea82",
       "version_major": 2,
       "version_minor": 0
      },
      "text/plain": [
       "epoch 8:   0%|          | 0/114 [00:00<?, ?batch/s]"
      ]
     },
     "metadata": {},
     "output_type": "display_data"
    },
    {
     "name": "stdout",
     "output_type": "stream",
     "text": [
      "Obtained a new best validation accuracy of 65.48, saving model checkpoint to attention_model.pt...\n"
     ]
    },
    {
     "data": {
      "application/vnd.jupyter.widget-view+json": {
       "model_id": "06a39f1f757c4b1f9c590a8fb977e745",
       "version_major": 2,
       "version_minor": 0
      },
      "text/plain": [
       "epoch 9:   0%|          | 0/114 [00:00<?, ?batch/s]"
      ]
     },
     "metadata": {},
     "output_type": "display_data"
    },
    {
     "name": "stdout",
     "output_type": "stream",
     "text": [
      "Obtained a new best validation accuracy of 65.54, saving model checkpoint to attention_model.pt...\n"
     ]
    },
    {
     "data": {
      "application/vnd.jupyter.widget-view+json": {
       "model_id": "5dd912a0dd894231bb71b5396033f9b0",
       "version_major": 2,
       "version_minor": 0
      },
      "text/plain": [
       "epoch 10:   0%|          | 0/114 [00:00<?, ?batch/s]"
      ]
     },
     "metadata": {},
     "output_type": "display_data"
    },
    {
     "data": {
      "application/vnd.jupyter.widget-view+json": {
       "model_id": "9c85c313d17f4760a38c8acb869cd8f5",
       "version_major": 2,
       "version_minor": 0
      },
      "text/plain": [
       "epoch 11:   0%|          | 0/114 [00:00<?, ?batch/s]"
      ]
     },
     "metadata": {},
     "output_type": "display_data"
    },
    {
     "data": {
      "application/vnd.jupyter.widget-view+json": {
       "model_id": "293310a1b563431b86412732430ccd75",
       "version_major": 2,
       "version_minor": 0
      },
      "text/plain": [
       "epoch 12:   0%|          | 0/114 [00:00<?, ?batch/s]"
      ]
     },
     "metadata": {},
     "output_type": "display_data"
    },
    {
     "data": {
      "application/vnd.jupyter.widget-view+json": {
       "model_id": "babec05ae5ea4d42b86e82ef87d41364",
       "version_major": 2,
       "version_minor": 0
      },
      "text/plain": [
       "epoch 13:   0%|          | 0/114 [00:00<?, ?batch/s]"
      ]
     },
     "metadata": {},
     "output_type": "display_data"
    },
    {
     "data": {
      "application/vnd.jupyter.widget-view+json": {
       "model_id": "1e7adda3e6aa4445845ad95debdd161c",
       "version_major": 2,
       "version_minor": 0
      },
      "text/plain": [
       "epoch 14:   0%|          | 0/114 [00:00<?, ?batch/s]"
      ]
     },
     "metadata": {},
     "output_type": "display_data"
    },
    {
     "name": "stdout",
     "output_type": "stream",
     "text": [
      "Obtained a new best validation accuracy of 65.56, saving model checkpoint to attention_model.pt...\n"
     ]
    },
    {
     "data": {
      "application/vnd.jupyter.widget-view+json": {
       "model_id": "680e00f202c24cd080adfd272af452f5",
       "version_major": 2,
       "version_minor": 0
      },
      "text/plain": [
       "epoch 15:   0%|          | 0/114 [00:00<?, ?batch/s]"
      ]
     },
     "metadata": {},
     "output_type": "display_data"
    },
    {
     "data": {
      "application/vnd.jupyter.widget-view+json": {
       "model_id": "a52612e6d2884342a8cc582dd827a88b",
       "version_major": 2,
       "version_minor": 0
      },
      "text/plain": [
       "epoch 16:   0%|          | 0/114 [00:00<?, ?batch/s]"
      ]
     },
     "metadata": {},
     "output_type": "display_data"
    },
    {
     "data": {
      "application/vnd.jupyter.widget-view+json": {
       "model_id": "758c46eed1a4434abbf89a45078a86e3",
       "version_major": 2,
       "version_minor": 0
      },
      "text/plain": [
       "epoch 17:   0%|          | 0/114 [00:00<?, ?batch/s]"
      ]
     },
     "metadata": {},
     "output_type": "display_data"
    },
    {
     "name": "stdout",
     "output_type": "stream",
     "text": [
      "Obtained a new best validation accuracy of 65.60, saving model checkpoint to attention_model.pt...\n"
     ]
    },
    {
     "data": {
      "application/vnd.jupyter.widget-view+json": {
       "model_id": "d72b07b1ccee4d7c80defd84ee59a51d",
       "version_major": 2,
       "version_minor": 0
      },
      "text/plain": [
       "epoch 18:   0%|          | 0/114 [00:00<?, ?batch/s]"
      ]
     },
     "metadata": {},
     "output_type": "display_data"
    },
    {
     "data": {
      "application/vnd.jupyter.widget-view+json": {
       "model_id": "cea20ca0e478427fa10e470e7d5f331f",
       "version_major": 2,
       "version_minor": 0
      },
      "text/plain": [
       "epoch 19:   0%|          | 0/114 [00:00<?, ?batch/s]"
      ]
     },
     "metadata": {},
     "output_type": "display_data"
    },
    {
     "data": {
      "application/vnd.jupyter.widget-view+json": {
       "model_id": "2c9f3819a19b4f32835a9860bbb2a17e",
       "version_major": 2,
       "version_minor": 0
      },
      "text/plain": [
       "epoch 20:   0%|          | 0/114 [00:00<?, ?batch/s]"
      ]
     },
     "metadata": {},
     "output_type": "display_data"
    },
    {
     "name": "stdout",
     "output_type": "stream",
     "text": [
      "Obtained a new best validation accuracy of 65.71, saving model checkpoint to attention_model.pt...\n",
      "Reloading best model checkpoint from attention_model.pt...\n",
      "Attention model validation BLEU using greedy search: 36.445079436831506\n"
     ]
    }
   ],
   "source": [
    "# You are welcome to adjust these parameters based on your model implementation.\n",
    "num_epochs = 20\n",
    "batch_size = 256\n",
    "\n",
    "attention_model = Seq2seqAttention().to(device)\n",
    "attention_model.load_state_dict(torch.load(\"attention_model.pt\"))\n",
    "train(attention_model, num_epochs, batch_size, \"attention_model.pt\")\n",
    "print(\"Attention model validation BLEU using greedy search:\",\n",
    "      evaluate(attention_model, validation_data))"
   ]
  },
  {
   "cell_type": "markdown",
   "metadata": {},
   "source": [
    "**Download your attention model here.** Once you have a model you are happy with, you are encouraged to download it or save it to your Google Drive in case your session disconnects. The best attention model has been saved to `attention_model.pt` in the local filesystem. You will need a trained model while implementing beam search below and to generate your final predictions.\n"
   ]
  },
  {
   "cell_type": "code",
   "execution_count": 20,
   "metadata": {
    "ExecuteTime": {
     "end_time": "2023-09-25T05:16:26.405898Z",
     "start_time": "2023-09-25T05:16:16.146570Z"
    }
   },
   "outputs": [
    {
     "name": "stdout",
     "output_type": "stream",
     "text": [
      "Attention model validation BLEU using greedy search: 35.741365580701334\n",
      "\n",
      "Attention model sample predictions:\n",
      "\n",
      "Input:\n",
      "  Eine Gruppe von Männern lädt Baumwolle auf einen Lastwagen\n",
      "Target:\n",
      "  A group of men are loading cotton onto a truck\n",
      "Greedy prediction:\n",
      "  A group of men are loaded to keep onto a gray truck.\n",
      "\n",
      "Input:\n",
      "  Ein Mann schläft in einem grünen Raum auf einem Sofa.\n",
      "Target:\n",
      "  A man sleeping in a green room on a couch.\n",
      "Greedy prediction:\n",
      "  A man sleeping on a couch in a green room.\n",
      "\n",
      "Input:\n",
      "  Ein Junge mit Kopfhörern sitzt auf den Schultern einer Frau.\n",
      "Target:\n",
      "  A boy wearing headphones sits on a woman's shoulders.\n",
      "Greedy prediction:\n",
      "  A boy with heads sits on the shoulders of a woman's shoulders.\n",
      "\n",
      "Input:\n",
      "  Zwei Männer bauen eine blaue Eisfischerhütte auf einem zugefrorenen See auf\n",
      "Target:\n",
      "  Two men setting up a blue ice fishing hut on an iced over lake\n",
      "Greedy prediction:\n",
      "  Two men are building a blue-poutere is on a heavily lit lake lake.\n",
      "\n"
     ]
    }
   ],
   "source": [
    "print(\"Attention model validation BLEU using greedy search:\",\n",
    "      evaluate(attention_model, validation_data))\n",
    "print()\n",
    "print(\"Attention model sample predictions:\")\n",
    "print()\n",
    "show_predictions(attention_model)"
   ]
  },
  {
   "cell_type": "markdown",
   "metadata": {},
   "source": [
    "## Beam Search"
   ]
  },
  {
   "cell_type": "markdown",
   "metadata": {},
   "source": [
    "Now it's time to implement beam search.\n",
    "\n",
    "Similar to greedy search, beam search generates one token at a time. However, rather than keeping only the single best hypothesis, we instead keep the top $k$ candidates at each time step. This is accomplished by computing the set of next-token extensions for each item on the beam and finding the top $k$ across all candidates according to total log-probability.\n",
    "\n",
    "Candidates that are finished should stay on the beam through the end of inference. The search process concludes once all $k$ items on the beam are complete.\n",
    "\n",
    "With beam search, you should get an improvement of at least 0.5 BLEU over greedy search, and should reach above 21 BLEU without attention and above 37 BLEU with attention.\n",
    "\n",
    "**Tips:**\n",
    "\n",
    "1) A good general strategy when doing complex code like this is to carefully annotate each line with a comment saying what each dimension represents.\n",
    "\n",
    "2) You should only need one call to topk per step. You do not need to have a topk just over vocabulary first, you can directly go from vocab_size*beam_size to beam_size items.\n",
    "\n",
    "3) Be sure you are correctly keeping track of which beam item a candidate is selected from and updating the beam states, such as LSTM hidden state, accordingly. A single state from the previous time step may need to be used for multiple new beam items or not at all. This includes all state associated with a beam, including all past tokens output by the beam and any extra tensors such as ones remembering when a beam is finished.\n",
    "\n",
    "4) Pay attention to how you interleave things when using a single dimension to represent multiple things.  It will make a difference when you start reshaping to separate them out.  It may be easier to start with everything separate, then temporarily combine as needed.\n",
    "\n",
    "5) For efficiency, we suggest that you implement all beam manipulations using batched PyTorch computations rather than Python for-loops.\n",
    "\n",
    "6) Once an EOS token has been generated, force the output for that candidate to be padding tokens in all subsequent time steps by adding a large positive number like 1e9 to the appropriate logits. This will ensure that the candidate stays on the beam, as its probability will be very close to 1 and its score will effectively remain the same as when it was first completed.  All other (invalid) token continuations will have extremely low log probability and will not make it onto the beam.\n",
    "\n",
    "7) While you are encouraged to keep your tensor dimensions constant for simplicity (aside from the sequence length), some special care will need to be taken on the first iteration to ensure that your beam doesn't fill up with k identical copies of the same candidate.\n"
   ]
  },
  {
   "cell_type": "code",
   "execution_count": 185,
   "metadata": {
    "ExecuteTime": {
     "end_time": "2023-09-26T17:01:32.571186Z",
     "start_time": "2023-09-26T17:01:32.294800Z"
    }
   },
   "outputs": [
    {
     "name": "stdout",
     "output_type": "stream",
     "text": [
      "Baseline model validation BLEU using beam search: 23.47300429470428\n",
      "\n",
      "Baseline model sample predictions:\n",
      "\n",
      "Input:\n",
      "  Eine Gruppe von Männern lädt Baumwolle auf einen Lastwagen\n",
      "Target:\n",
      "  A group of men are loading cotton onto a truck\n",
      "Greedy prediction:\n",
      "  A group of men are picking up a tree.\n",
      "Beam predictions:\n",
      "  A group of men are picking up on a tree.\n",
      "  A group of men are picking up on a sidewalk.\n",
      "  A group of men are picking up onto a tree.\n",
      "  A group of men are picking up onto a brick building.\n",
      "  A group of men are picking up onto a wooden building.\n",
      "\n",
      "Input:\n",
      "  Ein Mann schläft in einem grünen Raum auf einem Sofa.\n",
      "Target:\n",
      "  A man sleeping in a green room on a couch.\n",
      "Greedy prediction:\n",
      "  A man in a green shirt is holding a green room.\n",
      "Beam predictions:\n",
      "  A man is sleeping on a green room in a room.\n",
      "  A man is asleep on a green room in a room.\n",
      "  A man is sleeping in a green room on a sidewalk.\n",
      "  A man is sleeping in a green room on a green room.\n",
      "  A man is sleeping in a green room with a green train.\n",
      "\n",
      "Input:\n",
      "  Ein Junge mit Kopfhörern sitzt auf den Schultern einer Frau.\n",
      "Target:\n",
      "  A boy wearing headphones sits on a woman's shoulders.\n",
      "Greedy prediction:\n",
      "  A boy with a backpack sitting on the sidewalk next to a woman.\n",
      "Beam predictions:\n",
      "  A young boy sits on the sidewalk next to a woman.\n",
      "  A young boy sitting on the sidewalk next to a woman.\n",
      "  A young boy sits on the sidewalk with a woman's face.\n",
      "  A young boy sits on the sidewalk next to a woman's face.\n",
      "  A young boy sits on the sidewalk next to a woman's hand.\n",
      "\n",
      "Input:\n",
      "  Zwei Männer bauen eine blaue Eisfischerhütte auf einem zugefrorenen See auf\n",
      "Target:\n",
      "  Two men setting up a blue ice fishing hut on an iced over lake\n",
      "Greedy prediction:\n",
      "  Two men are performing a blue ball in a large area with a sunnym.\n",
      "Beam predictions:\n",
      "  Two men are carrying a blue race on a sunny day at a sunny day.\n",
      "  Two men are carrying a blue race on a sunny day with a sunny day.\n",
      "  Two men are carrying a blue ball on a sunny day with a sunny day.\n",
      "  Two men are carrying a blue shirt on a sunny day with a sunny day.\n",
      "  Two men are carrying a blue line on a sunny day with a sunny day.\n",
      "\n"
     ]
    }
   ],
   "source": [
    "def predict_beam(model, sentences, k=5, max_length=100):\n",
    "  batch_input = make_batch(sentences).cuda()\n",
    "  encoder_output, encoder_mask, encoder_hidden = model.encode(batch_input)\n",
    "    \n",
    "  encoder_output = torch.repeat_interleave(encoder_output, k,1)\n",
    "  encoder_mask = torch.repeat_interleave(encoder_mask, k,1)\n",
    "\n",
    "  initial_sentence = torch.ones(1, len(sentences), dtype=torch.int64).cuda() * bos_id\n",
    "\n",
    "  logits, (encoder_h_n, encoder_c_n), _ = model.decode(\n",
    "      initial_sentence, encoder_hidden, encoder_output, encoder_mask\n",
    "  )\n",
    "\n",
    "  tpk_v, tpk_inds = torch.topk(F.log_softmax(logits, -1), k, -1) #1 batch k\n",
    "  scores = tpk_v.permute(1,2,0)\n",
    "\n",
    "\n",
    "  encoder_h_n, encoder_c_n = torch.repeat_interleave(encoder_h_n, k,1),torch.repeat_interleave(encoder_c_n, k,1)\n",
    "  current_seq = torch.cat(\n",
    "      [torch.ones(1, len(sentences) * k, dtype=torch.int64).cuda() * bos_id,\n",
    "       tpk_inds.reshape(1, batch_input.shape[1] * k)],\n",
    "      dim=0\n",
    "  )\n",
    "    \n",
    "  eos_mask = batch_input.new_zeros(1, k * len(sentences), dtype=torch.int64)\n",
    "  h_n, c_n = (encoder_h_n, encoder_c_n)\n",
    "\n",
    "  while current_seq.shape[0]<max_length-1:\n",
    "    logits, (h_n, c_n), _ = model.decode(\n",
    "        current_seq[-1:, :], (h_n, c_n), encoder_output, encoder_mask\n",
    "    )\n",
    "    log_prob = torch.log(F.softmax(logits, dim=-1))\n",
    "    \n",
    "\n",
    "    new_scores = scores + log_prob.reshape(batch_input.shape[1], k, args[\"vocab_size\"])\n",
    "    tpk_v, topk_indices = torch.topk(new_scores.view(batch_input.shape[1],args[\"vocab_size\"] * k), k, dim=1)\n",
    "    hidden_indices = topk_indices // args[\"vocab_size\"] # 1 of k\n",
    "    token_indices = topk_indices % args[\"vocab_size\"] # 1 of vocab_size\n",
    "    \n",
    "    scores = tpk_v.reshape(batch_input.shape[1], k, 1)\n",
    "\n",
    "    \n",
    "\n",
    "    def get_child(seq,h_n,c_n,eos_mask):\n",
    "        return {'seq': seq, 'h_n':h_n, 'c_n':c_n, 'eos_mask':eos_mask}\n",
    "    \n",
    "    children_items = []\n",
    "    for bi in range(batch_input.shape[1]):#iterate sentences\n",
    "      for ki in range(k): # expand children\n",
    "        viewed_index = hidden_indices[bi, ki] + k * bi\n",
    "        item = get_child(\n",
    "            current_seq[:,viewed_index],\n",
    "            h_n[:, viewed_index, :],\n",
    "            c_n[:, viewed_index, :],\n",
    "            eos_mask[:, viewed_index]\n",
    "        )\n",
    "        children_items.append(item)\n",
    "    \n",
    "    current_seq = torch.stack([item['seq'] for item in children_items], dim=1)\n",
    "    h_n,c_n = torch.stack([item['h_n'] for item in children_items], dim=1), torch.stack([item['c_n'] for item in children_items], dim=1)\n",
    "    eos_mask = torch.stack([item['eos_mask'] for item in children_items], dim=1)\n",
    "\n",
    "    last_seq = token_indices.reshape(1, batch_input.shape[1] * k)\n",
    "    last_seq = torch.abs(eos_mask-1) * last_seq + eos_id * eos_mask\n",
    "    eos_mask = (last_seq == eos_id).int()\n",
    "    current_seq = torch.cat([current_seq, last_seq], dim=0)\n",
    "\n",
    "  current_seq = current_seq.reshape(-1, batch_input.shape[1], k).cpu().numpy()\n",
    "\n",
    "  return [[vocab.DecodeIds(current_seq[:, i, j].tolist()) for j in range(k)]for i in range(batch_input.shape[1])]\n",
    "\n",
    "\n",
    "\n",
    "\n",
    "print(\"Baseline model validation BLEU using beam search:\",\n",
    "      evaluate(baseline_model, validation_data, method=\"beam\"))\n",
    "print()\n",
    "print(\"Baseline model sample predictions:\")\n",
    "print()\n",
    "show_predictions(baseline_model, include_beam=True)"
   ]
  },
  {
   "cell_type": "code",
   "execution_count": 72,
   "metadata": {},
   "outputs": [
    {
     "name": "stdout",
     "output_type": "stream",
     "text": [
      "Attention model validation BLEU using beam search: 37.994755709255486\n",
      "\n",
      "Attention model sample predictions:\n",
      "\n",
      "Input:\n",
      "  Eine Gruppe von Männern lädt Baumwolle auf einen Lastwagen\n",
      "Target:\n",
      "  A group of men are loading cotton onto a truck\n",
      "Greedy prediction:\n",
      "  A group of men loading a truck on a truck.\n",
      "Beam predictions:\n",
      "  A group of men filling a truck loaded truck\n",
      "  A group of men filling a truck loaded truck.\n",
      "  A group of men filling a truck loading tent\n",
      "  A group of men filling a truck loaded trucks.\n",
      "  A group of men filling a truck loading a truck\n",
      "\n",
      "Input:\n",
      "  Ein Mann schläft in einem grünen Raum auf einem Sofa.\n",
      "Target:\n",
      "  A man sleeping in a green room on a couch.\n",
      "Greedy prediction:\n",
      "  A man sleeping on a couch in a green room.\n",
      "Beam predictions:\n",
      "  A man sleeping on a couch in a green room.\n",
      "  A man sleeps on a couch in a green room.\n",
      "  A man sleeping on a couch in a green room\n",
      "  A man sleeping in a green room on a couch.\n",
      "  A man is sleeping on a couch in a green room.\n",
      "\n",
      "Input:\n",
      "  Ein Junge mit Kopfhörern sitzt auf den Schultern einer Frau.\n",
      "Target:\n",
      "  A boy wearing headphones sits on a woman's shoulders.\n",
      "Greedy prediction:\n",
      "  A boy with headphones sitting on the shoulders of a woman's shoulders.\n",
      "Beam predictions:\n",
      "  A boy in headphones sits on the shoulders of a woman.\n",
      "  A boy wearing headphones is sitting on the shoulders of a woman.\n",
      "  A boy wearing headphones sits on his shoulders of a woman.\n",
      "  A boy in headphones is sitting on the shoulders of a woman.\n",
      "  A boy with earphones is sitting on the shoulders as a woman with headphones sits on the shoulders.\n",
      "\n",
      "Input:\n",
      "  Zwei Männer bauen eine blaue Eisfischerhütte auf einem zugefrorenen See auf\n",
      "Target:\n",
      "  Two men setting up a blue ice fishing hut on an iced over lake\n",
      "Greedy prediction:\n",
      "  Two men are building a blue iceon at a flooded lake that has a scened lake.\n",
      "Beam predictions:\n",
      "  Two men are putting up a blue truck on a lakey lake.\n",
      "  Two men are putting up a blue truck on a boat with a few lake.\n",
      "  Two men are putting up a blue truck on a lakey lake.\n",
      "  Two men are putting up a blue truck on a lakey lake.\n",
      "  Two men are putting up a blue truck on a lakey lake.\n",
      "\n"
     ]
    }
   ],
   "source": [
    "print(\"Attention model validation BLEU using beam search:\",\n",
    "      evaluate(attention_model, validation_data, method=\"beam\"))\n",
    "print()\n",
    "print(\"Attention model sample predictions:\")\n",
    "print()\n",
    "show_predictions(attention_model, include_beam=True)"
   ]
  },
  {
   "cell_type": "markdown",
   "metadata": {},
   "source": [
    "## Attention visualization: 1-Page Analysis"
   ]
  },
  {
   "cell_type": "markdown",
   "metadata": {},
   "source": [
    "Once you have everything working in the sections above, add some code here to visualize the decoder attention learned by the attention model using `matplotlib`.\n",
    "\n",
    "You may visualize decoder attention on gold source-target pairs from the validation data. You do not need to run any inference.\n",
    "\n",
    "For this section, you will submit a write-up interpreting attention maps generated by your model. Your write-up should be 1-page maximum in length and should be submitted in PDF format. You may use any editor you like, but we recommend using LaTeX and working in an environment like Overleaf. For full credit, your write-up should include:\n",
    "\n",
    "* A figure with attention map plots for 4 sentence pairs from the validation set (the method `imshow`, or equivalent, will likely be useful here). We encourage you to look through more maps to aid your analysis, but please only include 4 representative plots in the figure.\n",
    "* A brief discussion over trends you discover in the plots. Do the maps line up with your intuition, are there any surprising alignments? Are there any many-to-one or many-to-many alignments, or mainly one-to-one? Using a tool like Google Translate on substrings may help give some insight into this.\n",
    "\n",
    "When you submit the file, please name it report.pdf."
   ]
  },
  {
   "cell_type": "code",
   "execution_count": 182,
   "metadata": {},
   "outputs": [
    {
     "data": {
      "image/png": "[encoded data removed]",
      "text/plain": [
       "<Figure size 1000x1000 with 1 Axes>"
      ]
     },
     "metadata": {},
     "output_type": "display_data"
    },
    {
     "data": {
      "image/png": "[encoded data removed]",
      "text/plain": [
       "<Figure size 1000x1000 with 1 Axes>"
      ]
     },
     "metadata": {},
     "output_type": "display_data"
    },
    {
     "data": {
      "image/png": "[encoded data removed]",
      "text/plain": [
       "<Figure size 1000x1000 with 1 Axes>"
      ]
     },
     "metadata": {},
     "output_type": "display_data"
    },
    {
     "data": {
      "image/png": "[encoded data removed]",
      "text/plain": [
       "<Figure size 1000x1000 with 1 Axes>"
      ]
     },
     "metadata": {},
     "output_type": "display_data"
    }
   ],
   "source": [
    "# You may find the following annotated heatmap tutorial helpful:\n",
    "# https://matplotlib.org/3.1.3/gallery/images_contours_and_fields/image_annotated_heatmap.html.\n",
    "\n",
    "# YOUR CODE HERE\n",
    "def test(model, sentences, targets, max_length=50):\n",
    "  batch_input = make_batch(sentences).cuda()\n",
    "  decoder_input = make_batch(targets).cuda()\n",
    "\n",
    "  batch_size = batch_input.shape[-1]\n",
    "  # decoder_input = torch.tensor([[bos_id] for i in range(batch_size)]).long()\n",
    "  # decoder_input = decoder_input.transpose(0,1).cuda()\n",
    "\n",
    "  encoder_output, encoder_mask, encoder_hidden = model.encode(batch_input)\n",
    "  logits, decoder_hidden, attention_weights = model.decode(decoder_input, encoder_hidden, encoder_output, encoder_mask)\n",
    "\n",
    "#   is_eos = [0 for i in range(batch_size)]\n",
    "#   while decoder_input.shape[0] < max_length:\n",
    "#     logits, decoder_hidden, attention_weights = model.decode(decoder_input, encoder_hidden, encoder_output, encoder_mask)\n",
    "#     logits = logits[-1,:,:]\n",
    "#     token_ids = torch.argmax(F.softmax(logits,-1),-1)\n",
    "\n",
    "#     # flag which sentence has end\n",
    "#     for index, token_id in enumerate(token_ids):\n",
    "#       if token_id == eos_id:\n",
    "#         is_eos[index] = 1\n",
    "#     # if ends add 1e9 to the logit of pad\n",
    "#     for index, flag in enumerate(is_eos):\n",
    "#       if flag==1:\n",
    "#         logits[index,pad_id]+=1e9\n",
    "\n",
    "#     token_ids = torch.argmax(F.softmax(logits,-1),-1).unsqueeze(0)\n",
    "#     decoder_input = torch.cat([decoder_input,token_ids],dim=0)\n",
    "  \n",
    "  lengths = ((decoder_input != pad_id).sum(0))\n",
    "  decoder_input = decoder_input.transpose(0,1).tolist()\n",
    "\n",
    "  return batch_input,decoder_input,attention_weights,lengths\n",
    "\n",
    "test_data = [i.src for i in validation_data[30:34]]\n",
    "test_targets = [i.trg for i in validation_data[30:34]]\n",
    "batch_input,decoder_input,attention_weights,lengths = test(attention_model,test_data,test_targets)\n",
    "input_lengths = ((batch_input != pad_id).sum(0))\n",
    "batch_input = batch_input.transpose(1,0).tolist()\n",
    "translated = decoder_input\n",
    "\n",
    "for index in range(4):\n",
    "    plt.figure(figsize=(5,5),dpi=200)\n",
    "    plt.yticks(range(len(batch_input[index][:input_lengths[index]])), [vocab.id_to_piece(i) for i in batch_input[index][:input_lengths[index]]])\n",
    "    plt.xticks(range(len(decoder_input[index][:lengths[index]])),[vocab.id_to_piece(i) for i in decoder_input[index][:lengths[index]]],rotation=45)\n",
    "    plt.imshow(attention_weights.detach().cpu().numpy()[:lengths[index],index,:input_lengths[index]].transpose(1,0))\n",
    "    plt.savefig(f'{index}.png')\n",
    "    plt.show()\n",
    "    "
   ]
  },
  {
   "cell_type": "markdown",
   "metadata": {},
   "source": [
    " - Most of the time, attention is one to one.\n",
    " - But in some of the words which its format should consider number, time, or gender, the attentions are usually many to one.\n",
    "     - Verb tokens have strong relation to time sence, like serv**ing**, ic**ed**, and jump**ing**.\n",
    "     - Noun tokens have strong relation to number, like drink**s** and **a wall**.\n",
    " "
   ]
  },
  {
   "cell_type": "markdown",
   "metadata": {},
   "source": [
    "## Submission"
   ]
  },
  {
   "cell_type": "markdown",
   "metadata": {},
   "source": [
    "Turn in the following files on Gradescope:\n",
    "* hw2a.ipynb (IBM alignment notebook)\n",
    "* example_alignments.pkl (generated from part 2a)\n",
    "* multi20k_alignments.pkl (generated from part 2a)\n",
    "* hw2b.ipynb (this notebook)\n",
    "* predictions.json (the predictions file generated by running the cell below)\n",
    "* report.pdf\n",
    "\n",
    "Be sure to check the output of the autograder after it runs.  It should confirm that no files are missing and that the output files have the correct format.\n",
    "\n",
    "The code below will generate the required predictions file.  **Note** that it is designed to create the file even if some required elements are missing so that you can submit for partial credit.  If you want full credit, you should check the output to make sure there are no warnings indicating missing portions."
   ]
  },
  {
   "cell_type": "code",
   "execution_count": 73,
   "metadata": {},
   "outputs": [
    {
     "name": "stdout",
     "output_type": "stream",
     "text": [
      "Getting predictions for baseline model on validation set using greedy search...\n",
      "Getting predictions for baseline model on validation set using beam search...\n",
      "Getting predictions for baseline model on test set using greedy search...\n",
      "Getting predictions for baseline model on test set using beam search...\n",
      "Getting predictions for attention model on validation set using greedy search...\n",
      "Getting predictions for attention model on validation set using beam search...\n",
      "Getting predictions for attention model on test set using greedy search...\n",
      "Getting predictions for attention model on test set using beam search...\n",
      "Writing predictions to predictions.json...\n",
      "Finished writing predictions to predictions.json.\n"
     ]
    }
   ],
   "source": [
    "# Run this cell to generate the predictions.json file required for submission.\n",
    "\n",
    "def get_raw_predictions(model, dataset, method, batch_size=64):\n",
    "  assert method in {\"greedy\", \"beam\"}\n",
    "  source_sentences = [example.src for example in dataset]\n",
    "  target_sentences = [example.trg for example in dataset]\n",
    "  model.eval()\n",
    "  predictions = []\n",
    "  with torch.no_grad():\n",
    "    for start_index in range(0, len(source_sentences), batch_size):\n",
    "      if method == \"greedy\":\n",
    "        prediction_batch = predict_greedy(\n",
    "            model, source_sentences[start_index:start_index + batch_size])\n",
    "      else:\n",
    "        prediction_batch = predict_beam(\n",
    "            model, source_sentences[start_index:start_index + batch_size])\n",
    "      predictions.extend(prediction_batch)\n",
    "  return predictions\n",
    "\n",
    "def generate_predictions_file_for_submission(filepath):\n",
    "  models = {\"baseline\": baseline_model, \"attention\": attention_model}\n",
    "  datasets = {\"validation\": validation_data, \"test\": test_data}\n",
    "  methods = [\"greedy\", \"beam\"]\n",
    "  predictions = {}\n",
    "  for model_name, model in models.items():\n",
    "    for dataset_name, dataset in datasets.items():\n",
    "      for method in methods:\n",
    "        print(\n",
    "            \"Getting predictions for {} model on {} set using {} \"\n",
    "            \"search...\".format(model_name, dataset_name, method))\n",
    "        if model_name not in predictions:\n",
    "          predictions[model_name] = {}\n",
    "        if dataset_name not in predictions[model_name]:\n",
    "          predictions[model_name][dataset_name] = {}\n",
    "        try:\n",
    "          predictions[model_name][dataset_name][method] = get_raw_predictions(\n",
    "              model, dataset, method)\n",
    "        except:\n",
    "          print(\"!!! WARNING: An exception was raised, setting predictions to None !!!\")\n",
    "          predictions[model_name][dataset_name][method] = None\n",
    "  print(\"Writing predictions to {}...\".format(filepath))\n",
    "  with open(filepath, \"w\") as outfile:\n",
    "    json.dump(predictions, outfile, indent=2)\n",
    "  print(\"Finished writing predictions to {}.\".format(filepath))\n",
    "\n",
    "generate_predictions_file_for_submission(\"predictions.json\")"
   ]
  }
 ],
 "metadata": {
  "kernelspec": {
   "display_name": "py37",
   "language": "python",
   "name": "py37"
  },
  "language_info": {
   "codemirror_mode": {
    "name": "ipython",
    "version": 3
   },
   "file_extension": ".py",
   "mimetype": "text/x-python",
   "name": "python",
   "nbconvert_exporter": "python",
   "pygments_lexer": "ipython3",
   "version": "3.7.16"
  }
 },
 "nbformat": 4,
 "nbformat_minor": 4
}
